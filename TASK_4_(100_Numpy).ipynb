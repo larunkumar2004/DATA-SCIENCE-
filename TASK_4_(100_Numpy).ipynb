{
  "cells": [
    {
      "cell_type": "markdown",
      "metadata": {
        "id": "view-in-github",
        "colab_type": "text"
      },
      "source": [
        "<a href=\"https://colab.research.google.com/github/larunkumar2004/DATA-SCIENCE-/blob/main/TASK_4_(100_Numpy).ipynb\" target=\"_parent\"><img src=\"https://colab.research.google.com/assets/colab-badge.svg\" alt=\"Open In Colab\"/></a>"
      ]
    },
    {
      "cell_type": "markdown",
      "metadata": {
        "id": "f44a2f2b"
      },
      "source": [
        "# 100 numpy exercises\n"
      ],
      "id": "f44a2f2b"
    },
    {
      "cell_type": "markdown",
      "metadata": {
        "id": "0fe3d529"
      },
      "source": [
        "File automatically generated. See the documentation to update questions/answers/hints programmatically."
      ],
      "id": "0fe3d529"
    },
    {
      "cell_type": "markdown",
      "metadata": {
        "id": "23296a93"
      },
      "source": [
        "Run the `initialize.py` module, then for each question you can query the\n",
        "answer or an hint with `hint(n)` or `answer(n)` for `n` question number."
      ],
      "id": "23296a93"
    },
    {
      "cell_type": "markdown",
      "metadata": {
        "id": "96443564"
      },
      "source": [
        "#### 1. Import the numpy package under the name `np` (★☆☆)"
      ],
      "id": "96443564"
    },
    {
      "cell_type": "code",
      "execution_count": null,
      "metadata": {
        "id": "ffe1047e"
      },
      "outputs": [],
      "source": [
        "import numpy as np"
      ],
      "id": "ffe1047e"
    },
    {
      "cell_type": "markdown",
      "metadata": {
        "id": "c807bf1d"
      },
      "source": [
        "#### 2. Print the numpy version and the configuration (★☆☆)"
      ],
      "id": "c807bf1d"
    },
    {
      "cell_type": "code",
      "execution_count": null,
      "metadata": {
        "colab": {
          "base_uri": "https://localhost:8080/"
        },
        "id": "f396b717",
        "outputId": "72a5504f-94de-46f9-e2d0-95f44d263642"
      },
      "outputs": [
        {
          "name": "stdout",
          "output_type": "stream",
          "text": [
            "1.23.5\n"
          ]
        }
      ],
      "source": [
        "print(np. __version__)"
      ],
      "id": "f396b717"
    },
    {
      "cell_type": "markdown",
      "metadata": {
        "id": "572c1bdb"
      },
      "source": [
        "#### 3. Create a null vector of size 10 (★☆☆)"
      ],
      "id": "572c1bdb"
    },
    {
      "cell_type": "code",
      "execution_count": null,
      "metadata": {
        "colab": {
          "base_uri": "https://localhost:8080/"
        },
        "id": "31c9f6a5",
        "outputId": "70a5fcf6-46ea-4826-e27c-a8b12ad684b1"
      },
      "outputs": [
        {
          "name": "stdout",
          "output_type": "stream",
          "text": [
            "[0. 0. 0. 0. 0. 0. 0. 0. 0. 0.]\n"
          ]
        }
      ],
      "source": [
        "import numpy as np\n",
        "\n",
        "null_vector = np.zeros(10)\n",
        "print(null_vector)"
      ],
      "id": "31c9f6a5"
    },
    {
      "cell_type": "markdown",
      "metadata": {
        "id": "337e6e36"
      },
      "source": [
        "#### 4. How to find the memory size of any array (★☆☆)"
      ],
      "id": "337e6e36"
    },
    {
      "cell_type": "code",
      "execution_count": null,
      "metadata": {
        "colab": {
          "base_uri": "https://localhost:8080/"
        },
        "id": "31e8ec2e",
        "outputId": "5f96f992-d7d7-443e-b912-12c93b5fbc1e"
      },
      "outputs": [
        {
          "name": "stdout",
          "output_type": "stream",
          "text": [
            "Memory size of the array: 40 bytes\n"
          ]
        }
      ],
      "source": [
        "import numpy as np\n",
        "\n",
        "sample_array = np.array([1, 2, 3, 4, 5])\n",
        "\n",
        "memory_size = sample_array.nbytes\n",
        "\n",
        "print(f\"Memory size of the array: {memory_size} bytes\")"
      ],
      "id": "31e8ec2e"
    },
    {
      "cell_type": "markdown",
      "metadata": {
        "id": "166079c8"
      },
      "source": [
        "#### 5. How to get the documentation of the numpy add function from the command line? (★☆☆)"
      ],
      "id": "166079c8"
    },
    {
      "cell_type": "code",
      "execution_count": null,
      "metadata": {
        "colab": {
          "base_uri": "https://localhost:8080/"
        },
        "id": "593cd80f",
        "outputId": "de6a63e4-5414-4c0d-8316-8214ea6880f6"
      },
      "outputs": [
        {
          "name": "stdout",
          "output_type": "stream",
          "text": [
            "Help on ufunc:\n",
            "\n",
            "add = <ufunc 'add'>\n",
            "    add(x1, x2, /, out=None, *, where=True, casting='same_kind', order='K', dtype=None, subok=True[, signature, extobj])\n",
            "    \n",
            "    Add arguments element-wise.\n",
            "    \n",
            "    Parameters\n",
            "    ----------\n",
            "    x1, x2 : array_like\n",
            "        The arrays to be added.\n",
            "        If ``x1.shape != x2.shape``, they must be broadcastable to a common\n",
            "        shape (which becomes the shape of the output).\n",
            "    out : ndarray, None, or tuple of ndarray and None, optional\n",
            "        A location into which the result is stored. If provided, it must have\n",
            "        a shape that the inputs broadcast to. If not provided or None,\n",
            "        a freshly-allocated array is returned. A tuple (possible only as a\n",
            "        keyword argument) must have length equal to the number of outputs.\n",
            "    where : array_like, optional\n",
            "        This condition is broadcast over the input. At locations where the\n",
            "        condition is True, the `out` array will be set to the ufunc result.\n",
            "        Elsewhere, the `out` array will retain its original value.\n",
            "        Note that if an uninitialized `out` array is created via the default\n",
            "        ``out=None``, locations within it where the condition is False will\n",
            "        remain uninitialized.\n",
            "    **kwargs\n",
            "        For other keyword-only arguments, see the\n",
            "        :ref:`ufunc docs <ufuncs.kwargs>`.\n",
            "    \n",
            "    Returns\n",
            "    -------\n",
            "    add : ndarray or scalar\n",
            "        The sum of `x1` and `x2`, element-wise.\n",
            "        This is a scalar if both `x1` and `x2` are scalars.\n",
            "    \n",
            "    Notes\n",
            "    -----\n",
            "    Equivalent to `x1` + `x2` in terms of array broadcasting.\n",
            "    \n",
            "    Examples\n",
            "    --------\n",
            "    >>> np.add(1.0, 4.0)\n",
            "    5.0\n",
            "    >>> x1 = np.arange(9.0).reshape((3, 3))\n",
            "    >>> x2 = np.arange(3.0)\n",
            "    >>> np.add(x1, x2)\n",
            "    array([[  0.,   2.,   4.],\n",
            "           [  3.,   5.,   7.],\n",
            "           [  6.,   8.,  10.]])\n",
            "    \n",
            "    The ``+`` operator can be used as a shorthand for ``np.add`` on ndarrays.\n",
            "    \n",
            "    >>> x1 = np.arange(9.0).reshape((3, 3))\n",
            "    >>> x2 = np.arange(3.0)\n",
            "    >>> x1 + x2\n",
            "    array([[ 0.,  2.,  4.],\n",
            "           [ 3.,  5.,  7.],\n",
            "           [ 6.,  8., 10.]])\n",
            "\n"
          ]
        }
      ],
      "source": [
        "import numpy as np\n",
        "\n",
        "help(np.add)\n",
        "\n",
        "\n"
      ],
      "id": "593cd80f"
    },
    {
      "cell_type": "markdown",
      "metadata": {
        "id": "3add7101"
      },
      "source": [
        "#### 6. Create a null vector of size 10 but the fifth value which is 1 (★☆☆)"
      ],
      "id": "3add7101"
    },
    {
      "cell_type": "code",
      "execution_count": null,
      "metadata": {
        "colab": {
          "base_uri": "https://localhost:8080/"
        },
        "id": "2edf3c42",
        "outputId": "0b258c6b-355a-4dc8-dab4-4e3bacad4d70"
      },
      "outputs": [
        {
          "name": "stdout",
          "output_type": "stream",
          "text": [
            "[0. 0. 0. 0. 1. 0. 0. 0. 0. 0.]\n"
          ]
        }
      ],
      "source": [
        "import numpy as np\n",
        "\n",
        "null_vector = np.zeros(10)\n",
        "null_vector[4] = 1\n",
        "print(null_vector)"
      ],
      "id": "2edf3c42"
    },
    {
      "cell_type": "markdown",
      "metadata": {
        "id": "cfc46304"
      },
      "source": [
        "#### 7. Create a vector with values ranging from 10 to 49 (★☆☆)"
      ],
      "id": "cfc46304"
    },
    {
      "cell_type": "code",
      "execution_count": null,
      "metadata": {
        "colab": {
          "base_uri": "https://localhost:8080/"
        },
        "id": "d8b86640",
        "outputId": "245454bb-76c7-4db9-f31f-c21fd6f1f0e9"
      },
      "outputs": [
        {
          "name": "stdout",
          "output_type": "stream",
          "text": [
            "[10 11 12 13 14 15 16 17 18 19 20 21 22 23 24 25 26 27 28 29 30 31 32 33\n",
            " 34 35 36 37 38 39 40 41 42 43 44 45 46 47 48 49]\n"
          ]
        }
      ],
      "source": [
        "import numpy as np\n",
        "\n",
        "vector = np.arange(10,50)\n",
        "print(vector)"
      ],
      "id": "d8b86640"
    },
    {
      "cell_type": "markdown",
      "metadata": {
        "id": "0cc200be"
      },
      "source": [
        "#### 8. Reverse a vector (first element becomes last) (★☆☆)"
      ],
      "id": "0cc200be"
    },
    {
      "cell_type": "code",
      "execution_count": null,
      "metadata": {
        "colab": {
          "base_uri": "https://localhost:8080/"
        },
        "id": "ec044bb5",
        "outputId": "ea7d52ba-d2a0-49a1-bd49-90a34cbdbc08"
      },
      "outputs": [
        {
          "name": "stdout",
          "output_type": "stream",
          "text": [
            "Original vector: [1 2 3 4 5]\n",
            "Reversed vector: [5 4 3 2 1]\n"
          ]
        }
      ],
      "source": [
        "import numpy as np\n",
        "\n",
        "original_vector = np.array([1, 2, 3, 4, 5])\n",
        "reversed_vector = original_vector[::-1]\n",
        "\n",
        "print(\"Original vector:\", original_vector)\n",
        "print(\"Reversed vector:\", reversed_vector)"
      ],
      "id": "ec044bb5"
    },
    {
      "cell_type": "markdown",
      "metadata": {
        "id": "29d9ede4"
      },
      "source": [
        "#### 9. Create a 3x3 matrix with values ranging from 0 to 8 (★☆☆)"
      ],
      "id": "29d9ede4"
    },
    {
      "cell_type": "code",
      "execution_count": null,
      "metadata": {
        "colab": {
          "background_save": true,
          "base_uri": "https://localhost:8080/"
        },
        "id": "d9e39043",
        "outputId": "d1e517ac-134f-4632-820a-b67a9f52dbd3"
      },
      "outputs": [
        {
          "name": "stdout",
          "output_type": "stream",
          "text": [
            "[[0 1 2]\n",
            " [3 4 5]\n",
            " [6 7 8]]\n"
          ]
        }
      ],
      "source": [
        "import numpy as np\n",
        "\n",
        "matrix = np.arange(0,9).reshape(3,3)\n",
        "print(matrix)"
      ],
      "id": "d9e39043"
    },
    {
      "cell_type": "markdown",
      "metadata": {
        "id": "88905ceb"
      },
      "source": [
        "#### 10. Find indices of non-zero elements from [1,2,0,0,4,0] (★☆☆)"
      ],
      "id": "88905ceb"
    },
    {
      "cell_type": "code",
      "execution_count": null,
      "metadata": {
        "colab": {
          "background_save": true,
          "base_uri": "https://localhost:8080/"
        },
        "id": "UtXW-bOkjgHT",
        "outputId": "30ee37b7-3ba8-4924-8372-932f40a219e9"
      },
      "outputs": [
        {
          "name": "stdout",
          "output_type": "stream",
          "text": [
            "Indices of non-zero elements: [0 1 4]\n"
          ]
        }
      ],
      "source": [
        "import numpy as np\n",
        "\n",
        "array = np.array([1, 2, 0, 0, 4, 0])\n",
        "non_zero_indices = np.where(array != 0)[0]\n",
        "\n",
        "print(\"Indices of non-zero elements:\", non_zero_indices)"
      ],
      "id": "UtXW-bOkjgHT"
    },
    {
      "cell_type": "markdown",
      "metadata": {
        "id": "49603e91"
      },
      "source": [
        "#### 11. Create a 3x3 identity matrix (★☆☆)"
      ],
      "id": "49603e91"
    },
    {
      "cell_type": "code",
      "execution_count": null,
      "metadata": {
        "colab": {
          "base_uri": "https://localhost:8080/"
        },
        "id": "5b607b5c",
        "outputId": "784675f7-da10-4df7-cca9-cff083442a9c"
      },
      "outputs": [
        {
          "name": "stdout",
          "output_type": "stream",
          "text": [
            "[[1. 0. 0.]\n",
            " [0. 1. 0.]\n",
            " [0. 0. 1.]]\n"
          ]
        }
      ],
      "source": [
        "import numpy as np\n",
        "identity_matrix = np.eye(3)\n",
        "print(identity_matrix)"
      ],
      "id": "5b607b5c"
    },
    {
      "cell_type": "markdown",
      "metadata": {
        "id": "e15c249a"
      },
      "source": [
        "#### 12. Create a 3x3x3 array with random values (★☆☆)"
      ],
      "id": "e15c249a"
    },
    {
      "cell_type": "code",
      "execution_count": null,
      "metadata": {
        "colab": {
          "base_uri": "https://localhost:8080/"
        },
        "id": "ab21ed50",
        "outputId": "03414b8a-ba85-43b9-8080-0011ccbf7d26"
      },
      "outputs": [
        {
          "name": "stdout",
          "output_type": "stream",
          "text": [
            "[[[0.54334423 0.45967002 0.85530254]\n",
            "  [0.3254358  0.94938663 0.02719914]\n",
            "  [0.73477605 0.08569992 0.59210151]]\n",
            "\n",
            " [[0.5917751  0.93421377 0.7097159 ]\n",
            "  [0.08865833 0.9241732  0.38512397]\n",
            "  [0.05056988 0.25258753 0.94310702]]\n",
            "\n",
            " [[0.0814592  0.04203211 0.32588321]\n",
            "  [0.60133591 0.9715121  0.33322658]\n",
            "  [0.05725212 0.98743878 0.72575634]]]\n"
          ]
        }
      ],
      "source": [
        "import numpy as np\n",
        "\n",
        "random_array = np.random.rand(3,3,3)\n",
        "print(random_array)"
      ],
      "id": "ab21ed50"
    },
    {
      "cell_type": "markdown",
      "metadata": {
        "id": "157a129c"
      },
      "source": [
        "#### 13. Create a 10x10 array with random values and find the minimum and maximum values (★☆☆)"
      ],
      "id": "157a129c"
    },
    {
      "cell_type": "code",
      "execution_count": null,
      "metadata": {
        "colab": {
          "base_uri": "https://localhost:8080/"
        },
        "id": "c0066de5",
        "outputId": "86a59971-cd4e-4699-e8a1-8ce4d089c5ae"
      },
      "outputs": [
        {
          "name": "stdout",
          "output_type": "stream",
          "text": [
            "Random Array:\n",
            "[[0.93964717 0.65123486 0.80148162 0.02654507 0.2265856  0.44104537\n",
            "  0.48506842 0.97138829 0.19721046 0.24020929]\n",
            " [0.25966219 0.81004654 0.62777893 0.18278719 0.31331806 0.16376952\n",
            "  0.23181898 0.99305167 0.7198714  0.69496029]\n",
            " [0.97396561 0.5792726  0.22044712 0.5270214  0.99243125 0.04728023\n",
            "  0.69524011 0.41281637 0.69835362 0.40927318]\n",
            " [0.62607264 0.74371228 0.6659226  0.04824399 0.45665349 0.75055313\n",
            "  0.89076207 0.02393086 0.60968371 0.01693706]\n",
            " [0.02257694 0.95720492 0.76637766 0.424409   0.03369029 0.84712525\n",
            "  0.39648206 0.86613757 0.23744356 0.46486813]\n",
            " [0.62498654 0.90425376 0.61006781 0.54356702 0.90707119 0.63758563\n",
            "  0.50114051 0.39187948 0.93440243 0.36912938]\n",
            " [0.21733857 0.43256264 0.78916742 0.75847296 0.83025815 0.5123972\n",
            "  0.19230173 0.43290309 0.79055225 0.11948669]\n",
            " [0.33433235 0.18175128 0.90109547 0.17601809 0.54633895 0.45225882\n",
            "  0.43737796 0.08577067 0.09347622 0.73372663]\n",
            " [0.71771825 0.94558297 0.21041853 0.04570707 0.27352513 0.68522595\n",
            "  0.65935236 0.0590609  0.05230221 0.02385575]\n",
            " [0.21524218 0.61860042 0.84574392 0.31688888 0.9091399  0.58040983\n",
            "  0.70446097 0.20902698 0.52864692 0.36136528]]\n",
            "Minimum Value: 0.016937057950925927\n",
            "Maximum Value: 0.9930516691434688\n"
          ]
        }
      ],
      "source": [
        "import numpy as np\n",
        "\n",
        "random_array = np.random.rand(10, 10)\n",
        "\n",
        "min_value = random_array.min()\n",
        "max_value = random_array.max()\n",
        "\n",
        "print(\"Random Array:\")\n",
        "print(random_array)\n",
        "print(\"Minimum Value:\", min_value)\n",
        "print(\"Maximum Value:\", max_value)"
      ],
      "id": "c0066de5"
    },
    {
      "cell_type": "markdown",
      "metadata": {
        "id": "d92d7b32"
      },
      "source": [
        "#### 14. Create a random vector of size 30 and find the mean value (★☆☆)"
      ],
      "id": "d92d7b32"
    },
    {
      "cell_type": "code",
      "execution_count": null,
      "metadata": {
        "colab": {
          "base_uri": "https://localhost:8080/"
        },
        "id": "9672d023",
        "outputId": "21f46985-5492-40e4-d6b7-07f2ca4cf662"
      },
      "outputs": [
        {
          "name": "stdout",
          "output_type": "stream",
          "text": [
            "Random Vector:\n",
            "[0.7277495  0.08818509 0.32223501 0.54091041 0.46492273 0.32727427\n",
            " 0.31587755 0.44706085 0.24564507 0.27528229 0.7699968  0.83014934\n",
            " 0.95386063 0.02341225 0.90871715 0.0281075  0.52196746 0.65586765\n",
            " 0.06835465 0.24027996 0.85164346 0.31985143 0.52314931 0.72906294\n",
            " 0.7847307  0.94867599 0.3139204  0.60990776 0.7868794  0.52430161]\n",
            "Mean Value: 0.504932637760605\n"
          ]
        }
      ],
      "source": [
        "import numpy as np\n",
        "\n",
        "random_vector = np.random.rand(30)\n",
        "\n",
        "mean_value = np.mean(random_vector)\n",
        "\n",
        "print(\"Random Vector:\")\n",
        "print(random_vector)\n",
        "print(\"Mean Value:\", mean_value)"
      ],
      "id": "9672d023"
    },
    {
      "cell_type": "markdown",
      "metadata": {
        "id": "f361efc0"
      },
      "source": [
        "#### 15. Create a 2d array with 1 on the border and 0 inside (★☆☆)"
      ],
      "id": "f361efc0"
    },
    {
      "cell_type": "code",
      "execution_count": null,
      "metadata": {
        "colab": {
          "base_uri": "https://localhost:8080/"
        },
        "id": "a55b6666",
        "outputId": "17aee0c1-7131-474e-f14b-facde5584d8c"
      },
      "outputs": [
        {
          "name": "stdout",
          "output_type": "stream",
          "text": [
            "[[1. 1. 1. 1. 1. 1. 1. 1. 1. 1.]\n",
            " [1. 0. 0. 0. 0. 0. 0. 0. 0. 1.]\n",
            " [1. 0. 0. 0. 0. 0. 0. 0. 0. 1.]\n",
            " [1. 0. 0. 0. 0. 0. 0. 0. 0. 1.]\n",
            " [1. 0. 0. 0. 0. 0. 0. 0. 0. 1.]\n",
            " [1. 0. 0. 0. 0. 0. 0. 0. 0. 1.]\n",
            " [1. 0. 0. 0. 0. 0. 0. 0. 0. 1.]\n",
            " [1. 0. 0. 0. 0. 0. 0. 0. 0. 1.]\n",
            " [1. 0. 0. 0. 0. 0. 0. 0. 0. 1.]\n",
            " [1. 1. 1. 1. 1. 1. 1. 1. 1. 1.]]\n"
          ]
        }
      ],
      "source": [
        "z = np.ones((10,10))\n",
        "z[1:-1,1:-1]=0\n",
        "print(z)"
      ],
      "id": "a55b6666"
    },
    {
      "cell_type": "markdown",
      "metadata": {
        "id": "475808cb"
      },
      "source": [
        "#### 16. How to add a border (filled with 0's) around an existing array? (★☆☆)"
      ],
      "id": "475808cb"
    },
    {
      "cell_type": "code",
      "execution_count": null,
      "metadata": {
        "colab": {
          "base_uri": "https://localhost:8080/"
        },
        "id": "b2df3a8a",
        "outputId": "0b0ef756-22c1-4ec3-e2de-ceadeb166dd0"
      },
      "outputs": [
        {
          "name": "stdout",
          "output_type": "stream",
          "text": [
            "[[0. 0. 0. 0. 0.]\n",
            " [0. 1. 2. 3. 0.]\n",
            " [0. 4. 5. 6. 0.]\n",
            " [0. 7. 8. 9. 0.]\n",
            " [0. 0. 0. 0. 0.]]\n"
          ]
        }
      ],
      "source": [
        "import numpy as np\n",
        "\n",
        "existing_array = np.array([[1, 2, 3],\n",
        "                           [4, 5, 6],\n",
        "                           [7, 8, 9]])\n",
        "\n",
        "rows, cols = existing_array.shape\n",
        "\n",
        "new_rows, new_cols = rows + 2, cols + 2\n",
        "\n",
        "bordered_array = np.zeros((new_rows, new_cols))\n",
        "\n",
        "bordered_array[1:-1, 1:-1] = existing_array\n",
        "\n",
        "print(bordered_array)"
      ],
      "id": "b2df3a8a"
    },
    {
      "cell_type": "markdown",
      "metadata": {
        "id": "1af07d85"
      },
      "source": [
        "#### 17. What is the result of the following expression? (★☆☆)\n",
        "```python\n",
        "0 * np.nan\n",
        "np.nan == np.nan\n",
        "np.inf > np.nan\n",
        "np.nan - np.nan\n",
        "np.nan in set([np.nan])\n",
        "0.3 == 3 * 0.1\n",
        "```"
      ],
      "id": "1af07d85"
    },
    {
      "cell_type": "code",
      "execution_count": null,
      "metadata": {
        "colab": {
          "base_uri": "https://localhost:8080/"
        },
        "id": "109cf327",
        "outputId": "4a070614-5eb5-4358-ff56-101909100030"
      },
      "outputs": [
        {
          "name": "stdout",
          "output_type": "stream",
          "text": [
            "Result of 0 * np.nan: nan\n",
            "Result of np.nan == np.nan: False\n",
            "Result of np.inf > np.nan: False\n",
            "Result of np.nan - np.nan: nan\n",
            "Result of np.nan in set([np.nan]): True\n",
            "Result of 0.3 == 3 * 0.1: False\n"
          ]
        }
      ],
      "source": [
        "import numpy as np\n",
        "\n",
        "# Expression 1\n",
        "result1 = 0 * np.nan\n",
        "\n",
        "# Expression 2\n",
        "result2 = np.nan == np.nan\n",
        "\n",
        "# Expression 3\n",
        "result3 = np.inf > np.nan\n",
        "\n",
        "# Expression 4\n",
        "result4 = np.nan - np.nan\n",
        "\n",
        "# Expression 5\n",
        "result5 = np.nan in set([np.nan])\n",
        "\n",
        "# Expression 6\n",
        "result6 = 0.3 == 3 * 0.1\n",
        "\n",
        "print(\"Result of 0 * np.nan:\", result1)\n",
        "print(\"Result of np.nan == np.nan:\", result2)\n",
        "print(\"Result of np.inf > np.nan:\", result3)\n",
        "print(\"Result of np.nan - np.nan:\", result4)\n",
        "print(\"Result of np.nan in set([np.nan]):\", result5)\n",
        "print(\"Result of 0.3 == 3 * 0.1:\", result6)\n"
      ],
      "id": "109cf327"
    },
    {
      "cell_type": "markdown",
      "metadata": {
        "id": "6a235316"
      },
      "source": [
        "#### 18. Create a 5x5 matrix with values 1,2,3,4 just below the diagonal (★☆☆)"
      ],
      "id": "6a235316"
    },
    {
      "cell_type": "code",
      "execution_count": null,
      "metadata": {
        "colab": {
          "base_uri": "https://localhost:8080/"
        },
        "id": "f2e6cfa6",
        "outputId": "8a0a40d3-d28f-40e1-db49-5a2209d61ec7"
      },
      "outputs": [
        {
          "name": "stdout",
          "output_type": "stream",
          "text": [
            "[[0. 0. 0. 0. 0.]\n",
            " [1. 0. 0. 0. 0.]\n",
            " [0. 2. 0. 0. 0.]\n",
            " [0. 0. 3. 0. 0.]\n",
            " [0. 0. 0. 4. 0.]]\n"
          ]
        }
      ],
      "source": [
        "import numpy as np\n",
        "\n",
        "matrix = np.zeros((5, 5))\n",
        "\n",
        "matrix[1, 0] = 1\n",
        "matrix[2, 1] = 2\n",
        "matrix[3, 2] = 3\n",
        "matrix[4, 3] = 4\n",
        "\n",
        "print(matrix)"
      ],
      "id": "f2e6cfa6"
    },
    {
      "cell_type": "markdown",
      "metadata": {
        "id": "25362e98"
      },
      "source": [
        "#### 19. Create a 8x8 matrix and fill it with a checkerboard pattern (★☆☆)"
      ],
      "id": "25362e98"
    },
    {
      "cell_type": "code",
      "execution_count": null,
      "metadata": {
        "colab": {
          "base_uri": "https://localhost:8080/"
        },
        "id": "cabdf298",
        "outputId": "2ac72683-ab07-4f60-8ae5-30c465f79437"
      },
      "outputs": [
        {
          "name": "stdout",
          "output_type": "stream",
          "text": [
            "[[0 1 0 1 0 1 0 1]\n",
            " [1 0 1 0 1 0 1 0]\n",
            " [0 1 0 1 0 1 0 1]\n",
            " [1 0 1 0 1 0 1 0]\n",
            " [0 1 0 1 0 1 0 1]\n",
            " [1 0 1 0 1 0 1 0]\n",
            " [0 1 0 1 0 1 0 1]\n",
            " [1 0 1 0 1 0 1 0]]\n"
          ]
        }
      ],
      "source": [
        "import numpy as np\n",
        "\n",
        "matrix = np.zeros((8, 8), dtype=int)\n",
        "\n",
        "matrix[1::2, ::2] = 1\n",
        "matrix[::2, 1::2] = 1\n",
        "\n",
        "print(matrix)"
      ],
      "id": "cabdf298"
    },
    {
      "cell_type": "markdown",
      "metadata": {
        "id": "6431e977"
      },
      "source": [
        "#### 20. Consider a (6,7,8) shape array, what is the index (x,y,z) of the 100th element? (★☆☆)"
      ],
      "id": "6431e977"
    },
    {
      "cell_type": "code",
      "execution_count": null,
      "metadata": {
        "colab": {
          "base_uri": "https://localhost:8080/"
        },
        "id": "de8b0245",
        "outputId": "8cd7ab16-9b6b-4a08-cfb8-6c278391473e"
      },
      "outputs": [
        {
          "name": "stdout",
          "output_type": "stream",
          "text": [
            "The indices (x, y, z) of the 100th element are: (3, 2, 2)\n"
          ]
        }
      ],
      "source": [
        "import numpy as np\n",
        "\n",
        "shape = (6, 7, 8)\n",
        "element_number = 100\n",
        "\n",
        "x = (element_number - 1) % shape[0]\n",
        "y = ((element_number - 1) // shape[0]) % shape[1]\n",
        "z = (element_number - 1) // (shape[0] * shape[1])\n",
        "\n",
        "print(f\"The indices (x, y, z) of the 100th element are: ({x}, {y}, {z})\")"
      ],
      "id": "de8b0245"
    },
    {
      "cell_type": "markdown",
      "metadata": {
        "id": "31abe6fe"
      },
      "source": [
        "#### 21. Create a checkerboard 8x8 matrix using the tile function (★☆☆)"
      ],
      "id": "31abe6fe"
    },
    {
      "cell_type": "code",
      "execution_count": null,
      "metadata": {
        "colab": {
          "base_uri": "https://localhost:8080/"
        },
        "id": "6da26fd3",
        "outputId": "afa4e4e6-dca8-42ae-eafd-831e371438e2"
      },
      "outputs": [
        {
          "name": "stdout",
          "output_type": "stream",
          "text": [
            "[[0 1 0 1 0 1 0 1]\n",
            " [1 0 1 0 1 0 1 0]\n",
            " [0 1 0 1 0 1 0 1]\n",
            " [1 0 1 0 1 0 1 0]\n",
            " [0 1 0 1 0 1 0 1]\n",
            " [1 0 1 0 1 0 1 0]\n",
            " [0 1 0 1 0 1 0 1]\n",
            " [1 0 1 0 1 0 1 0]]\n"
          ]
        }
      ],
      "source": [
        "import numpy as np\n",
        "\n",
        "checkerboard_tile = np.array([[0, 1], [1, 0]])\n",
        "\n",
        "checkerboard = np.tile(checkerboard_tile, (4, 4))\n",
        "\n",
        "print(checkerboard)"
      ],
      "id": "6da26fd3"
    },
    {
      "cell_type": "markdown",
      "metadata": {
        "id": "fd88b3f4"
      },
      "source": [
        "#### 22. Normalize a 5x5 random matrix (★☆☆)"
      ],
      "id": "fd88b3f4"
    },
    {
      "cell_type": "code",
      "execution_count": null,
      "metadata": {
        "colab": {
          "base_uri": "https://localhost:8080/"
        },
        "id": "ee6ced60",
        "outputId": "ecc724ce-562f-4af8-a776-4fcac88bded2"
      },
      "outputs": [
        {
          "name": "stdout",
          "output_type": "stream",
          "text": [
            "Original Matrix:\n",
            "[[0.28867454 0.16650248 0.98676651 0.71330707 0.52059202]\n",
            " [0.19456745 0.89994559 0.10651777 0.99419542 0.13950568]\n",
            " [0.32162976 0.97552099 0.4770285  0.95218931 0.79456929]\n",
            " [0.47406018 0.9586744  0.64087607 0.68761828 0.72544893]\n",
            " [0.61794605 0.23633292 0.52718706 0.40320191 0.92079278]]\n",
            "Normalized Matrix:\n",
            "[[0.20520599 0.06757487 0.99163107 0.68356943 0.46646916]\n",
            " [0.09919105 0.89382426 0.         1.         0.03716204]\n",
            " [0.24233119 0.9789626  0.41739332 0.95267864 0.77511416]\n",
            " [0.41404941 0.95998432 0.60197336 0.6546301  0.69724765]\n",
            " [0.57614189 0.14624131 0.4738987  0.33422508 0.91730935]]\n"
          ]
        }
      ],
      "source": [
        "import numpy as np\n",
        "\n",
        "random_matrix = np.random.rand(5, 5)\n",
        "\n",
        "# Normalize the matrix to [0, 1]\n",
        "normalized_matrix = (random_matrix - random_matrix.min()) / (random_matrix.max() - random_matrix.min())\n",
        "\n",
        "print(\"Original Matrix:\")\n",
        "print(random_matrix)\n",
        "print(\"Normalized Matrix:\")\n",
        "print(normalized_matrix)"
      ],
      "id": "ee6ced60"
    },
    {
      "cell_type": "markdown",
      "metadata": {
        "id": "464d8590"
      },
      "source": [
        "#### 23. Create a custom dtype that describes a color as four unsigned bytes (RGBA) (★☆☆)"
      ],
      "id": "464d8590"
    },
    {
      "cell_type": "code",
      "execution_count": null,
      "metadata": {
        "colab": {
          "base_uri": "https://localhost:8080/"
        },
        "id": "e2f9cfc6",
        "outputId": "9a6f34fb-f239-4f5f-cb0a-0419522c5d9a"
      },
      "outputs": [
        {
          "name": "stdout",
          "output_type": "stream",
          "text": [
            "Custom RGBA Color:\n",
            "(255, 0, 0, 128)\n"
          ]
        }
      ],
      "source": [
        "import numpy as np\n",
        "\n",
        "dtype = np.dtype([\n",
        "('R', np.uint8),\n",
        "('G', np.uint8),\n",
        "('B', np.uint8),\n",
        "('A', np.uint8)\n",
        "])\n",
        "\n",
        "color = np.array((255, 0, 0, 128), dtype=dtype)\n",
        "\n",
        "print(\"Custom RGBA Color:\")\n",
        "\n",
        "print(color)"
      ],
      "id": "e2f9cfc6"
    },
    {
      "cell_type": "markdown",
      "metadata": {
        "id": "06c63bb3"
      },
      "source": [
        "#### 24. Multiply a 5x3 matrix by a 3x2 matrix (real matrix product) (★☆☆)"
      ],
      "id": "06c63bb3"
    },
    {
      "cell_type": "code",
      "execution_count": null,
      "metadata": {
        "colab": {
          "base_uri": "https://localhost:8080/"
        },
        "id": "9fc0d553",
        "outputId": "7a5b1bf3-c79f-45b9-aef1-35cab468dd55"
      },
      "outputs": [
        {
          "name": "stdout",
          "output_type": "stream",
          "text": [
            "Matrix A (5x3):\n",
            "[[0.06701855 0.64682571 0.50669475]\n",
            " [0.50028583 0.42794354 0.03526905]\n",
            " [0.06234664 0.30930032 0.90473594]\n",
            " [0.83283226 0.21193754 0.14365269]\n",
            " [0.80468758 0.14997208 0.65757512]]\n",
            "Matrix B (3x2):\n",
            "[[0.06244932 0.70726311]\n",
            " [0.69602592 0.65274755]\n",
            " [0.90323446 0.9090963 ]]\n",
            "Matrix Product (5x2):\n",
            "[[0.91205688 0.93024797]\n",
            " [0.36095853 0.66523577]\n",
            " [1.03636321 1.06848259]\n",
            " [0.32927589 0.85796737]\n",
            " [0.74858116 1.26481886]]\n"
          ]
        }
      ],
      "source": [
        "import numpy as np\n",
        "\n",
        "# Create a 5x3 matrix\n",
        "matrix_a = np.random.rand(5, 3)\n",
        "\n",
        "# Create a 3x2 matrix\n",
        "matrix_b = np.random.rand(3, 2)\n",
        "\n",
        "# Perform the matrix multiplication\n",
        "result = np.dot(matrix_a, matrix_b)\n",
        "\n",
        "print(\"Matrix A (5x3):\")\n",
        "print(matrix_a)\n",
        "print(\"Matrix B (3x2):\")\n",
        "print(matrix_b)\n",
        "print(\"Matrix Product (5x2):\")\n",
        "print(result)"
      ],
      "id": "9fc0d553"
    },
    {
      "cell_type": "markdown",
      "metadata": {
        "id": "76fa6285"
      },
      "source": [
        "#### 25. Given a 1D array, negate all elements which are between 3 and 8, in place. (★☆☆)"
      ],
      "id": "76fa6285"
    },
    {
      "cell_type": "code",
      "execution_count": null,
      "metadata": {
        "colab": {
          "base_uri": "https://localhost:8080/"
        },
        "id": "0e25eca7",
        "outputId": "54a9d6da-3518-4b54-daa4-75b4f4daf5cc"
      },
      "outputs": [
        {
          "name": "stdout",
          "output_type": "stream",
          "text": [
            "[ 1 -4 -7  9  2 -6 -5  3  8]\n"
          ]
        }
      ],
      "source": [
        "import numpy as np\n",
        "\n",
        "# Create a sample 1D array\n",
        "array = np.array([1, 4, 7, 9, 2, 6, 5, 3, 8])\n",
        "\n",
        "# Negate elements between 3 and 8 in place\n",
        "array[(array > 3) & (array < 8)] *= -1\n",
        "\n",
        "print(array)"
      ],
      "id": "0e25eca7"
    },
    {
      "cell_type": "markdown",
      "metadata": {
        "id": "930ed8bb"
      },
      "source": [
        "#### 26. What is the output of the following script? (★☆☆)\n",
        "```python\n",
        "# Author: Jake VanderPlas\n",
        "\n",
        "print(sum(range(5),-1))\n",
        "from numpy import *\n",
        "print(sum(range(5),-1))\n",
        "```"
      ],
      "id": "930ed8bb"
    },
    {
      "cell_type": "code",
      "execution_count": null,
      "metadata": {
        "colab": {
          "base_uri": "https://localhost:8080/"
        },
        "id": "f02eedba",
        "outputId": "2120c461-14ea-498b-d73d-7e1f325358e8"
      },
      "outputs": [
        {
          "data": {
            "text/plain": [
              "10"
            ]
          },
          "execution_count": 92,
          "metadata": {},
          "output_type": "execute_result"
        }
      ],
      "source": [
        "9\n",
        "10"
      ],
      "id": "f02eedba"
    },
    {
      "cell_type": "markdown",
      "metadata": {
        "id": "177120e7"
      },
      "source": [
        "#### 27. Consider an integer vector Z, which of these expressions are legal? (★☆☆)\n",
        "```python\n",
        "Z**Z\n",
        "2 << Z >> 2\n",
        "Z <- Z\n",
        "1j*Z\n",
        "Z/1/1\n",
        "Z<Z>Z\n",
        "```"
      ],
      "id": "177120e7"
    },
    {
      "cell_type": "markdown",
      "metadata": {
        "id": "8MfzlDqfQB7r"
      },
      "source": [
        "All expressions are legal except for the last one."
      ],
      "id": "8MfzlDqfQB7r"
    },
    {
      "cell_type": "markdown",
      "metadata": {
        "id": "a6eaf0e8"
      },
      "source": [
        "#### 28. What are the result of the following expressions? (★☆☆)\n",
        "```python\n",
        "np.array(0) / np.array(0)\n",
        "np.array(0) // np.array(0)\n",
        "np.array([np.nan]).astype(int).astype(float)\n",
        "```"
      ],
      "id": "a6eaf0e8"
    },
    {
      "cell_type": "code",
      "execution_count": null,
      "metadata": {
        "colab": {
          "base_uri": "https://localhost:8080/"
        },
        "id": "93684068",
        "outputId": "da1ecbdd-434e-4346-eec5-b510f52d61fd"
      },
      "outputs": [
        {
          "name": "stdout",
          "output_type": "stream",
          "text": [
            "Result of np.array(0) / np.array(0): nan\n",
            "Result of np.array(0) // np.array(0): 0\n",
            "Result of np.array([np.nan]).astype(int).astype(float): [-9.22337204e+18]\n"
          ]
        },
        {
          "name": "stderr",
          "output_type": "stream",
          "text": [
            "<ipython-input-93-43f756cd1fa7>:4: RuntimeWarning: invalid value encountered in divide\n",
            "  result1 = np.array(0) / np.array(0)\n",
            "<ipython-input-93-43f756cd1fa7>:7: RuntimeWarning: divide by zero encountered in floor_divide\n",
            "  result2 = np.array(0) // np.array(0)\n"
          ]
        }
      ],
      "source": [
        "import numpy as np\n",
        "\n",
        "# Expression 1\n",
        "result1 = np.array(0) / np.array(0)\n",
        "\n",
        "# Expression 2\n",
        "result2 = np.array(0) // np.array(0)\n",
        "\n",
        "# Expression 3\n",
        "result3 = np.array([np.nan]).astype(int).astype(float)\n",
        "\n",
        "print(\"Result of np.array(0) / np.array(0):\", result1)\n",
        "print(\"Result of np.array(0) // np.array(0):\", result2)\n",
        "print(\"Result of np.array([np.nan]).astype(int).astype(float):\", result3)\n"
      ],
      "id": "93684068"
    },
    {
      "cell_type": "markdown",
      "metadata": {
        "id": "524b65f8"
      },
      "source": [
        "#### 29. How to round away from zero a float array ? (★☆☆)"
      ],
      "id": "524b65f8"
    },
    {
      "cell_type": "code",
      "execution_count": null,
      "metadata": {
        "colab": {
          "base_uri": "https://localhost:8080/"
        },
        "id": "61fbb78e",
        "outputId": "94e06943-14dd-4a8f-cd75-1ac25c985c77"
      },
      "outputs": [
        {
          "name": "stdout",
          "output_type": "stream",
          "text": [
            "[ 3. -4.  2. -3.  5.]\n"
          ]
        }
      ],
      "source": [
        "import numpy as np\n",
        "\n",
        "# Create a sample float array\n",
        "float_array = np.array([2.4, -3.7, 1.8, -2.9, 4.5])\n",
        "\n",
        "# Round away from zero\n",
        "rounded_array = np.where(float_array >= 0, np.ceil(float_array), np.floor(float_array))\n",
        "\n",
        "print(rounded_array)"
      ],
      "id": "61fbb78e"
    },
    {
      "cell_type": "markdown",
      "metadata": {
        "id": "8dc40752"
      },
      "source": [
        "#### 30. How to find common values between two arrays? (★☆☆)"
      ],
      "id": "8dc40752"
    },
    {
      "cell_type": "code",
      "execution_count": null,
      "metadata": {
        "colab": {
          "base_uri": "https://localhost:8080/"
        },
        "id": "54399cbe",
        "outputId": "0d3120bf-98a7-48a4-a2d2-b12db3729f78"
      },
      "outputs": [
        {
          "name": "stdout",
          "output_type": "stream",
          "text": [
            "[3 4 5]\n"
          ]
        }
      ],
      "source": [
        "import numpy as np\n",
        "\n",
        "array1 = np.array([1, 2, 3, 4, 5])\n",
        "array2 = np.array([3, 4, 5, 6, 7])\n",
        "\n",
        "common_values = np.intersect1d(array1, array2)\n",
        "print(common_values)"
      ],
      "id": "54399cbe"
    },
    {
      "cell_type": "markdown",
      "metadata": {
        "id": "b7f38e21"
      },
      "source": [
        "#### 31. How to ignore all numpy warnings (not recommended)? (★☆☆)"
      ],
      "id": "b7f38e21"
    },
    {
      "cell_type": "code",
      "execution_count": null,
      "metadata": {
        "colab": {
          "base_uri": "https://localhost:8080/"
        },
        "id": "2ca3289c",
        "outputId": "5c841185-d7ff-44e2-df1d-ad57adfdafa1"
      },
      "outputs": [
        {
          "data": {
            "text/plain": [
              "{'divide': 'ignore', 'over': 'ignore', 'under': 'ignore', 'invalid': 'ignore'}"
            ]
          },
          "execution_count": 96,
          "metadata": {},
          "output_type": "execute_result"
        }
      ],
      "source": [
        "import numpy as np\n",
        "\n",
        "# Ignore all NumPy warnings temporarily\n",
        "np.seterr(all='ignore')\n",
        "\n",
        "# Your code here\n",
        "\n",
        "# Reset the warning settings to their default values\n",
        "np.seterr(all='warn')"
      ],
      "id": "2ca3289c"
    },
    {
      "cell_type": "markdown",
      "metadata": {
        "id": "2d850aab"
      },
      "source": [
        "#### 32. Is the following expressions true? (★☆☆)\n",
        "```python\n",
        "np.sqrt(-1) == np.emath.sqrt(-1)\n",
        "```"
      ],
      "id": "2d850aab"
    },
    {
      "cell_type": "markdown",
      "metadata": {
        "id": "NAGQ1li8Q-sn"
      },
      "source": [
        "False"
      ],
      "id": "NAGQ1li8Q-sn"
    },
    {
      "cell_type": "markdown",
      "metadata": {
        "id": "5c4a556f"
      },
      "source": [
        "#### 33. How to get the dates of yesterday, today and tomorrow? (★☆☆)"
      ],
      "id": "5c4a556f"
    },
    {
      "cell_type": "code",
      "execution_count": null,
      "metadata": {
        "colab": {
          "base_uri": "https://localhost:8080/"
        },
        "id": "c3b683a0",
        "outputId": "2db6e6eb-aec3-4f44-f536-cf9fa50c7a3e"
      },
      "outputs": [
        {
          "name": "stdout",
          "output_type": "stream",
          "text": [
            "Yesterday: 2023-11-14\n",
            "Today: 2023-11-15\n",
            "Tomorrow: 2023-11-16\n"
          ]
        }
      ],
      "source": [
        "from datetime import datetime, timedelta\n",
        "\n",
        "# Get today's date\n",
        "today = datetime.now()\n",
        "\n",
        "# Calculate the date for yesterday\n",
        "yesterday = today - timedelta(days=1)\n",
        "\n",
        "# Calculate the date for tomorrow\n",
        "tomorrow = today + timedelta(days=1)\n",
        "\n",
        "# Format the dates as strings (optional)\n",
        "today_str = today.strftime(\"%Y-%m-%d\")\n",
        "yesterday_str = yesterday.strftime(\"%Y-%m-%d\")\n",
        "tomorrow_str = tomorrow.strftime(\"%Y-%m-%d\")\n",
        "\n",
        "print(\"Yesterday:\", yesterday_str)\n",
        "print(\"Today:\", today_str)\n",
        "print(\"Tomorrow:\", tomorrow_str)"
      ],
      "id": "c3b683a0"
    },
    {
      "cell_type": "markdown",
      "metadata": {
        "id": "453cdd64"
      },
      "source": [
        "#### 34. How to get all the dates corresponding to the month of July 2016? (★★☆)"
      ],
      "id": "453cdd64"
    },
    {
      "cell_type": "code",
      "execution_count": null,
      "metadata": {
        "id": "4ba4d37c"
      },
      "outputs": [],
      "source": [
        "from datetime import datetime, timedelta\n",
        "\n",
        "# Define the start date (July 1, 2016)\n",
        "start_date = datetime(2016, 7, 1)\n",
        "\n",
        "# Define the end date (July 31, 2016)\n",
        "end_date = datetime(2016, 7, 31)\n",
        "\n",
        "# Initialize an empty list to store"
      ],
      "id": "4ba4d37c"
    },
    {
      "cell_type": "markdown",
      "metadata": {
        "id": "52667b6e"
      },
      "source": [
        "#### 35. How to compute ((A+B)*(-A/2)) in place (without copy)? (★★☆)"
      ],
      "id": "52667b6e"
    },
    {
      "cell_type": "code",
      "execution_count": null,
      "metadata": {
        "colab": {
          "base_uri": "https://localhost:8080/"
        },
        "id": "e6e7c030",
        "outputId": "d739bc45-b324-48e3-b12c-41c10b3f4a49"
      },
      "outputs": [
        {
          "name": "stdout",
          "output_type": "stream",
          "text": [
            "Result of ((A+B)*(-A/2)) in place: [-18 -21 -32 -36]\n"
          ]
        }
      ],
      "source": [
        "import numpy as np\n",
        "\n",
        "# Example array A\n",
        "A = np.array([1, 2, 3, 4], dtype='int64')\n",
        "\n",
        "# Example array B\n",
        "B = np.array([5, 5, 5, 5], dtype='int64')\n",
        "\n",
        "# Perform the operation in place with explicit type casting\n",
        "np.add(A, B, out=A)               # A += B\n",
        "np.multiply(A, (-A/2).astype(A.dtype), out=A)  # A *= (-A/2), explicitly cast to int64\n",
        "\n",
        "print(\"Result of ((A+B)*(-A/2)) in place:\", A)\n"
      ],
      "id": "e6e7c030"
    },
    {
      "cell_type": "markdown",
      "metadata": {
        "id": "9a8f3738"
      },
      "source": [
        "#### 36. Extract the integer part of a random array of positive numbers using 4 different methods (★★☆)"
      ],
      "id": "9a8f3738"
    },
    {
      "cell_type": "code",
      "execution_count": null,
      "metadata": {
        "colab": {
          "base_uri": "https://localhost:8080/"
        },
        "id": "368a801a",
        "outputId": "f41923f4-4093-44c7-d17e-051c726021a2"
      },
      "outputs": [
        {
          "name": "stdout",
          "output_type": "stream",
          "text": [
            "Method 1 (np.floor): [76. 90. 26. 81. 30.]\n",
            "Method 2 (np.trunc): [76. 90. 26. 81. 30.]\n",
            "Method 3 (int function): [76 90 26 81 30]\n",
            "Method 4 (astype to int): [76 90 26 81 30]\n"
          ]
        }
      ],
      "source": [
        "import numpy as np\n",
        "\n",
        "# Create a random array of positive numbers\n",
        "random_array = np.random.rand(5) * 100  # Scale to positive numbers\n",
        "\n",
        "# Extract the integer part using numpy.floor\n",
        "integer_part = np.floor(random_array)\n",
        "print(\"Method 1 (np.floor):\", integer_part)\n",
        "\n",
        "# Extract the integer part using numpy.trunc\n",
        "integer_part = np.trunc(random_array)\n",
        "print(\"Method 2 (np.trunc):\", integer_part)\n",
        "\n",
        "\n",
        "# Extract the integer part using int\n",
        "integer_part = np.array([int(x) for x in random_array])\n",
        "print(\"Method 3 (int function):\", integer_part)\n",
        "\n",
        "\n",
        "# Extract the integer part using numpy.astype\n",
        "integer_part = random_array.astype(int)\n",
        "print(\"Method 4 (astype to int):\", integer_part)"
      ],
      "id": "368a801a"
    },
    {
      "cell_type": "markdown",
      "metadata": {
        "id": "cab1eed1"
      },
      "source": [
        "#### 37. Create a 5x5 matrix with row values ranging from 0 to 4 (★★☆)"
      ],
      "id": "cab1eed1"
    },
    {
      "cell_type": "code",
      "execution_count": null,
      "metadata": {
        "colab": {
          "base_uri": "https://localhost:8080/"
        },
        "id": "f1b579ba",
        "outputId": "ee8d51b1-9c86-4851-fdcd-ab7e8a39df9e"
      },
      "outputs": [
        {
          "name": "stdout",
          "output_type": "stream",
          "text": [
            "[[0. 0. 0. 0. 0.]\n",
            " [1. 1. 1. 1. 1.]\n",
            " [2. 2. 2. 2. 2.]\n",
            " [3. 3. 3. 3. 3.]\n",
            " [4. 4. 4. 4. 4.]]\n"
          ]
        }
      ],
      "source": [
        "import numpy as np\n",
        "\n",
        "matrix = np.zeros((5, 5))\n",
        "for i in range(5):\n",
        "    matrix[i, :] = i\n",
        "\n",
        "print(matrix)"
      ],
      "id": "f1b579ba"
    },
    {
      "cell_type": "markdown",
      "metadata": {
        "id": "cd0ce6b1"
      },
      "source": [
        "#### 38. Consider a generator function that generates 10 integers and use it to build an array (★☆☆)"
      ],
      "id": "cd0ce6b1"
    },
    {
      "cell_type": "code",
      "execution_count": null,
      "metadata": {
        "colab": {
          "base_uri": "https://localhost:8080/"
        },
        "id": "aab193a6",
        "outputId": "0ff67155-723f-4230-94d9-d5462bd14a9d"
      },
      "outputs": [
        {
          "name": "stdout",
          "output_type": "stream",
          "text": [
            "[0 1 2 3 4 5 6 7 8 9]\n"
          ]
        }
      ],
      "source": [
        "import numpy as np\n",
        "\n",
        "# Define a generator function to yield 10 integers\n",
        "def generate_integers():\n",
        "    for i in range(10):\n",
        "        yield i\n",
        "\n",
        "# Use the generator to build a NumPy array\n",
        "generated_values = list(generate_integers())\n",
        "array = np.array(generated_values)\n",
        "\n",
        "print(array)"
      ],
      "id": "aab193a6"
    },
    {
      "cell_type": "markdown",
      "metadata": {
        "id": "c4c942d1"
      },
      "source": [
        "#### 39. Create a vector of size 10 with values ranging from 0 to 1, both excluded (★★☆)"
      ],
      "id": "c4c942d1"
    },
    {
      "cell_type": "code",
      "execution_count": null,
      "metadata": {
        "colab": {
          "base_uri": "https://localhost:8080/"
        },
        "id": "e42eaa4b",
        "outputId": "5c2d0f54-a0d9-4460-f01c-91855a16e512"
      },
      "outputs": [
        {
          "name": "stdout",
          "output_type": "stream",
          "text": [
            "[0.09090909 0.18181818 0.27272727 0.36363636 0.45454545 0.54545455\n",
            " 0.63636364 0.72727273 0.81818182 0.90909091]\n"
          ]
        }
      ],
      "source": [
        "import numpy as np\n",
        "\n",
        "vector = np.linspace(0, 1, 12)[1:-1]  # Generate 12 values from 0 to 1 and exclude the first and last\n",
        "\n",
        "print(vector)"
      ],
      "id": "e42eaa4b"
    },
    {
      "cell_type": "markdown",
      "metadata": {
        "id": "9b3cb8d2"
      },
      "source": [
        "#### 40. Create a random vector of size 10 and sort it (★★☆)"
      ],
      "id": "9b3cb8d2"
    },
    {
      "cell_type": "code",
      "execution_count": null,
      "metadata": {
        "colab": {
          "base_uri": "https://localhost:8080/"
        },
        "id": "37d2b341",
        "outputId": "c13a3c67-f1fa-4fbd-9b46-9dac4d70b718"
      },
      "outputs": [
        {
          "name": "stdout",
          "output_type": "stream",
          "text": [
            "Random Vector:\n",
            "[0.11738472 0.55913477 0.94591757 0.42504394 0.19753927 0.15717416\n",
            " 0.20998958 0.51311794 0.57024478 0.57301377]\n",
            "Sorted Vector:\n",
            "[0.11738472 0.15717416 0.19753927 0.20998958 0.42504394 0.51311794\n",
            " 0.55913477 0.57024478 0.57301377 0.94591757]\n"
          ]
        }
      ],
      "source": [
        "import numpy as np\n",
        "\n",
        "# Create a random vector of size 10\n",
        "random_vector = np.random.rand(10)\n",
        "\n",
        "# Sort the vector in ascending order\n",
        "sorted_vector = np.sort(random_vector)\n",
        "\n",
        "print(\"Random Vector:\")\n",
        "print(random_vector)\n",
        "print(\"Sorted Vector:\")\n",
        "print(sorted_vector)"
      ],
      "id": "37d2b341"
    },
    {
      "cell_type": "markdown",
      "metadata": {
        "id": "2facfddc"
      },
      "source": [
        "#### 41. How to sum a small array faster than np.sum? (★★☆)"
      ],
      "id": "2facfddc"
    },
    {
      "cell_type": "code",
      "execution_count": null,
      "metadata": {
        "colab": {
          "base_uri": "https://localhost:8080/"
        },
        "id": "4bb8864f",
        "outputId": "95ab86f5-e135-4c76-abc1-d9be519d97c9"
      },
      "outputs": [
        {
          "name": "stdout",
          "output_type": "stream",
          "text": [
            "Sum using np.sum: 15\n",
            "Sum using + operator: 15\n"
          ]
        }
      ],
      "source": [
        "import numpy as np\n",
        "\n",
        "# Create a small array\n",
        "small_array = np.array([1, 2, 3, 4, 5])\n",
        "\n",
        "# Sum the array using the '+' operator\n",
        "sum_using_operator = np.sum(small_array)\n",
        "\n",
        "print(\"Sum using np.sum:\", sum_using_operator)\n",
        "\n",
        "# Sum the array using the '+' operator\n",
        "sum_using_plus_operator = small_array.sum()\n",
        "\n",
        "print(\"Sum using + operator:\", sum_using_plus_operator)"
      ],
      "id": "4bb8864f"
    },
    {
      "cell_type": "markdown",
      "metadata": {
        "id": "539cd2a5"
      },
      "source": [
        "#### 42. Consider two random array A and B, check if they are equal (★★☆)"
      ],
      "id": "539cd2a5"
    },
    {
      "cell_type": "code",
      "execution_count": null,
      "metadata": {
        "colab": {
          "base_uri": "https://localhost:8080/"
        },
        "id": "5246d7bf",
        "outputId": "3a8c3943-0321-4438-d431-451485ee27fe"
      },
      "outputs": [
        {
          "name": "stdout",
          "output_type": "stream",
          "text": [
            "Arrays A and B are not equal.\n"
          ]
        }
      ],
      "source": [
        "import numpy as np\n",
        "\n",
        "# Create two random arrays A and B\n",
        "A = np.random.rand(5)\n",
        "B = np.random.rand(5)\n",
        "\n",
        "# Check if the arrays are equal element-wise\n",
        "are_equal = np.array_equal(A, B)\n",
        "\n",
        "if are_equal:\n",
        "    print(\"Arrays A and B are equal.\")\n",
        "else:\n",
        "    print(\"Arrays A and B are not equal.\")"
      ],
      "id": "5246d7bf"
    },
    {
      "cell_type": "markdown",
      "metadata": {
        "id": "448f8274"
      },
      "source": [
        "#### 43. Make an array immutable (read-only) (★★☆)"
      ],
      "id": "448f8274"
    },
    {
      "cell_type": "code",
      "execution_count": null,
      "metadata": {
        "id": "a_VPGkjxsk-J"
      },
      "outputs": [],
      "source": [
        "immutable_array = (1, 2, 3, 4, 5)\n",
        "\n",
        "my_list = [1, 2, 3, 4]\n",
        "immutable_array = tuple(my_list)"
      ],
      "id": "a_VPGkjxsk-J"
    },
    {
      "cell_type": "markdown",
      "metadata": {
        "id": "d7b7aaf3"
      },
      "source": [
        "#### 44. Consider a random 10x2 matrix representing cartesian coordinates, convert them to polar coordinates (★★☆)"
      ],
      "id": "d7b7aaf3"
    },
    {
      "cell_type": "code",
      "execution_count": null,
      "metadata": {
        "colab": {
          "base_uri": "https://localhost:8080/"
        },
        "collapsed": true,
        "id": "e2337585",
        "outputId": "9a836d8d-0f80-4fa6-fd2a-9a5b5f1656a3"
      },
      "outputs": [
        {
          "name": "stdout",
          "output_type": "stream",
          "text": [
            "Cartesian Coordinates:\n",
            " [[0.98976586 0.37425694]\n",
            " [0.31879511 0.00905495]\n",
            " [0.11606237 0.73114011]\n",
            " [0.30524211 0.07979588]\n",
            " [0.37622766 0.15726433]\n",
            " [0.01326395 0.84570617]\n",
            " [0.12068787 0.1739747 ]\n",
            " [0.03954458 0.37604159]\n",
            " [0.76402376 0.28807178]\n",
            " [0.19876922 0.24355234]]\n",
            "Polar Coordinates:\n",
            " [[1.05816101 0.3615091 ]\n",
            " [0.31892368 0.02839603]\n",
            " [0.74029476 1.41336827]\n",
            " [0.31549981 0.25569611]\n",
            " [0.40777361 0.39592931]\n",
            " [0.84581018 1.55511374]\n",
            " [0.21173748 0.96430478]\n",
            " [0.37811513 1.4660213 ]\n",
            " [0.81652781 0.36056284]\n",
            " [0.31436753 0.88629994]]\n"
          ]
        }
      ],
      "source": [
        "import numpy as np\n",
        "\n",
        "cartesian_coordinates = np.random.rand(10, 2)\n",
        "\n",
        "x = cartesian_coordinates[:, 0]\n",
        "y = cartesian_coordinates[:, 1]\n",
        "\n",
        "r = np.sqrt(x**2 + y**2)\n",
        "theta = np.arctan2(y, x)\n",
        "\n",
        "polar_coordinates = np.column_stack((r, theta))\n",
        "\n",
        "print(\"Cartesian Coordinates:\\n\", cartesian_coordinates)\n",
        "print(\"Polar Coordinates:\\n\", polar_coordinates)\n"
      ],
      "id": "e2337585"
    },
    {
      "cell_type": "markdown",
      "metadata": {
        "id": "a556027a"
      },
      "source": [
        "#### 45. Create random vector of size 10 and replace the maximum value by 0 (★★☆)"
      ],
      "id": "a556027a"
    },
    {
      "cell_type": "code",
      "execution_count": null,
      "metadata": {
        "colab": {
          "base_uri": "https://localhost:8080/"
        },
        "id": "9e07cb87",
        "outputId": "7131fd87-475d-4bd5-8b59-1a5d646d7912"
      },
      "outputs": [
        {
          "name": "stdout",
          "output_type": "stream",
          "text": [
            "Original Vector: [0.40302121 0.2791774  0.56254795 0.12960297 0.20216948 0.64470735\n",
            " 0.64067272 0.08688888 0.         0.4291024 ]\n"
          ]
        }
      ],
      "source": [
        "import numpy as np\n",
        "\n",
        "random_vector = np.random.rand(10)\n",
        "max_index = np.argmax(random_vector)\n",
        "random_vector[max_index] = 0\n",
        "\n",
        "print(\"Original Vector:\", random_vector)\n"
      ],
      "id": "9e07cb87"
    },
    {
      "cell_type": "markdown",
      "metadata": {
        "id": "004f3da1"
      },
      "source": [
        "#### 46. Create a structured array with `x` and `y` coordinates covering the [0,1]x[0,1] area (★★☆)"
      ],
      "id": "004f3da1"
    },
    {
      "cell_type": "code",
      "execution_count": null,
      "metadata": {
        "colab": {
          "base_uri": "https://localhost:8080/"
        },
        "id": "b3824741",
        "outputId": "47b81ced-6e79-40b8-cebe-1f4bdf9d33e5"
      },
      "outputs": [
        {
          "name": "stdout",
          "output_type": "stream",
          "text": [
            "[(0.75895091, 0.43971172) (0.11274437, 0.03454883)\n",
            " (0.7269237 , 0.24973415) (0.10669094, 0.12289757)\n",
            " (0.58494883, 0.09291886) (0.21457953, 0.58208998)\n",
            " (0.73736653, 0.50307549) (0.86835409, 0.51919515)\n",
            " (0.86646486, 0.47398652) (0.0160294 , 0.85533059)]\n"
          ]
        }
      ],
      "source": [
        "import numpy as np\n",
        "\n",
        "num_points = 10\n",
        "structured_array = np.zeros(num_points, dtype=[('x', float), ('y', float)])\n",
        "structured_array['x'] = np.random.uniform(0, 1, num_points)\n",
        "structured_array['y'] = np.random.uniform(0, 1, num_points)\n",
        "\n",
        "print(structured_array)\n"
      ],
      "id": "b3824741"
    },
    {
      "cell_type": "markdown",
      "metadata": {
        "id": "1c0adc0d"
      },
      "source": [
        "#### 47. Given two arrays, X and Y, construct the Cauchy matrix C (Cij =1/(xi - yj)) (★★☆)"
      ],
      "id": "1c0adc0d"
    },
    {
      "cell_type": "code",
      "execution_count": null,
      "metadata": {
        "colab": {
          "base_uri": "https://localhost:8080/"
        },
        "id": "01b3bbb7",
        "outputId": "de66c5f4-092f-4c4c-d3ea-181425f9123b"
      },
      "outputs": [
        {
          "name": "stdout",
          "output_type": "stream",
          "text": [
            "[[-1.         -0.5        -0.33333333 -0.25      ]\n",
            " [        inf -1.         -0.5        -0.33333333]\n",
            " [ 1.                 inf -1.         -0.5       ]\n",
            " [ 0.5         1.                 inf -1.        ]]\n"
          ]
        },
        {
          "name": "stderr",
          "output_type": "stream",
          "text": [
            "<ipython-input-112-e802d074fd6c>:6: RuntimeWarning: divide by zero encountered in divide\n",
            "  C = 1.0 / (X[:, np.newaxis] - Y)\n"
          ]
        }
      ],
      "source": [
        "import numpy as np\n",
        "\n",
        "X = np.array([1, 2, 3, 4])\n",
        "Y = np.array([2, 3, 4, 5])\n",
        "\n",
        "C = 1.0 / (X[:, np.newaxis] - Y)\n",
        "\n",
        "print(C)\n"
      ],
      "id": "01b3bbb7"
    },
    {
      "cell_type": "markdown",
      "metadata": {
        "id": "c8a2f65a"
      },
      "source": [
        "#### 48. Print the minimum and maximum representable value for each numpy scalar type (★★☆)"
      ],
      "id": "c8a2f65a"
    },
    {
      "cell_type": "code",
      "execution_count": null,
      "metadata": {
        "colab": {
          "base_uri": "https://localhost:8080/"
        },
        "id": "35d844d6",
        "outputId": "67d6d747-8472-4caa-ec65-844269aa31c7"
      },
      "outputs": [
        {
          "name": "stdout",
          "output_type": "stream",
          "text": [
            "<class 'numpy.int8'>: Min = -128, Max = 127\n",
            "<class 'numpy.int16'>: Min = -32768, Max = 32767\n",
            "<class 'numpy.int32'>: Min = -2147483648, Max = 2147483647\n",
            "<class 'numpy.int64'>: Min = -9223372036854775808, Max = 9223372036854775807\n",
            "<class 'numpy.uint8'>: Min = 0, Max = 255\n",
            "<class 'numpy.uint16'>: Min = 0, Max = 65535\n",
            "<class 'numpy.uint32'>: Min = 0, Max = 4294967295\n",
            "<class 'numpy.uint64'>: Min = 0, Max = 18446744073709551615\n",
            "<class 'numpy.float16'>: Min = -65504.0, Max = 65504.0\n",
            "<class 'numpy.float32'>: Min = -3.4028234663852886e+38, Max = 3.4028234663852886e+38\n",
            "<class 'numpy.float64'>: Min = -1.7976931348623157e+308, Max = 1.7976931348623157e+308\n"
          ]
        }
      ],
      "source": [
        "import numpy as np\n",
        "\n",
        "int_types = [np.int8, np.int16, np.int32, np.int64]\n",
        "uint_types = [np.uint8, np.uint16, np.uint32, np.uint64]\n",
        "float_types = [np.float16, np.float32, np.float64]\n",
        "\n",
        "for t in int_types:\n",
        "    min_val = np.iinfo(t).min\n",
        "    max_val = np.iinfo(t).max\n",
        "    print(f\"{t}: Min = {min_val}, Max = {max_val}\")\n",
        "\n",
        "for t in uint_types:\n",
        "    min_val = np.iinfo(t).min\n",
        "    max_val = np.iinfo(t).max\n",
        "    print(f\"{t}: Min = {min_val}, Max = {max_val}\")\n",
        "\n",
        "for t in float_types:\n",
        "    min_val = np.finfo(t).min\n",
        "    max_val = np.finfo(t).max\n",
        "    print(f\"{t}: Min = {min_val}, Max = {max_val}\")\n"
      ],
      "id": "35d844d6"
    },
    {
      "cell_type": "markdown",
      "metadata": {
        "id": "11727a69"
      },
      "source": [
        "#### 49. How to print all the values of an array? (★★☆)"
      ],
      "id": "11727a69"
    },
    {
      "cell_type": "code",
      "execution_count": null,
      "metadata": {
        "colab": {
          "base_uri": "https://localhost:8080/"
        },
        "id": "47e98473",
        "outputId": "f85cf471-4c77-4b82-8988-0d136e4601dc"
      },
      "outputs": [
        {
          "name": "stdout",
          "output_type": "stream",
          "text": [
            "1\n",
            "2\n",
            "3\n",
            "4\n",
            "5\n"
          ]
        }
      ],
      "source": [
        "my_array = [1, 2, 3, 4, 5]\n",
        "for value in my_array:\n",
        "    print(value)"
      ],
      "id": "47e98473"
    },
    {
      "cell_type": "markdown",
      "metadata": {
        "id": "e0e7d741"
      },
      "source": [
        "#### 50. How to find the closest value (to a given scalar) in a vector? (★★☆)"
      ],
      "id": "e0e7d741"
    },
    {
      "cell_type": "code",
      "execution_count": null,
      "metadata": {
        "colab": {
          "base_uri": "https://localhost:8080/"
        },
        "id": "62cabf6f",
        "outputId": "854d7015-2f32-4101-8ff0-f2109db74b53"
      },
      "outputs": [
        {
          "name": "stdout",
          "output_type": "stream",
          "text": [
            "The closest value to 7 is 6\n"
          ]
        }
      ],
      "source": [
        "def find_closest_value(vector, scalar):\n",
        "    closest_value = None\n",
        "    min_difference = float('inf')\n",
        "\n",
        "    for value in vector:\n",
        "        difference = abs(value - scalar)\n",
        "        if difference < min_difference:\n",
        "            min_difference = difference\n",
        "            closest_value = value\n",
        "\n",
        "    return closest_value\n",
        "\n",
        "# Example usage:\n",
        "my_vector = [1, 3, 6, 9, 12]\n",
        "target_scalar = 7\n",
        "closest = find_closest_value(my_vector, target_scalar)\n",
        "print(f\"The closest value to {target_scalar} is {closest}\")\n"
      ],
      "id": "62cabf6f"
    },
    {
      "cell_type": "markdown",
      "metadata": {
        "id": "c5611b9e"
      },
      "source": [
        "#### 51. Create a structured array representing a position (x,y) and a color (r,g,b) (★★☆)"
      ],
      "id": "c5611b9e"
    },
    {
      "cell_type": "code",
      "execution_count": null,
      "metadata": {
        "colab": {
          "base_uri": "https://localhost:8080/"
        },
        "id": "f622939d",
        "outputId": "377815a5-a183-467f-c49b-de32dde4eb53"
      },
      "outputs": [
        {
          "name": "stdout",
          "output_type": "stream",
          "text": [
            "[((1., 10.), (255,   0, 128)) ((2., 20.), (128, 192,  64))\n",
            " ((3., 30.), (  0, 128, 255)) ((4., 40.), (192, 255,   0))\n",
            " ((5., 50.), ( 64,  64, 192))]\n"
          ]
        }
      ],
      "source": [
        "import numpy as np\n",
        "\n",
        "position_color_dtype = np.dtype([('position', [('x', float), ('y', float)]), ('color', [('r', int), ('g', int), ('b', int)])])\n",
        "structured_array = np.empty(5, dtype=position_color_dtype)\n",
        "structured_array['position']['x'] = [1.0, 2.0, 3.0, 4.0, 5.0]\n",
        "structured_array['position']['y'] = [10.0, 20.0, 30.0, 40.0, 50.0]\n",
        "structured_array['color']['r'] = [255, 128, 0, 192, 64]\n",
        "structured_array['color']['g'] = [0, 192, 128, 255, 64]\n",
        "structured_array['color']['b'] = [128, 64, 255, 0, 192]\n",
        "\n",
        "print(structured_array)\n"
      ],
      "id": "f622939d"
    },
    {
      "cell_type": "markdown",
      "metadata": {
        "id": "d22b8574"
      },
      "source": [
        "#### 52. Consider a random vector with shape (100,2) representing coordinates, find point by point distances (★★☆)"
      ],
      "id": "d22b8574"
    },
    {
      "cell_type": "code",
      "execution_count": null,
      "metadata": {
        "colab": {
          "base_uri": "https://localhost:8080/"
        },
        "id": "d5c9cdf8",
        "outputId": "98fa0cba-1499-41f2-bcd9-519eed6b54c4"
      },
      "outputs": [
        {
          "name": "stdout",
          "output_type": "stream",
          "text": [
            "[[0.         0.40786575 0.2489784  ... 0.26705496 0.5000516  0.81933713]\n",
            " [0.40786575 0.         0.47976813 ... 0.14211682 0.83838473 0.77717797]\n",
            " [0.2489784  0.47976813 0.         ... 0.3771584  0.69836399 1.0567989 ]\n",
            " ...\n",
            " [0.26705496 0.14211682 0.3771584  ... 0.         0.70537989 0.7523482 ]\n",
            " [0.5000516  0.83838473 0.69836399 ... 0.70537989 0.         0.75898535]\n",
            " [0.81933713 0.77717797 1.0567989  ... 0.7523482  0.75898535 0.        ]]\n"
          ]
        }
      ],
      "source": [
        "import numpy as np\n",
        "\n",
        "random_coordinates = np.random.rand(100, 2)\n",
        "distances = np.sqrt(np.sum((random_coordinates[:, np.newaxis] - random_coordinates) ** 2, axis=2))\n",
        "print(distances)\n"
      ],
      "id": "d5c9cdf8"
    },
    {
      "cell_type": "markdown",
      "metadata": {
        "id": "f5c164f2"
      },
      "source": [
        "#### 53. How to convert a float (32 bits) array into an integer (32 bits) in place?"
      ],
      "id": "f5c164f2"
    },
    {
      "cell_type": "code",
      "execution_count": null,
      "metadata": {
        "colab": {
          "base_uri": "https://localhost:8080/"
        },
        "id": "ea262de8",
        "outputId": "cefbe608-5e90-46f2-f3b7-2e873e287623"
      },
      "outputs": [
        {
          "name": "stdout",
          "output_type": "stream",
          "text": [
            "Original Float Array:\n",
            "[1.2 3.4 5.6]\n",
            "Converted Integer Array:\n",
            "[1067030938 1079613850 1085485875]\n"
          ]
        }
      ],
      "source": [
        "import numpy as np\n",
        "\n",
        "# Create a float array\n",
        "float_array = np.array([1.2, 3.4, 5.6], dtype=np.float32)\n",
        "\n",
        "# Convert the float array to an integer array in place\n",
        "int_array = float_array.view(dtype=np.int32)\n",
        "\n",
        "# Print the original float array\n",
        "print(\"Original Float Array:\")\n",
        "print(float_array)\n",
        "\n",
        "# Print the integer array\n",
        "print(\"Converted Integer Array:\")\n",
        "print(int_array)\n"
      ],
      "id": "ea262de8"
    },
    {
      "cell_type": "markdown",
      "metadata": {
        "id": "a8b7e6f5"
      },
      "source": [
        "#### 54. How to read the following file? (★★☆)\n",
        "```\n",
        "1, 2, 3, 4, 5\n",
        "6,  ,  , 7, 8\n",
        " ,  , 9,10,11\n",
        "```"
      ],
      "id": "a8b7e6f5"
    },
    {
      "cell_type": "code",
      "execution_count": null,
      "metadata": {
        "colab": {
          "base_uri": "https://localhost:8080/"
        },
        "id": "bde0538a",
        "outputId": "db6a5a20-ff12-4db3-cf28-90bc4ff3ba85"
      },
      "outputs": [
        {
          "name": "stdout",
          "output_type": "stream",
          "text": [
            "[[ 1.  2.  3.  4.  5.]\n",
            " [ 6. nan nan  7.  8.]\n",
            " [nan nan  9. 10. 11.]]\n"
          ]
        }
      ],
      "source": [
        "import numpy as np\n",
        "from io import StringIO\n",
        "\n",
        "data = \"\"\"1, 2, 3, 4, 5\n",
        "6,  ,  , 7, 8\n",
        " ,  , 9,10,11\"\"\"\n",
        "\n",
        "data_file = StringIO(data)\n",
        "array = np.genfromtxt(data_file, delimiter=',', filling_values=np.nan)\n",
        "\n",
        "print(array)\n",
        "\n"
      ],
      "id": "bde0538a"
    },
    {
      "cell_type": "markdown",
      "metadata": {
        "id": "c6b32834"
      },
      "source": [
        "#### 55. What is the equivalent of enumerate for numpy arrays? (★★☆)"
      ],
      "id": "c6b32834"
    },
    {
      "cell_type": "code",
      "execution_count": null,
      "metadata": {
        "colab": {
          "base_uri": "https://localhost:8080/"
        },
        "id": "ab02472a",
        "outputId": "2464e8e8-d5a0-4c12-812d-06cb5de65c15"
      },
      "outputs": [
        {
          "name": "stdout",
          "output_type": "stream",
          "text": [
            "Index (0, 0): Value 1\n",
            "Index (0, 1): Value 2\n",
            "Index (1, 0): Value 3\n",
            "Index (1, 1): Value 4\n",
            "Index (2, 0): Value 5\n",
            "Index (2, 1): Value 6\n"
          ]
        }
      ],
      "source": [
        "import numpy as np\n",
        "\n",
        "arr = np.array([[1, 2], [3, 4], [5, 6]])\n",
        "\n",
        "for index, value in np.ndenumerate(arr):\n",
        "    print(f\"Index {index}: Value {value}\")\n"
      ],
      "id": "ab02472a"
    },
    {
      "cell_type": "markdown",
      "metadata": {
        "id": "a2121a05"
      },
      "source": [
        "#### 56. Generate a generic 2D Gaussian-like array (★★☆)"
      ],
      "id": "a2121a05"
    },
    {
      "cell_type": "code",
      "execution_count": null,
      "metadata": {
        "colab": {
          "base_uri": "https://localhost:8080/"
        },
        "id": "18507102",
        "outputId": "02bbcb09-7d73-4a96-f41b-a84d51856055"
      },
      "outputs": [
        {
          "name": "stdout",
          "output_type": "stream",
          "text": [
            "[[7.24975407e-08 8.67937205e-08 1.03528073e-07 ... 1.03528073e-07\n",
            "  8.67937205e-08 7.24975407e-08]\n",
            " [8.67937205e-08 1.03909041e-07 1.23943330e-07 ... 1.23943330e-07\n",
            "  1.03909041e-07 8.67937205e-08]\n",
            " [1.03528073e-07 1.23943330e-07 1.47840352e-07 ... 1.47840352e-07\n",
            "  1.23943330e-07 1.03528073e-07]\n",
            " ...\n",
            " [1.03528073e-07 1.23943330e-07 1.47840352e-07 ... 1.47840352e-07\n",
            "  1.23943330e-07 1.03528073e-07]\n",
            " [8.67937205e-08 1.03909041e-07 1.23943330e-07 ... 1.23943330e-07\n",
            "  1.03909041e-07 8.67937205e-08]\n",
            " [7.24975407e-08 8.67937205e-08 1.03528073e-07 ... 1.03528073e-07\n",
            "  8.67937205e-08 7.24975407e-08]]\n"
          ]
        }
      ],
      "source": [
        "import numpy as np\n",
        "\n",
        "x, y = np.meshgrid(np.linspace(-3, 3, 100), np.linspace(-3, 3, 100))\n",
        "mean = [0, 0]\n",
        "cov = [[1, 0], [0, 1]]\n",
        "z = np.exp(-0.5 * (np.square(x - mean[0]) / cov[0][0] + np.square(y - mean[1]) / cov[1][1]))\n",
        "z /= np.sum(z)\n",
        "\n",
        "print(z)"
      ],
      "id": "18507102"
    },
    {
      "cell_type": "markdown",
      "metadata": {
        "id": "97055efa"
      },
      "source": [
        "#### 57. How to randomly place p elements in a 2D array? (★★☆)"
      ],
      "id": "97055efa"
    },
    {
      "cell_type": "code",
      "execution_count": null,
      "metadata": {
        "colab": {
          "base_uri": "https://localhost:8080/"
        },
        "id": "292e842f",
        "outputId": "9069168c-08f4-4d94-f2b7-92406fffb261"
      },
      "outputs": [
        {
          "name": "stdout",
          "output_type": "stream",
          "text": [
            "[[0. 1. 0. 1. 1.]\n",
            " [0. 0. 0. 1. 0.]\n",
            " [0. 0. 0. 1. 1.]\n",
            " [0. 0. 0. 0. 1.]\n",
            " [0. 0. 1. 0. 1.]]\n"
          ]
        }
      ],
      "source": [
        "import numpy as np\n",
        "\n",
        "rows, cols = 5, 5\n",
        "matrix = np.zeros((rows, cols))\n",
        "p = 10\n",
        "\n",
        "for _ in range(p):\n",
        "    row_index = np.random.randint(0, rows)\n",
        "    col_index = np.random.randint(0, cols)\n",
        "    matrix[row_index, col_index] = 1\n",
        "\n",
        "print(matrix)"
      ],
      "id": "292e842f"
    },
    {
      "cell_type": "markdown",
      "metadata": {
        "id": "bfd2513c"
      },
      "source": [
        "#### 58. Subtract the mean of each row of a matrix (★★☆)"
      ],
      "id": "bfd2513c"
    },
    {
      "cell_type": "code",
      "execution_count": null,
      "metadata": {
        "colab": {
          "base_uri": "https://localhost:8080/"
        },
        "id": "f306ab72",
        "outputId": "294f3194-7381-47ec-eda6-e6468cfcb41e"
      },
      "outputs": [
        {
          "name": "stdout",
          "output_type": "stream",
          "text": [
            "[[-1.  0.  1.]\n",
            " [-1.  0.  1.]\n",
            " [-1.  0.  1.]]\n"
          ]
        }
      ],
      "source": [
        "import numpy as np\n",
        "\n",
        "matrix = np.array([[1, 2, 3],\n",
        "                  [4, 5, 6],\n",
        "                  [7, 8, 9]])\n",
        "\n",
        "row_means = np.mean(matrix, axis=1)\n",
        "matrix_minus_means = matrix - row_means[:, np.newaxis]\n",
        "\n",
        "print(matrix_minus_means)\n"
      ],
      "id": "f306ab72"
    },
    {
      "cell_type": "markdown",
      "metadata": {
        "id": "da9f2f9b"
      },
      "source": [
        "#### 59. How to sort an array by the nth column? (★★☆)"
      ],
      "id": "da9f2f9b"
    },
    {
      "cell_type": "code",
      "execution_count": null,
      "metadata": {
        "colab": {
          "base_uri": "https://localhost:8080/"
        },
        "id": "68cde57f",
        "outputId": "e1da90b6-891d-4532-d66b-95a2c22be1f0"
      },
      "outputs": [
        {
          "name": "stdout",
          "output_type": "stream",
          "text": [
            "[[3 2 1]\n",
            " [6 5 4]\n",
            " [9 8 7]]\n"
          ]
        }
      ],
      "source": [
        "import numpy as np\n",
        "\n",
        "# Create a sample 2D array\n",
        "array = np.array([[3, 2, 1],\n",
        "                  [6, 5, 4],\n",
        "                  [9, 8, 7]])\n",
        "\n",
        "# Sort by the nth column (e.g., n=1 for the second column)\n",
        "n = 1\n",
        "sorted_array = array[array[:, n].argsort()]\n",
        "\n",
        "print(sorted_array)"
      ],
      "id": "68cde57f"
    },
    {
      "cell_type": "markdown",
      "metadata": {
        "id": "5b7be45c"
      },
      "source": [
        "#### 60. How to tell if a given 2D array has null columns? (★★☆)"
      ],
      "id": "5b7be45c"
    },
    {
      "cell_type": "code",
      "execution_count": null,
      "metadata": {
        "colab": {
          "base_uri": "https://localhost:8080/"
        },
        "id": "7dbe2c27",
        "outputId": "646c532f-8487-428b-e072-449b592a72f7"
      },
      "outputs": [
        {
          "name": "stdout",
          "output_type": "stream",
          "text": [
            "False\n"
          ]
        }
      ],
      "source": [
        "import numpy as np\n",
        "\n",
        "# Create a sample 2D array\n",
        "array = np.array([[1, 2, 0],\n",
        "                  [0, 0, 0],\n",
        "                  [4, 0, 6]])\n",
        "\n",
        "# Check if any column is null (all elements are zero)\n",
        "null_columns = np.all(array == 0, axis=0)\n",
        "\n",
        "print(np.any(null_columns))\n"
      ],
      "id": "7dbe2c27"
    },
    {
      "cell_type": "markdown",
      "metadata": {
        "id": "7c18c02e"
      },
      "source": [
        "#### 61. Find the nearest value from a given value in an array (★★☆)"
      ],
      "id": "7c18c02e"
    },
    {
      "cell_type": "code",
      "execution_count": null,
      "metadata": {
        "colab": {
          "base_uri": "https://localhost:8080/"
        },
        "id": "b78ae9c4",
        "outputId": "ce1a58e1-2a15-4f9d-bb78-fe78c55512b3"
      },
      "outputs": [
        {
          "name": "stdout",
          "output_type": "stream",
          "text": [
            "The nearest value to 6 is 5\n"
          ]
        }
      ],
      "source": [
        "import numpy as np\n",
        "\n",
        "def find_nearest_value(array, value):\n",
        "    array = np.array(array)\n",
        "    idx = (np.abs(array - value)).argmin()\n",
        "    nearest_value = array[idx]\n",
        "    return nearest_value\n",
        "\n",
        "# Example usage:\n",
        "my_array = [1, 3, 5, 7, 9]\n",
        "given_value = 6\n",
        "nearest = find_nearest_value(my_array, given_value)\n",
        "print(f\"The nearest value to {given_value} is {nearest}\")\n"
      ],
      "id": "b78ae9c4"
    },
    {
      "cell_type": "markdown",
      "metadata": {
        "id": "8174ba2c"
      },
      "source": [
        "#### 62. Considering two arrays with shape (1,3) and (3,1), how to compute their sum using an iterator? (★★☆)"
      ],
      "id": "8174ba2c"
    },
    {
      "cell_type": "code",
      "execution_count": null,
      "metadata": {
        "colab": {
          "base_uri": "https://localhost:8080/"
        },
        "id": "8a18fe57",
        "outputId": "6cfad0fa-389d-422a-bbb3-43fb614e7f15"
      },
      "outputs": [
        {
          "name": "stdout",
          "output_type": "stream",
          "text": [
            "32.0\n"
          ]
        }
      ],
      "source": [
        "import numpy as np\n",
        "\n",
        "array1 = np.array([[1, 2, 3]])\n",
        "array2 = np.array([[4], [5], [6]])\n",
        "\n",
        "if array1.shape[1] != array2.shape[0]:\n",
        "    raise ValueError(\"Shapes are not compatible for summation.\")\n",
        "\n",
        "sum_result = np.zeros((1, 1))\n",
        "\n",
        "for i in range(array1.shape[1]):\n",
        "    sum_result += array1[0, i] * array2[i, 0]\n",
        "\n",
        "print(sum_result[0, 0])\n"
      ],
      "id": "8a18fe57"
    },
    {
      "cell_type": "markdown",
      "metadata": {
        "id": "9189bd7c"
      },
      "source": [
        "#### 63. Create an array class that has a name attribute (★★☆)"
      ],
      "id": "9189bd7c"
    },
    {
      "cell_type": "code",
      "execution_count": null,
      "metadata": {
        "colab": {
          "base_uri": "https://localhost:8080/"
        },
        "id": "1c01ed42",
        "outputId": "f2916620-afcf-4ce5-e96d-f6dcb3890835"
      },
      "outputs": [
        {
          "name": "stdout",
          "output_type": "stream",
          "text": [
            "Array Name: My Custom Array\n",
            "Array: [1, 2, 3, 4, 5]\n"
          ]
        }
      ],
      "source": [
        "class NamedArray(list):\n",
        "    def __init__(self, name, *args):\n",
        "        super().__init__(*args)\n",
        "        self.name = name\n",
        "\n",
        "# Create a NamedArray with a name attribute\n",
        "my_array = NamedArray(\"My Custom Array\", [1, 2, 3, 4, 5])\n",
        "\n",
        "# Access the name attribute\n",
        "print(\"Array Name:\", my_array.name)\n",
        "\n",
        "# Access and use the array\n",
        "print(\"Array:\", my_array)\n"
      ],
      "id": "1c01ed42"
    },
    {
      "cell_type": "markdown",
      "metadata": {
        "id": "f30162d2"
      },
      "source": [
        "#### 64. Consider a given vector, how to add 1 to each element indexed by a second vector (be careful with repeated indices)? (★★★)"
      ],
      "id": "f30162d2"
    },
    {
      "cell_type": "code",
      "execution_count": null,
      "metadata": {
        "colab": {
          "base_uri": "https://localhost:8080/"
        },
        "id": "093ba36f",
        "outputId": "6b62ccc1-8c3c-48a4-e91a-f351389957bf"
      },
      "outputs": [
        {
          "name": "stdout",
          "output_type": "stream",
          "text": [
            "[1 3 4 5 6]\n"
          ]
        }
      ],
      "source": [
        "import numpy as np\n",
        "\n",
        "# Given vector\n",
        "original_vector = np.array([1, 2, 3, 4, 5])\n",
        "\n",
        "# Vector of indices\n",
        "indices_to_increment = np.array([1, 2, 3, 3, 4])\n",
        "\n",
        "# Create a set to keep track of unique indices\n",
        "unique_indices = set()\n",
        "\n",
        "# Loop through the indices and add 1 to elements at unique indices\n",
        "for idx in indices_to_increment:\n",
        "    if idx not in unique_indices:\n",
        "        original_vector[idx] += 1\n",
        "        unique_indices.add(idx)\n",
        "\n",
        "# Print the modified vector\n",
        "print(original_vector)\n"
      ],
      "id": "093ba36f"
    },
    {
      "cell_type": "markdown",
      "metadata": {
        "id": "f5b1c584"
      },
      "source": [
        "#### 65. How to accumulate elements of a vector (X) to an array (F) based on an index list (I)? (★★★)"
      ],
      "id": "f5b1c584"
    },
    {
      "cell_type": "code",
      "execution_count": null,
      "metadata": {
        "colab": {
          "base_uri": "https://localhost:8080/"
        },
        "id": "c9d92a75",
        "outputId": "33503744-6aca-44cf-9773-e6c9ad13fe54"
      },
      "outputs": [
        {
          "name": "stdout",
          "output_type": "stream",
          "text": [
            "[2. 3. 5. 5. 0.]\n"
          ]
        }
      ],
      "source": [
        "import numpy as np\n",
        "\n",
        "# Given vector X\n",
        "X = np.array([1, 2, 3, 4, 5])\n",
        "\n",
        "# Index list I (indices where elements will be accumulated)\n",
        "I = np.array([2, 0, 1, 2, 3, 4, 0, 1])\n",
        "\n",
        "# Initialize the array F with zeros\n",
        "F = np.zeros(np.max(I) + 1)\n",
        "\n",
        "# Accumulate elements from X into F based on indices in I\n",
        "for i, x in zip(I, X):\n",
        "    F[i] += x\n",
        "\n",
        "# Print the accumulated array F\n",
        "print(F)\n"
      ],
      "id": "c9d92a75"
    },
    {
      "cell_type": "markdown",
      "metadata": {
        "id": "994c452d"
      },
      "source": [
        "#### 66. Considering a (w,h,3) image of (dtype=ubyte), compute the number of unique colors (★★☆)"
      ],
      "id": "994c452d"
    },
    {
      "cell_type": "code",
      "execution_count": null,
      "metadata": {
        "colab": {
          "base_uri": "https://localhost:8080/"
        },
        "id": "269cdaea",
        "outputId": "70cac418-bc43-4432-a899-072826561856"
      },
      "outputs": [
        {
          "name": "stdout",
          "output_type": "stream",
          "text": [
            "Number of unique colors: 25\n"
          ]
        }
      ],
      "source": [
        "import numpy as np\n",
        "\n",
        "w, h = 5, 5\n",
        "image = np.random.randint(0, 256, size=(w, h, 3), dtype=np.uint8)\n",
        "image_reshaped = image.reshape(-1, 3)\n",
        "unique_colors = list(set(tuple(pixel) for pixel in image_reshaped))\n",
        "num_unique_colors = len(unique_colors)\n",
        "print(\"Number of unique colors:\", num_unique_colors)\n"
      ],
      "id": "269cdaea"
    },
    {
      "cell_type": "markdown",
      "metadata": {
        "id": "4bddeb31"
      },
      "source": [
        "#### 67. Considering a four dimensions array, how to get sum over the last two axis at once? (★★★)"
      ],
      "id": "4bddeb31"
    },
    {
      "cell_type": "code",
      "execution_count": null,
      "metadata": {
        "colab": {
          "base_uri": "https://localhost:8080/"
        },
        "id": "32af15f5",
        "outputId": "e3e65f96-95f7-4be8-c9df-92845dece8e0"
      },
      "outputs": [
        {
          "name": "stdout",
          "output_type": "stream",
          "text": [
            "Original Array:\n",
            "[[[[4 4]\n",
            "   [0 4]]\n",
            "\n",
            "  [[1 3]\n",
            "   [0 2]]\n",
            "\n",
            "  [[0 8]\n",
            "   [0 2]]]\n",
            "\n",
            "\n",
            " [[[5 0]\n",
            "   [7 3]]\n",
            "\n",
            "  [[9 0]\n",
            "   [0 9]]\n",
            "\n",
            "  [[6 6]\n",
            "   [6 5]]]\n",
            "\n",
            "\n",
            " [[[8 9]\n",
            "   [4 3]]\n",
            "\n",
            "  [[7 1]\n",
            "   [3 9]]\n",
            "\n",
            "  [[0 7]\n",
            "   [7 3]]]\n",
            "\n",
            "\n",
            " [[[0 8]\n",
            "   [6 7]]\n",
            "\n",
            "  [[7 2]\n",
            "   [9 9]]\n",
            "\n",
            "  [[5 3]\n",
            "   [9 2]]]]\n",
            "Sum Over Last Two Axes:\n",
            "[[12  6 10]\n",
            " [15 18 23]\n",
            " [24 20 17]\n",
            " [21 27 19]]\n"
          ]
        }
      ],
      "source": [
        "import numpy as np\n",
        "\n",
        "# Create a sample four-dimensional array (4x3x2x2)\n",
        "arr = np.random.randint(0, 10, size=(4, 3, 2, 2))\n",
        "\n",
        "# Get the sum over the last two axes (axis=(-2, -1))\n",
        "sum_over_last_two_axes = np.sum(arr, axis=(-2, -1))\n",
        "\n",
        "print(\"Original Array:\")\n",
        "print(arr)\n",
        "print(\"Sum Over Last Two Axes:\")\n",
        "print(sum_over_last_two_axes)"
      ],
      "id": "32af15f5"
    },
    {
      "cell_type": "markdown",
      "metadata": {
        "id": "c4cf083c"
      },
      "source": [
        "#### 68. Considering a one-dimensional vector D, how to compute means of subsets of D using a vector S of same size describing subset  indices? (★★★)"
      ],
      "id": "c4cf083c"
    },
    {
      "cell_type": "code",
      "execution_count": null,
      "metadata": {
        "colab": {
          "base_uri": "https://localhost:8080/"
        },
        "id": "9600a2dd",
        "outputId": "2c8a9f01-f22f-4553-df48-be991e6e1ca8"
      },
      "outputs": [
        {
          "name": "stdout",
          "output_type": "stream",
          "text": [
            "Subset Means: [3.3333333333333335, 5.0, 6.666666666666667]\n"
          ]
        }
      ],
      "source": [
        "import numpy as np\n",
        "\n",
        "D = np.array([1, 2, 3, 4, 5, 6, 7, 8, 9])\n",
        "S = np.array([0, 0, 1, 1, 2, 2, 0, 1, 2])  # Subset indices\n",
        "\n",
        "unique_subset_indices = np.unique(S)\n",
        "subset_means = [np.mean(D[S == idx]) for idx in unique_subset_indices]\n",
        "\n",
        "print(\"Subset Means:\", subset_means)"
      ],
      "id": "9600a2dd"
    },
    {
      "cell_type": "markdown",
      "metadata": {
        "id": "a5e316db"
      },
      "source": [
        "#### 69. How to get the diagonal of a dot product? (★★★)"
      ],
      "id": "a5e316db"
    },
    {
      "cell_type": "code",
      "execution_count": null,
      "metadata": {
        "colab": {
          "base_uri": "https://localhost:8080/"
        },
        "id": "94735dbd",
        "outputId": "143f00a0-3244-4b21-93f8-f20c644a9c73"
      },
      "outputs": [
        {
          "name": "stdout",
          "output_type": "stream",
          "text": [
            "The diagonal of the dot product is: 32\n"
          ]
        }
      ],
      "source": [
        "import numpy as np\n",
        "\n",
        "# Assuming A and B are numpy arrays\n",
        "A = np.array([1, 2, 3])\n",
        "B = np.array([4, 5, 6])\n",
        "\n",
        "# Calculate the diagonal of the dot product\n",
        "diagonal = np.sum(A * B)\n",
        "\n",
        "print(\"The diagonal of the dot product is:\", diagonal)"
      ],
      "id": "94735dbd"
    },
    {
      "cell_type": "markdown",
      "metadata": {
        "id": "de727a7b"
      },
      "source": [
        "#### 70. Consider the vector [1, 2, 3, 4, 5], how to build a new vector with 3 consecutive zeros interleaved between each value? (★★★)"
      ],
      "id": "de727a7b"
    },
    {
      "cell_type": "code",
      "execution_count": null,
      "metadata": {
        "colab": {
          "base_uri": "https://localhost:8080/"
        },
        "id": "982be812",
        "outputId": "4970e868-be8b-4e95-ee15-dd8023fb385b"
      },
      "outputs": [
        {
          "name": "stdout",
          "output_type": "stream",
          "text": [
            "The new vector is: [1 0 2 0 3 0 4 0 5 0]\n"
          ]
        }
      ],
      "source": [
        "import numpy as np\n",
        "\n",
        "# Your initial vector\n",
        "vector = np.array([1, 2, 3, 4, 5])\n",
        "\n",
        "# Create a new vector with 3 consecutive zeros interleaved between each value\n",
        "new_vector = np.repeat(vector, 2)\n",
        "new_vector[1::2] = 0\n",
        "\n",
        "print(\"The new vector is:\", new_vector)"
      ],
      "id": "982be812"
    },
    {
      "cell_type": "markdown",
      "metadata": {
        "id": "a9a73d6b"
      },
      "source": [
        "#### 71. Consider an array of dimension (5,5,3), how to mulitply it by an array with dimensions (5,5)? (★★★)"
      ],
      "id": "a9a73d6b"
    },
    {
      "cell_type": "code",
      "execution_count": null,
      "metadata": {
        "colab": {
          "base_uri": "https://localhost:8080/"
        },
        "id": "282a90cc",
        "outputId": "d2a5f69b-a477-4743-9580-8021966c4e5a"
      },
      "outputs": [
        {
          "name": "stdout",
          "output_type": "stream",
          "text": [
            "Array (5, 5, 3):\n",
            "[[[0.28793268 0.71522976 0.61265299]\n",
            "  [0.78949372 0.35951597 0.06187224]\n",
            "  [0.77503813 0.71955374 0.06687945]\n",
            "  [0.43883182 0.89189186 0.37255113]\n",
            "  [0.7244196  0.71519366 0.92632413]]\n",
            "\n",
            " [[0.83823318 0.36405784 0.79605993]\n",
            "  [0.2933153  0.8816498  0.05481494]\n",
            "  [0.43772777 0.96621797 0.99336661]\n",
            "  [0.03954693 0.49563499 0.66023277]\n",
            "  [0.13605528 0.29705845 0.7789388 ]]\n",
            "\n",
            " [[0.80861647 0.1973456  0.90897037]\n",
            "  [0.74363328 0.67354918 0.16711701]\n",
            "  [0.18831401 0.96210352 0.06162419]\n",
            "  [0.3875642  0.67456611 0.58999564]\n",
            "  [0.99592752 0.36131386 0.99021378]]\n",
            "\n",
            " [[0.35396013 0.4344063  0.67503662]\n",
            "  [0.42634698 0.53460813 0.06402624]\n",
            "  [0.71425283 0.80912647 0.18470486]\n",
            "  [0.25423919 0.37388436 0.39146726]\n",
            "  [0.28424711 0.45897019 0.56305097]]\n",
            "\n",
            " [[0.18244503 0.30348289 0.85869685]\n",
            "  [0.86244773 0.63078171 0.07578537]\n",
            "  [0.80855547 0.93693835 0.93246622]\n",
            "  [0.94613923 0.34512268 0.61286382]\n",
            "  [0.94636967 0.04181426 0.96027734]]]\n",
            "\n",
            "Array (5, 5):\n",
            "[[0.53527867 0.50484149 0.84520553 0.95341187 0.339493  ]\n",
            " [0.53250904 0.17729972 0.29752473 0.07098607 0.88162765]\n",
            " [0.37072248 0.96758286 0.93322011 0.68475975 0.13678554]\n",
            " [0.0233793  0.30826744 0.72632841 0.48538502 0.26958544]\n",
            " [0.35238082 0.09649383 0.49892491 0.29627184 0.94437334]]\n",
            "\n",
            "Result after multiplication:\n",
            "[[[0.15412422 0.38284724 0.32794008]\n",
            "  [0.39856919 0.18149858 0.03123567]\n",
            "  [0.65506651 0.60817081 0.05652688]\n",
            "  [0.41838747 0.85034029 0.35519467]\n",
            "  [0.24593538 0.24280324 0.31448055]]\n",
            "\n",
            " [[0.44636675 0.19386409 0.42390911]\n",
            "  [0.05200472 0.15631626 0.00971867]\n",
            "  [0.13023484 0.28747374 0.29555114]\n",
            "  [0.00280728 0.03518318 0.04686733]\n",
            "  [0.11995009 0.26189494 0.68673398]]\n",
            "\n",
            " [[0.2997723  0.07316045 0.33697575]\n",
            "  [0.71952681 0.65171464 0.16169955]\n",
            "  [0.17573842 0.89785435 0.05750894]\n",
            "  [0.26538836 0.46191572 0.40400527]\n",
            "  [0.13622849 0.04942251 0.13544693]]\n",
            "\n",
            " [[0.00827534 0.01015611 0.01578188]\n",
            "  [0.13142889 0.16480228 0.01973721]\n",
            "  [0.51878212 0.58769154 0.13415639]\n",
            "  [0.12340389 0.18147787 0.19001234]\n",
            "  [0.07662888 0.12373168 0.15179035]]\n",
            "\n",
            " [[0.06429013 0.10694155 0.3025883 ]\n",
            "  [0.08322088 0.06086654 0.00731282]\n",
            "  [0.40340847 0.46746188 0.46523063]\n",
            "  [0.28031441 0.10225013 0.18157429]\n",
            "  [0.89372628 0.03948827 0.90686031]]]\n"
          ]
        }
      ],
      "source": [
        "import numpy as np\n",
        "\n",
        "# Create arrays\n",
        "array_3d = np.random.rand(5, 5, 3)\n",
        "array_2d = np.random.rand(5, 5)\n",
        "\n",
        "# Multiply the arrays\n",
        "result = array_3d * array_2d[:, :, np.newaxis]\n",
        "\n",
        "print(\"Array (5, 5, 3):\")\n",
        "print(array_3d)\n",
        "print(\"\\nArray (5, 5):\")\n",
        "print(array_2d)\n",
        "print(\"\\nResult after multiplication:\")\n",
        "print(result)"
      ],
      "id": "282a90cc"
    },
    {
      "cell_type": "markdown",
      "metadata": {
        "id": "a951c78f"
      },
      "source": [
        "#### 72. How to swap two rows of an array? (★★★)"
      ],
      "id": "a951c78f"
    },
    {
      "cell_type": "code",
      "execution_count": null,
      "metadata": {
        "colab": {
          "base_uri": "https://localhost:8080/"
        },
        "id": "e29b3fde",
        "outputId": "02e8d45e-ba6f-46d1-8f6e-05d526a6f573"
      },
      "outputs": [
        {
          "name": "stdout",
          "output_type": "stream",
          "text": [
            "The swapped array is: [[3 6 9]\n",
            " [2 5 8]\n",
            " [1 4 7]]\n"
          ]
        }
      ],
      "source": [
        "import numpy as np\n",
        "\n",
        "array = np.array([\n",
        " [1, 2, 3],\n",
        " [4, 5, 6],\n",
        " [7, 8, 9]])\n",
        "\n",
        "array = np.swapaxes(array, 0, 1)[::-1, ::]\n",
        "\n",
        "print(\"The swapped array is:\", array)"
      ],
      "id": "e29b3fde"
    },
    {
      "cell_type": "markdown",
      "metadata": {
        "id": "43b639e8"
      },
      "source": [
        "#### 73. Consider a set of 10 triplets describing 10 triangles (with shared vertices), find the set of unique line segments composing all the  triangles (★★★)"
      ],
      "id": "43b639e8"
    },
    {
      "cell_type": "code",
      "execution_count": null,
      "metadata": {
        "colab": {
          "base_uri": "https://localhost:8080/"
        },
        "id": "147e1034",
        "outputId": "026a11c9-13be-4b98-9c12-a6f532568470"
      },
      "outputs": [
        {
          "name": "stdout",
          "output_type": "stream",
          "text": [
            "The swapped array is: [[7 8 9]\n",
            " [4 5 6]\n",
            " [1 2 3]]\n"
          ]
        }
      ],
      "source": [
        "import numpy as np\n",
        "\n",
        "# Your initial array\n",
        "array = np.array([[1, 2, 3],\n",
        "                   [4, 5, 6],\n",
        "                   [7, 8, 9]])\n",
        "\n",
        "# Swap the 1st and 3rd rows of the array\n",
        "array[[0, 2]] = array[[2, 0]]\n",
        "\n",
        "print(\"The swapped array is:\", array)"
      ],
      "id": "147e1034"
    },
    {
      "cell_type": "markdown",
      "metadata": {
        "id": "d41de585"
      },
      "source": [
        "#### 74. Given a sorted array C that corresponds to a bincount, how to produce an array A such that np.bincount(A) == C? (★★★)"
      ],
      "id": "d41de585"
    },
    {
      "cell_type": "code",
      "execution_count": null,
      "metadata": {
        "colab": {
          "base_uri": "https://localhost:8080/"
        },
        "id": "5f5d6e36",
        "outputId": "9462610a-ca13-4408-80cc-31f94c14c5b7"
      },
      "outputs": [
        {
          "name": "stdout",
          "output_type": "stream",
          "text": [
            "Original Array A:\n",
            "[1 1 3 4 5 5 5 6 6]\n"
          ]
        }
      ],
      "source": [
        "import numpy as np\n",
        "\n",
        "# Example sorted array C (result of np.bincount)\n",
        "C = np.array([0, 2, 0, 1, 1, 3, 2])\n",
        "\n",
        "# Reconstruct the original array A\n",
        "A = np.repeat(np.arange(len(C)), C)\n",
        "\n",
        "print(\"Original Array A:\")\n",
        "print(A)"
      ],
      "id": "5f5d6e36"
    },
    {
      "cell_type": "markdown",
      "metadata": {
        "id": "b50adf7c"
      },
      "source": [
        "#### 75. How to compute averages using a sliding window over an array? (★★★)"
      ],
      "id": "b50adf7c"
    },
    {
      "cell_type": "code",
      "execution_count": null,
      "metadata": {
        "colab": {
          "base_uri": "https://localhost:8080/"
        },
        "id": "e631a9d2",
        "outputId": "0ca2517f-d4d4-48e8-86ea-8187be25057b"
      },
      "outputs": [
        {
          "name": "stdout",
          "output_type": "stream",
          "text": [
            "Original Array:\n",
            "[ 1  2  3  4  5  6  7  8  9 10]\n",
            "\n",
            "Sliding Window Averages (window size 3):\n",
            "[2. 3. 4. 5. 6. 7. 8. 9.]\n"
          ]
        }
      ],
      "source": [
        "import numpy as np\n",
        "\n",
        "def sliding_window_average(arr, window_size):\n",
        "    # Create a 1D averaging kernel\n",
        "    kernel = np.ones(window_size) / window_size\n",
        "\n",
        "    # Use convolution to compute the sliding window average\n",
        "    result = np.convolve(arr, kernel, mode='valid')\n",
        "\n",
        "    return result\n",
        "\n",
        "# Example array\n",
        "my_array = np.array([1, 2, 3, 4, 5, 6, 7, 8, 9, 10])\n",
        "\n",
        "# Set the window size\n",
        "window_size = 3\n",
        "\n",
        "# Compute sliding window averages\n",
        "averages = sliding_window_average(my_array, window_size)\n",
        "\n",
        "print(\"Original Array:\")\n",
        "print(my_array)\n",
        "print(f\"\\nSliding Window Averages (window size {window_size}):\")\n",
        "print(averages)"
      ],
      "id": "e631a9d2"
    },
    {
      "cell_type": "markdown",
      "metadata": {
        "id": "1ab4c50d"
      },
      "source": [
        "#### 76. Consider a one-dimensional array Z, build a two-dimensional array whose first row is (Z[0],Z[1],Z[2]) and each subsequent row is  shifted by 1 (last row should be (Z[-3],Z[-2],Z[-1]) (★★★)"
      ],
      "id": "1ab4c50d"
    },
    {
      "cell_type": "code",
      "execution_count": null,
      "metadata": {
        "colab": {
          "base_uri": "https://localhost:8080/"
        },
        "id": "3ccfe2c0",
        "outputId": "db0ffb22-3574-40b2-84fe-f640261b4dc7"
      },
      "outputs": [
        {
          "name": "stdout",
          "output_type": "stream",
          "text": [
            "Original Array Z:\n",
            "[1 2 3 4 5 6 7]\n",
            "\n",
            "Two-dimensional Array:\n",
            "[[1 2 3]\n",
            " [2 3 4]\n",
            " [3 4 5]\n",
            " [4 5 6]\n",
            " [5 6 7]]\n"
          ]
        }
      ],
      "source": [
        "import numpy as np\n",
        "\n",
        "Z = np.array([1, 2, 3, 4, 5, 6, 7])\n",
        "\n",
        "rows = [Z[i:i+3] for i in range(len(Z)-2)]\n",
        "result = np.vstack(rows)\n",
        "\n",
        "print(\"Original Array Z:\")\n",
        "print(Z)\n",
        "print(\"\\nTwo-dimensional Array:\")\n",
        "print(result)"
      ],
      "id": "3ccfe2c0"
    },
    {
      "cell_type": "markdown",
      "metadata": {
        "id": "5b4fe59d"
      },
      "source": [
        "#### 77. How to negate a boolean, or to change the sign of a float inplace? (★★★)"
      ],
      "id": "5b4fe59d"
    },
    {
      "cell_type": "code",
      "execution_count": null,
      "metadata": {
        "colab": {
          "base_uri": "https://localhost:8080/"
        },
        "id": "3c2373ff",
        "outputId": "d13af4d9-1a6d-498f-d0a4-df383dfdbc95"
      },
      "outputs": [
        {
          "name": "stdout",
          "output_type": "stream",
          "text": [
            "Original Boolean: True\n",
            "Negated Boolean: False\n",
            "Original Float: -3.14\n"
          ]
        }
      ],
      "source": [
        "# Negate a boolean\n",
        "my_boolean = True\n",
        "negated_boolean = not my_boolean\n",
        "\n",
        "print(\"Original Boolean:\", my_boolean)\n",
        "print(\"Negated Boolean:\", negated_boolean)\n",
        "\n",
        "# Change the sign of a float in place\n",
        "my_float = 3.14\n",
        "my_float *= -1\n",
        "\n",
        "print(\"Original Float:\", my_float)"
      ],
      "id": "3c2373ff"
    },
    {
      "cell_type": "markdown",
      "metadata": {
        "id": "119ab5af"
      },
      "source": [
        "#### 78. Consider 2 sets of points P0,P1 describing lines (2d) and a point p, how to compute distance from p to each line i (P0[i],P1[i])? (★★★)"
      ],
      "id": "119ab5af"
    },
    {
      "cell_type": "code",
      "execution_count": null,
      "metadata": {
        "colab": {
          "base_uri": "https://localhost:8080/"
        },
        "id": "1d8d06dc",
        "outputId": "aa7d2165-b1b0-4a33-d438-f47104846185"
      },
      "outputs": [
        {
          "name": "stdout",
          "output_type": "stream",
          "text": [
            "Distances to Lines: [1.8        1.2493901  0.89625816]\n"
          ]
        }
      ],
      "source": [
        "import numpy as np\n",
        "\n",
        "def distance_to_lines(P0, P1, p):\n",
        "    # Convert points to NumPy arrays for vectorized operations\n",
        "    P0 = np.array(P0)\n",
        "    P1 = np.array(P1)\n",
        "    p = np.array(p)\n",
        "\n",
        "    # Calculate the vectorized distances\n",
        "    numerators = np.abs(np.cross(P1 - P0, P0 - p))\n",
        "    denominators = np.sqrt(np.sum((P1 - P0)**2, axis=1))\n",
        "\n",
        "    distances = numerators / denominators\n",
        "\n",
        "    return distances\n",
        "\n",
        "# Example usage:\n",
        "P0 = [(1, 1), (2, 2), (3, 3)]\n",
        "P1 = [(4, 5), (6, 7), (8, 9)]\n",
        "p = (10, 10)\n",
        "\n",
        "distances = distance_to_lines(P0, P1, p)\n",
        "print(\"Distances to Lines:\", distances)"
      ],
      "id": "1d8d06dc"
    },
    {
      "cell_type": "markdown",
      "metadata": {
        "id": "e5e7f323"
      },
      "source": [
        "#### 79. Consider 2 sets of points P0,P1 describing lines (2d) and a set of points P, how to compute distance from each point j (P[j]) to each line i (P0[i],P1[i])? (★★★)"
      ],
      "id": "e5e7f323"
    },
    {
      "cell_type": "code",
      "execution_count": null,
      "metadata": {
        "colab": {
          "base_uri": "https://localhost:8080/"
        },
        "id": "d0ce77e2",
        "outputId": "7cbe0233-8ff4-4eab-b895-54fe3b738bbd"
      },
      "outputs": [
        {
          "name": "stdout",
          "output_type": "stream",
          "text": [
            "Distances to Lines:\n",
            "[[1.8        2.         2.2       ]\n",
            " [1.2493901  1.40556386 1.56173762]\n",
            " [0.89625816 1.02429504 1.15233192]]\n"
          ]
        }
      ],
      "source": [
        "import numpy as np\n",
        "\n",
        "def distance_to_lines(P0, P1, P):\n",
        "    # Convert points to NumPy arrays for vectorized operations\n",
        "    P0 = np.array(P0)\n",
        "    P1 = np.array(P1)\n",
        "    P = np.array(P)\n",
        "\n",
        "    # Calculate vectorized distances\n",
        "    numerators = np.abs(np.cross(P1 - P0, P0[:, None, :] - P))\n",
        "    denominators = np.sqrt(np.sum((P1 - P0)**2, axis=1))\n",
        "\n",
        "    distances = numerators / denominators[:, None]\n",
        "\n",
        "    return distances\n",
        "\n",
        "# Example usage:\n",
        "P0 = [(1, 1), (2, 2), (3, 3)]\n",
        "P1 = [(4, 5), (6, 7), (8, 9)]\n",
        "P = [(10, 10), (11, 11), (12, 12)]\n",
        "\n",
        "distances = distance_to_lines(P0, P1, P)\n",
        "print(\"Distances to Lines:\")\n",
        "print(distances)"
      ],
      "id": "d0ce77e2"
    },
    {
      "cell_type": "markdown",
      "metadata": {
        "id": "9b9d03eb"
      },
      "source": [
        "#### 80. Consider an arbitrary array, write a function that extract a subpart with a fixed shape and centered on a given element (pad with a `fill` value when necessary) (★★★)"
      ],
      "id": "9b9d03eb"
    },
    {
      "cell_type": "code",
      "execution_count": null,
      "metadata": {
        "id": "ec2b7ae3",
        "colab": {
          "base_uri": "https://localhost:8080/"
        },
        "outputId": "c17b4bac-0cea-44df-eba9-8480436a7700"
      },
      "outputs": [
        {
          "output_type": "stream",
          "name": "stdout",
          "text": [
            "[[2 3 4]\n",
            " [6 7 8]]\n"
          ]
        }
      ],
      "source": [
        "import numpy as np\n",
        "\n",
        "def extract_subpart(array, center, subpart_shape, fill_value=0):\n",
        "    \"\"\"\n",
        "    Extract a subpart from an array centered on a given element.\n",
        "\n",
        "    Parameters:\n",
        "    - array: The input array.\n",
        "    - center: The center element around which the subpart should be extracted.\n",
        "    - subpart_shape: The shape of the desired subpart.\n",
        "    - fill_value: The value to fill in when padding is necessary.\n",
        "\n",
        "    Returns:\n",
        "    - subpart: The extracted subpart with the specified shape.\n",
        "    \"\"\"\n",
        "    half_shape = np.array(subpart_shape) // 2\n",
        "    center_coords = np.array(center)\n",
        "\n",
        "    start_coords = np.maximum(center_coords - half_shape, 0)\n",
        "    end_coords = start_coords + subpart_shape\n",
        "\n",
        "    pad_start = np.maximum(0, -start_coords)\n",
        "    pad_end = np.maximum(0, end_coords - np.array(array.shape))\n",
        "\n",
        "    start_coords += pad_start\n",
        "    end_coords += pad_start\n",
        "\n",
        "    subpart = np.full(subpart_shape, fill_value)\n",
        "    subpart[pad_start[0]:subpart_shape[0]-pad_end[0], pad_start[1]:subpart_shape[1]-pad_end[1]] = array[start_coords[0]:end_coords[0], start_coords[1]:end_coords[1]]\n",
        "\n",
        "    return subpart\n",
        "\n",
        "# Example usage:\n",
        "array = np.array([[1, 2, 3, 4],\n",
        "                  [5, 6, 7, 8],\n",
        "                  [9, 10, 11, 12]])\n",
        "\n",
        "center_element = (1, 2)\n",
        "subpart_shape = (2, 3)\n",
        "\n",
        "result = extract_subpart(array, center_element, subpart_shape, fill_value=-1)\n",
        "print(result)"
      ],
      "id": "ec2b7ae3"
    },
    {
      "cell_type": "markdown",
      "metadata": {
        "id": "27794913"
      },
      "source": [
        "#### 81. Consider an array Z = [1,2,3,4,5,6,7,8,9,10,11,12,13,14], how to generate an array R = [[1,2,3,4], [2,3,4,5], [3,4,5,6], ..., [11,12,13,14]]? (★★★)"
      ],
      "id": "27794913"
    },
    {
      "cell_type": "code",
      "execution_count": null,
      "metadata": {
        "colab": {
          "base_uri": "https://localhost:8080/"
        },
        "id": "f3e7878b",
        "outputId": "4ea2e201-3b07-4a79-b389-55f9af14e46d"
      },
      "outputs": [
        {
          "name": "stdout",
          "output_type": "stream",
          "text": [
            "Original Array Z:\n",
            "[ 1  2  3  4  5  6  7  8  9 10 11 12 13 14]\n",
            "\n",
            "Generated Array R:\n",
            "[[ 1  2  3  4]\n",
            " [ 2  3  4  5]\n",
            " [ 3  4  5  6]\n",
            " [ 4  5  6  7]\n",
            " [ 5  6  7  8]\n",
            " [ 6  7  8  9]\n",
            " [ 7  8  9 10]\n",
            " [ 8  9 10 11]\n",
            " [ 9 10 11 12]\n",
            " [10 11 12 13]\n",
            " [11 12 13 14]]\n"
          ]
        }
      ],
      "source": [
        "import numpy as np\n",
        "\n",
        "# Original array Z\n",
        "Z = np.array([1, 2, 3, 4, 5, 6, 7, 8, 9, 10, 11, 12, 13, 14])\n",
        "\n",
        "# Window size\n",
        "window_size = 4\n",
        "\n",
        "# Generate array R using a sliding window\n",
        "R = np.lib.stride_tricks.sliding_window_view(Z, (window_size,))\n",
        "\n",
        "print(\"Original Array Z:\")\n",
        "print(Z)\n",
        "print(\"\\nGenerated Array R:\")\n",
        "print(R)"
      ],
      "id": "f3e7878b"
    },
    {
      "cell_type": "markdown",
      "metadata": {
        "id": "fae786f5"
      },
      "source": [
        "#### 82. Compute a matrix rank (★★★)"
      ],
      "id": "fae786f5"
    },
    {
      "cell_type": "code",
      "execution_count": null,
      "metadata": {
        "colab": {
          "base_uri": "https://localhost:8080/"
        },
        "id": "64b9615b",
        "outputId": "16e63858-286f-4f0c-c394-b2dd29a077cc"
      },
      "outputs": [
        {
          "name": "stdout",
          "output_type": "stream",
          "text": [
            "Original Matrix:\n",
            "[[1 2 3]\n",
            " [4 5 6]\n",
            " [7 8 9]]\n",
            "\n",
            "Matrix Rank: 2\n"
          ]
        }
      ],
      "source": [
        "import numpy as np\n",
        "\n",
        "# Create a sample matrix\n",
        "matrix = np.array([[1, 2, 3],\n",
        "                   [4, 5, 6],\n",
        "                   [7, 8, 9]])\n",
        "\n",
        "# Compute the matrix rank\n",
        "rank = np.linalg.matrix_rank(matrix)\n",
        "\n",
        "print(\"Original Matrix:\")\n",
        "print(matrix)\n",
        "print(\"\\nMatrix Rank:\", rank)"
      ],
      "id": "64b9615b"
    },
    {
      "cell_type": "markdown",
      "metadata": {
        "id": "c85aa0b9"
      },
      "source": [
        "#### 83. How to find the most frequent value in an array?"
      ],
      "id": "c85aa0b9"
    },
    {
      "cell_type": "code",
      "execution_count": null,
      "metadata": {
        "colab": {
          "base_uri": "https://localhost:8080/"
        },
        "id": "056be85b",
        "outputId": "7161a356-ad3a-4c3d-8dfa-7a123ab5df30"
      },
      "outputs": [
        {
          "name": "stdout",
          "output_type": "stream",
          "text": [
            "Original Array:\n",
            "[1 2 2 3 3 3 4 4 4 4 5 5]\n",
            "\n",
            "Most Frequent Value: 4\n"
          ]
        }
      ],
      "source": [
        "import numpy as np\n",
        "\n",
        "# Create a sample array\n",
        "my_array = np.array([1, 2, 2, 3, 3, 3, 4, 4, 4, 4, 5, 5])\n",
        "\n",
        "# Find the most frequent value\n",
        "most_frequent_value = np.argmax(np.bincount(my_array))\n",
        "\n",
        "print(\"Original Array:\")\n",
        "print(my_array)\n",
        "print(\"\\nMost Frequent Value:\", most_frequent_value)"
      ],
      "id": "056be85b"
    },
    {
      "cell_type": "markdown",
      "metadata": {
        "id": "0ff2344d"
      },
      "source": [
        "#### 84. Extract all the contiguous 3x3 blocks from a random 10x10 matrix (★★★)"
      ],
      "id": "0ff2344d"
    },
    {
      "cell_type": "code",
      "execution_count": null,
      "metadata": {
        "colab": {
          "base_uri": "https://localhost:8080/"
        },
        "id": "d58b1318",
        "outputId": "2bad37c5-f13b-4bd5-e7e1-f68b984a9148"
      },
      "outputs": [
        {
          "name": "stdout",
          "output_type": "stream",
          "text": [
            "Original Matrix:\n",
            "[[0.34444314 0.09493254 0.9658878  0.83056163 0.39762328 0.12664019\n",
            "  0.5595468  0.49647648 0.51311895 0.30498151]\n",
            " [0.49733114 0.8290676  0.3045896  0.41292373 0.36268956 0.15792722\n",
            "  0.64961824 0.49659589 0.72264574 0.79172487]\n",
            " [0.68738651 0.82739104 0.76293645 0.70339216 0.23334969 0.61139492\n",
            "  0.23316745 0.7705709  0.6210014  0.64834008]\n",
            " [0.13931869 0.58850046 0.63766482 0.06793574 0.91915411 0.24683002\n",
            "  0.33876291 0.38808423 0.73024987 0.88184646]\n",
            " [0.14157009 0.05289666 0.54424926 0.6633466  0.01528577 0.92874864\n",
            "  0.20678866 0.85656121 0.57845346 0.02443849]\n",
            " [0.5459903  0.93718399 0.78469459 0.84356275 0.11560476 0.48858693\n",
            "  0.08352315 0.83920378 0.8606291  0.70945846]\n",
            " [0.29559569 0.74433388 0.0745844  0.49545185 0.45902978 0.87470734\n",
            "  0.42331517 0.45977415 0.85053834 0.0853715 ]\n",
            " [0.6019651  0.01683865 0.96692524 0.49446804 0.90813312 0.14553157\n",
            "  0.29322522 0.10614165 0.08382593 0.30276464]\n",
            " [0.51168394 0.42323253 0.43829374 0.56800872 0.32527631 0.70952427\n",
            "  0.63578194 0.22174526 0.35892353 0.40984877]\n",
            " [0.57069258 0.45618283 0.82550921 0.09133234 0.24044807 0.08877225\n",
            "  0.91870361 0.8180728  0.63187075 0.99790518]]\n",
            "\n",
            "Extracted 3x3 Blocks:\n",
            "[[[0.34444314 0.09493254 0.9658878 ]\n",
            "  [0.49733114 0.8290676  0.3045896 ]\n",
            "  [0.68738651 0.82739104 0.76293645]]\n",
            "\n",
            " [[0.09493254 0.9658878  0.83056163]\n",
            "  [0.8290676  0.3045896  0.41292373]\n",
            "  [0.82739104 0.76293645 0.70339216]]\n",
            "\n",
            " [[0.9658878  0.83056163 0.39762328]\n",
            "  [0.3045896  0.41292373 0.36268956]\n",
            "  [0.76293645 0.70339216 0.23334969]]\n",
            "\n",
            " [[0.83056163 0.39762328 0.12664019]\n",
            "  [0.41292373 0.36268956 0.15792722]\n",
            "  [0.70339216 0.23334969 0.61139492]]\n",
            "\n",
            " [[0.39762328 0.12664019 0.5595468 ]\n",
            "  [0.36268956 0.15792722 0.64961824]\n",
            "  [0.23334969 0.61139492 0.23316745]]\n",
            "\n",
            " [[0.12664019 0.5595468  0.49647648]\n",
            "  [0.15792722 0.64961824 0.49659589]\n",
            "  [0.61139492 0.23316745 0.7705709 ]]\n",
            "\n",
            " [[0.5595468  0.49647648 0.51311895]\n",
            "  [0.64961824 0.49659589 0.72264574]\n",
            "  [0.23316745 0.7705709  0.6210014 ]]\n",
            "\n",
            " [[0.49647648 0.51311895 0.30498151]\n",
            "  [0.49659589 0.72264574 0.79172487]\n",
            "  [0.7705709  0.6210014  0.64834008]]\n",
            "\n",
            " [[0.49733114 0.8290676  0.3045896 ]\n",
            "  [0.68738651 0.82739104 0.76293645]\n",
            "  [0.13931869 0.58850046 0.63766482]]\n",
            "\n",
            " [[0.8290676  0.3045896  0.41292373]\n",
            "  [0.82739104 0.76293645 0.70339216]\n",
            "  [0.58850046 0.63766482 0.06793574]]\n",
            "\n",
            " [[0.3045896  0.41292373 0.36268956]\n",
            "  [0.76293645 0.70339216 0.23334969]\n",
            "  [0.63766482 0.06793574 0.91915411]]\n",
            "\n",
            " [[0.41292373 0.36268956 0.15792722]\n",
            "  [0.70339216 0.23334969 0.61139492]\n",
            "  [0.06793574 0.91915411 0.24683002]]\n",
            "\n",
            " [[0.36268956 0.15792722 0.64961824]\n",
            "  [0.23334969 0.61139492 0.23316745]\n",
            "  [0.91915411 0.24683002 0.33876291]]\n",
            "\n",
            " [[0.15792722 0.64961824 0.49659589]\n",
            "  [0.61139492 0.23316745 0.7705709 ]\n",
            "  [0.24683002 0.33876291 0.38808423]]\n",
            "\n",
            " [[0.64961824 0.49659589 0.72264574]\n",
            "  [0.23316745 0.7705709  0.6210014 ]\n",
            "  [0.33876291 0.38808423 0.73024987]]\n",
            "\n",
            " [[0.49659589 0.72264574 0.79172487]\n",
            "  [0.7705709  0.6210014  0.64834008]\n",
            "  [0.38808423 0.73024987 0.88184646]]\n",
            "\n",
            " [[0.68738651 0.82739104 0.76293645]\n",
            "  [0.13931869 0.58850046 0.63766482]\n",
            "  [0.14157009 0.05289666 0.54424926]]\n",
            "\n",
            " [[0.82739104 0.76293645 0.70339216]\n",
            "  [0.58850046 0.63766482 0.06793574]\n",
            "  [0.05289666 0.54424926 0.6633466 ]]\n",
            "\n",
            " [[0.76293645 0.70339216 0.23334969]\n",
            "  [0.63766482 0.06793574 0.91915411]\n",
            "  [0.54424926 0.6633466  0.01528577]]\n",
            "\n",
            " [[0.70339216 0.23334969 0.61139492]\n",
            "  [0.06793574 0.91915411 0.24683002]\n",
            "  [0.6633466  0.01528577 0.92874864]]\n",
            "\n",
            " [[0.23334969 0.61139492 0.23316745]\n",
            "  [0.91915411 0.24683002 0.33876291]\n",
            "  [0.01528577 0.92874864 0.20678866]]\n",
            "\n",
            " [[0.61139492 0.23316745 0.7705709 ]\n",
            "  [0.24683002 0.33876291 0.38808423]\n",
            "  [0.92874864 0.20678866 0.85656121]]\n",
            "\n",
            " [[0.23316745 0.7705709  0.6210014 ]\n",
            "  [0.33876291 0.38808423 0.73024987]\n",
            "  [0.20678866 0.85656121 0.57845346]]\n",
            "\n",
            " [[0.7705709  0.6210014  0.64834008]\n",
            "  [0.38808423 0.73024987 0.88184646]\n",
            "  [0.85656121 0.57845346 0.02443849]]\n",
            "\n",
            " [[0.13931869 0.58850046 0.63766482]\n",
            "  [0.14157009 0.05289666 0.54424926]\n",
            "  [0.5459903  0.93718399 0.78469459]]\n",
            "\n",
            " [[0.58850046 0.63766482 0.06793574]\n",
            "  [0.05289666 0.54424926 0.6633466 ]\n",
            "  [0.93718399 0.78469459 0.84356275]]\n",
            "\n",
            " [[0.63766482 0.06793574 0.91915411]\n",
            "  [0.54424926 0.6633466  0.01528577]\n",
            "  [0.78469459 0.84356275 0.11560476]]\n",
            "\n",
            " [[0.06793574 0.91915411 0.24683002]\n",
            "  [0.6633466  0.01528577 0.92874864]\n",
            "  [0.84356275 0.11560476 0.48858693]]\n",
            "\n",
            " [[0.91915411 0.24683002 0.33876291]\n",
            "  [0.01528577 0.92874864 0.20678866]\n",
            "  [0.11560476 0.48858693 0.08352315]]\n",
            "\n",
            " [[0.24683002 0.33876291 0.38808423]\n",
            "  [0.92874864 0.20678866 0.85656121]\n",
            "  [0.48858693 0.08352315 0.83920378]]\n",
            "\n",
            " [[0.33876291 0.38808423 0.73024987]\n",
            "  [0.20678866 0.85656121 0.57845346]\n",
            "  [0.08352315 0.83920378 0.8606291 ]]\n",
            "\n",
            " [[0.38808423 0.73024987 0.88184646]\n",
            "  [0.85656121 0.57845346 0.02443849]\n",
            "  [0.83920378 0.8606291  0.70945846]]\n",
            "\n",
            " [[0.14157009 0.05289666 0.54424926]\n",
            "  [0.5459903  0.93718399 0.78469459]\n",
            "  [0.29559569 0.74433388 0.0745844 ]]\n",
            "\n",
            " [[0.05289666 0.54424926 0.6633466 ]\n",
            "  [0.93718399 0.78469459 0.84356275]\n",
            "  [0.74433388 0.0745844  0.49545185]]\n",
            "\n",
            " [[0.54424926 0.6633466  0.01528577]\n",
            "  [0.78469459 0.84356275 0.11560476]\n",
            "  [0.0745844  0.49545185 0.45902978]]\n",
            "\n",
            " [[0.6633466  0.01528577 0.92874864]\n",
            "  [0.84356275 0.11560476 0.48858693]\n",
            "  [0.49545185 0.45902978 0.87470734]]\n",
            "\n",
            " [[0.01528577 0.92874864 0.20678866]\n",
            "  [0.11560476 0.48858693 0.08352315]\n",
            "  [0.45902978 0.87470734 0.42331517]]\n",
            "\n",
            " [[0.92874864 0.20678866 0.85656121]\n",
            "  [0.48858693 0.08352315 0.83920378]\n",
            "  [0.87470734 0.42331517 0.45977415]]\n",
            "\n",
            " [[0.20678866 0.85656121 0.57845346]\n",
            "  [0.08352315 0.83920378 0.8606291 ]\n",
            "  [0.42331517 0.45977415 0.85053834]]\n",
            "\n",
            " [[0.85656121 0.57845346 0.02443849]\n",
            "  [0.83920378 0.8606291  0.70945846]\n",
            "  [0.45977415 0.85053834 0.0853715 ]]\n",
            "\n",
            " [[0.5459903  0.93718399 0.78469459]\n",
            "  [0.29559569 0.74433388 0.0745844 ]\n",
            "  [0.6019651  0.01683865 0.96692524]]\n",
            "\n",
            " [[0.93718399 0.78469459 0.84356275]\n",
            "  [0.74433388 0.0745844  0.49545185]\n",
            "  [0.01683865 0.96692524 0.49446804]]\n",
            "\n",
            " [[0.78469459 0.84356275 0.11560476]\n",
            "  [0.0745844  0.49545185 0.45902978]\n",
            "  [0.96692524 0.49446804 0.90813312]]\n",
            "\n",
            " [[0.84356275 0.11560476 0.48858693]\n",
            "  [0.49545185 0.45902978 0.87470734]\n",
            "  [0.49446804 0.90813312 0.14553157]]\n",
            "\n",
            " [[0.11560476 0.48858693 0.08352315]\n",
            "  [0.45902978 0.87470734 0.42331517]\n",
            "  [0.90813312 0.14553157 0.29322522]]\n",
            "\n",
            " [[0.48858693 0.08352315 0.83920378]\n",
            "  [0.87470734 0.42331517 0.45977415]\n",
            "  [0.14553157 0.29322522 0.10614165]]\n",
            "\n",
            " [[0.08352315 0.83920378 0.8606291 ]\n",
            "  [0.42331517 0.45977415 0.85053834]\n",
            "  [0.29322522 0.10614165 0.08382593]]\n",
            "\n",
            " [[0.83920378 0.8606291  0.70945846]\n",
            "  [0.45977415 0.85053834 0.0853715 ]\n",
            "  [0.10614165 0.08382593 0.30276464]]\n",
            "\n",
            " [[0.29559569 0.74433388 0.0745844 ]\n",
            "  [0.6019651  0.01683865 0.96692524]\n",
            "  [0.51168394 0.42323253 0.43829374]]\n",
            "\n",
            " [[0.74433388 0.0745844  0.49545185]\n",
            "  [0.01683865 0.96692524 0.49446804]\n",
            "  [0.42323253 0.43829374 0.56800872]]\n",
            "\n",
            " [[0.0745844  0.49545185 0.45902978]\n",
            "  [0.96692524 0.49446804 0.90813312]\n",
            "  [0.43829374 0.56800872 0.32527631]]\n",
            "\n",
            " [[0.49545185 0.45902978 0.87470734]\n",
            "  [0.49446804 0.90813312 0.14553157]\n",
            "  [0.56800872 0.32527631 0.70952427]]\n",
            "\n",
            " [[0.45902978 0.87470734 0.42331517]\n",
            "  [0.90813312 0.14553157 0.29322522]\n",
            "  [0.32527631 0.70952427 0.63578194]]\n",
            "\n",
            " [[0.87470734 0.42331517 0.45977415]\n",
            "  [0.14553157 0.29322522 0.10614165]\n",
            "  [0.70952427 0.63578194 0.22174526]]\n",
            "\n",
            " [[0.42331517 0.45977415 0.85053834]\n",
            "  [0.29322522 0.10614165 0.08382593]\n",
            "  [0.63578194 0.22174526 0.35892353]]\n",
            "\n",
            " [[0.45977415 0.85053834 0.0853715 ]\n",
            "  [0.10614165 0.08382593 0.30276464]\n",
            "  [0.22174526 0.35892353 0.40984877]]\n",
            "\n",
            " [[0.6019651  0.01683865 0.96692524]\n",
            "  [0.51168394 0.42323253 0.43829374]\n",
            "  [0.57069258 0.45618283 0.82550921]]\n",
            "\n",
            " [[0.01683865 0.96692524 0.49446804]\n",
            "  [0.42323253 0.43829374 0.56800872]\n",
            "  [0.45618283 0.82550921 0.09133234]]\n",
            "\n",
            " [[0.96692524 0.49446804 0.90813312]\n",
            "  [0.43829374 0.56800872 0.32527631]\n",
            "  [0.82550921 0.09133234 0.24044807]]\n",
            "\n",
            " [[0.49446804 0.90813312 0.14553157]\n",
            "  [0.56800872 0.32527631 0.70952427]\n",
            "  [0.09133234 0.24044807 0.08877225]]\n",
            "\n",
            " [[0.90813312 0.14553157 0.29322522]\n",
            "  [0.32527631 0.70952427 0.63578194]\n",
            "  [0.24044807 0.08877225 0.91870361]]\n",
            "\n",
            " [[0.14553157 0.29322522 0.10614165]\n",
            "  [0.70952427 0.63578194 0.22174526]\n",
            "  [0.08877225 0.91870361 0.8180728 ]]\n",
            "\n",
            " [[0.29322522 0.10614165 0.08382593]\n",
            "  [0.63578194 0.22174526 0.35892353]\n",
            "  [0.91870361 0.8180728  0.63187075]]\n",
            "\n",
            " [[0.10614165 0.08382593 0.30276464]\n",
            "  [0.22174526 0.35892353 0.40984877]\n",
            "  [0.8180728  0.63187075 0.99790518]]]\n"
          ]
        }
      ],
      "source": [
        "import numpy as np\n",
        "\n",
        "# Create a random 10x10 matrix\n",
        "matrix = np.random.random((10, 10))\n",
        "\n",
        "# Specify block size\n",
        "block_size = 3\n",
        "\n",
        "# Extract contiguous 3x3 blocks\n",
        "blocks = []\n",
        "for i in range(8):  # Iterate over rows\n",
        "    for j in range(8):  # Iterate over columns\n",
        "        block = matrix[i:i+block_size, j:j+block_size]\n",
        "        blocks.append(block)\n",
        "\n",
        "# Convert the list of blocks to a NumPy array\n",
        "blocks_array = np.array(blocks)\n",
        "\n",
        "# Print the original matrix and extracted blocks\n",
        "print(\"Original Matrix:\")\n",
        "print(matrix)\n",
        "print(\"\\nExtracted 3x3 Blocks:\")\n",
        "print(blocks_array)"
      ],
      "id": "d58b1318"
    },
    {
      "cell_type": "markdown",
      "metadata": {
        "id": "1a18b263"
      },
      "source": [
        "#### 85. Create a 2D array subclass such that Z[i,j] == Z[j,i] (★★★)"
      ],
      "id": "1a18b263"
    },
    {
      "cell_type": "code",
      "execution_count": null,
      "metadata": {
        "colab": {
          "base_uri": "https://localhost:8080/"
        },
        "id": "87f17adc",
        "outputId": "1a62d9e4-f214-4cb5-e8d5-ec39f826d16f"
      },
      "outputs": [
        {
          "name": "stdout",
          "output_type": "stream",
          "text": [
            "Original Array:\n",
            "[[1 2 3]\n",
            " [4 5 6]\n",
            " [7 8 9]]\n",
            "\n",
            "Symmetric Array:\n",
            "[[1 2 3]\n",
            " [2 5 6]\n",
            " [3 6 9]]\n"
          ]
        }
      ],
      "source": [
        "import numpy as np\n",
        "\n",
        "class SymmetricArray(np.ndarray):\n",
        "    def __new__(cls, input_array):\n",
        "        # Create the symmetric array by copying the upper triangle to the lower triangle\n",
        "        sym_array = np.triu(input_array) + np.triu(input_array, 1).T\n",
        "        obj = np.asarray(sym_array).view(cls)\n",
        "        return obj\n",
        "\n",
        "# Example usage:\n",
        "original_array = np.array([[1, 2, 3],\n",
        "                           [4, 5, 6],\n",
        "                           [7, 8, 9]])\n",
        "\n",
        "symmetric_array = SymmetricArray(original_array)\n",
        "\n",
        "print(\"Original Array:\")\n",
        "print(original_array)\n",
        "print(\"\\nSymmetric Array:\")\n",
        "print(symmetric_array)"
      ],
      "id": "87f17adc"
    },
    {
      "cell_type": "markdown",
      "metadata": {
        "id": "f85f2cad"
      },
      "source": [
        "#### 86. Consider a set of p matrices wich shape (n,n) and a set of p vectors with shape (n,1). How to compute the sum of of the p matrix products at once? (result has shape (n,1)) (★★★)"
      ],
      "id": "f85f2cad"
    },
    {
      "cell_type": "code",
      "execution_count": null,
      "metadata": {
        "colab": {
          "base_uri": "https://localhost:8080/"
        },
        "id": "8d230557",
        "outputId": "99cab076-1a40-4619-ba6a-753b8b21d773"
      },
      "outputs": [
        {
          "name": "stdout",
          "output_type": "stream",
          "text": [
            "[[[134]\n",
            "  [162]]\n",
            "\n",
            " [[210]\n",
            "  [254]]]\n"
          ]
        }
      ],
      "source": [
        "import numpy as np\n",
        "\n",
        "# Define the set of p matrices and the set of p vectors\n",
        "matrices = np.array([[[1, 2], [3, 4]],\n",
        "                      [[5, 6], [7, 8]]])\n",
        "vectors = np.array([[[9], [10]],\n",
        "                     [[11], [12]]])\n",
        "\n",
        "# Compute the matrix products and sum them up\n",
        "result = np.sum(np.dot(matrices, vectors), axis=0)\n",
        "\n",
        "print(result)"
      ],
      "id": "8d230557"
    },
    {
      "cell_type": "markdown",
      "metadata": {
        "id": "5afb72c8"
      },
      "source": [
        "#### 87. Consider a 16x16 array, how to get the block-sum (block size is 4x4)? (★★★)"
      ],
      "id": "5afb72c8"
    },
    {
      "cell_type": "code",
      "execution_count": null,
      "metadata": {
        "colab": {
          "base_uri": "https://localhost:8080/"
        },
        "id": "e86f47a9",
        "outputId": "d75a4ec4-c3a9-4c9f-babb-b5b14c545457"
      },
      "outputs": [
        {
          "name": "stdout",
          "output_type": "stream",
          "text": [
            "Original 16x16 Array:\n",
            "[[0.2227199  0.57521784 0.93690111 0.28287832 0.99901672 0.84211403\n",
            "  0.23775108 0.40317473 0.54321601 0.67153168 0.19552034 0.2565066\n",
            "  0.89132435 0.09687368 0.31488535 0.13629317]\n",
            " [0.72869067 0.63672451 0.51381642 0.45436745 0.51227972 0.53358054\n",
            "  0.1442686  0.70670218 0.20485924 0.41618757 0.46005036 0.21741816\n",
            "  0.98423881 0.19588506 0.82932546 0.08853981]\n",
            " [0.98133649 0.89223403 0.90700253 0.83158211 0.21581315 0.54131163\n",
            "  0.15017031 0.9477448  0.00959017 0.87645928 0.17374014 0.68916098\n",
            "  0.80329618 0.55394387 0.77413588 0.17186854]\n",
            " [0.81720346 0.98313038 0.94482901 0.77593891 0.6979633  0.42640575\n",
            "  0.88725351 0.25195365 0.34234319 0.58009204 0.3834745  0.71263217\n",
            "  0.77298774 0.58503361 0.15128813 0.79168599]\n",
            " [0.10479447 0.79574618 0.64596774 0.83029266 0.64293397 0.87969636\n",
            "  0.31271583 0.9453588  0.75959326 0.8551011  0.55898192 0.78128703\n",
            "  0.53303969 0.50233747 0.34002715 0.66806342]\n",
            " [0.72336067 0.21444506 0.73539113 0.12427372 0.12792684 0.98630689\n",
            "  0.23679767 0.78176562 0.39217041 0.5452145  0.20993405 0.64398222\n",
            "  0.51613276 0.30300815 0.4365125  0.2230905 ]\n",
            " [0.71390144 0.13735347 0.11039401 0.79653002 0.97488197 0.68304873\n",
            "  0.51204339 0.38015994 0.45706242 0.00497169 0.9898519  0.44628037\n",
            "  0.22266793 0.78124149 0.31527962 0.8518305 ]\n",
            " [0.74891214 0.70804652 0.80101651 0.37494828 0.08561718 0.55145104\n",
            "  0.63197884 0.95790343 0.24073851 0.67866403 0.70840578 0.10338996\n",
            "  0.42566705 0.32839373 0.98109998 0.53747192]\n",
            " [0.18086344 0.24407947 0.17431734 0.83968923 0.45922234 0.14287047\n",
            "  0.42670767 0.32554651 0.62754125 0.7062973  0.57385069 0.15708557\n",
            "  0.46556602 0.50058023 0.12979921 0.4937388 ]\n",
            " [0.45336487 0.60661159 0.41500717 0.64049662 0.10307058 0.12443203\n",
            "  0.38633886 0.75233488 0.20060245 0.53815535 0.85403739 0.23466573\n",
            "  0.72281283 0.1199913  0.42041443 0.52760483]\n",
            " [0.47006128 0.98460184 0.784299   0.61777937 0.02223467 0.96129644\n",
            "  0.10804841 0.68334263 0.43057279 0.3862587  0.66219178 0.0568607\n",
            "  0.51165444 0.16397347 0.15029976 0.81452758]\n",
            " [0.29267932 0.0030282  0.69528586 0.76642283 0.78758547 0.63732402\n",
            "  0.19108442 0.4898613  0.61681272 0.69947854 0.40352219 0.91748553\n",
            "  0.17390354 0.94001354 0.37542645 0.04892523]\n",
            " [0.53251906 0.97701433 0.20773868 0.52904549 0.3327624  0.99536627\n",
            "  0.61123782 0.35075242 0.99172311 0.3876865  0.7385084  0.3411683\n",
            "  0.49379246 0.98105374 0.11836966 0.09983587]\n",
            " [0.61128078 0.84445021 0.50906719 0.88093531 0.03747831 0.17926668\n",
            "  0.59066718 0.66070754 0.5424953  0.55838954 0.19049045 0.00841493\n",
            "  0.45772913 0.46811846 0.32013236 0.35334941]\n",
            " [0.58504243 0.01105077 0.31441197 0.16955322 0.90313584 0.71512711\n",
            "  0.31833773 0.33966104 0.22731339 0.45981101 0.93600653 0.07493527\n",
            "  0.95377648 0.07690896 0.93951378 0.78861552]\n",
            " [0.25494147 0.17085478 0.13825366 0.33012274 0.82635852 0.56602184\n",
            "  0.94410322 0.7695355  0.56785258 0.28612812 0.47060632 0.91088218\n",
            "  0.17130069 0.26714036 0.47421894 0.61505429]]\n",
            "\n",
            "Block Sum (Block Size 4x4):\n",
            "[[ 7.60592492  7.62693457  9.51939008 10.10421534]\n",
            " [10.15593704  7.20031268  8.37749888  8.86370491]\n",
            " [ 6.44775554  7.09994091  7.80800287  8.03883917]\n",
            " [ 8.68857451  7.21297278  7.81320107  7.76337523]]\n"
          ]
        }
      ],
      "source": [
        "import numpy as np\n",
        "\n",
        "# Create a random 16x16 array\n",
        "array_16x16 = np.random.rand(16, 16)\n",
        "\n",
        "# Define the block size\n",
        "block_size = 4\n",
        "# Reshape the array into a 4D array with shape (4, 4, 4, 4)\n",
        "reshaped_array = array_16x16.reshape(4, 4, block_size, block_size)\n",
        "\n",
        "# Sum along the last two axes to get the block sum\n",
        "block_sum = reshaped_array.sum(axis=(-2, -1))\n",
        "\n",
        "print(\"Original 16x16 Array:\")\n",
        "print(array_16x16)\n",
        "print(\"\\nBlock Sum (Block Size 4x4):\")\n",
        "print(block_sum)"
      ],
      "id": "e86f47a9"
    },
    {
      "cell_type": "markdown",
      "metadata": {
        "id": "6094d37c"
      },
      "source": [
        "#### 88. How to implement the Game of Life using numpy arrays? (★★★)"
      ],
      "id": "6094d37c"
    },
    {
      "cell_type": "code",
      "execution_count": null,
      "metadata": {
        "colab": {
          "base_uri": "https://localhost:8080/",
          "height": 406
        },
        "id": "a93e715f",
        "outputId": "9515bce3-800c-448c-a170-4218f035e488"
      },
      "outputs": [
        {
          "data": {
            "image/png": "[encoded data removed]",
            "text/plain": [
              "<Figure size 640x480 with 1 Axes>"
            ]
          },
          "metadata": {},
          "output_type": "display_data"
        }
      ],
      "source": [
        "import numpy as np\n",
        "import matplotlib.pyplot as plt\n",
        "import matplotlib.animation as animation\n",
        "\n",
        "def initialize_board(size, density=0.2):\n",
        "    \"\"\"Initialize the game board with random initial state.\"\"\"\n",
        "    return np.random.choice([0, 1], size=(size, size), p=[1 - density, density])\n",
        "\n",
        "def update_board(board):\n",
        "    \"\"\"Update the game board based on the rules of the Game of Life.\"\"\"\n",
        "    neighbors_count = (\n",
        "        np.roll(board, 1, axis=0) + np.roll(board, -1, axis=0) +\n",
        "        np.roll(board, 1, axis=1) + np.roll(board, -1, axis=1) +\n",
        "        np.roll(np.roll(board, 1, axis=0), 1, axis=1) +\n",
        "        np.roll(np.roll(board, 1, axis=0), -1, axis=1) +\n",
        "        np.roll(np.roll(board, -1, axis=0), 1, axis=1) +\n",
        "        np.roll(np.roll(board, -1, axis=0), -1, axis=1)\n",
        "    )\n",
        "\n",
        "    # Apply the rules of the Game of Life\n",
        "    new_board = np.logical_or(np.logical_and(board, neighbors_count == 2), neighbors_count == 3)\n",
        "\n",
        "    return new_board.astype(int)\n",
        "\n",
        "def animate(frame, img, board):\n",
        "    \"\"\"Update the animation frames.\"\"\"\n",
        "    board[:] = update_board(board)\n",
        "    img.set_array(board)\n",
        "    return img,\n",
        "\n",
        "# Set the size of the board\n",
        "board_size = 50\n",
        "\n",
        "# Create the initial board\n",
        "initial_board = initialize_board(board_size, density=0.2)\n",
        "\n",
        "# Create the animation figure\n",
        "fig, ax = plt.subplots()\n",
        "img = ax.imshow(initial_board, cmap='gray', interpolation='nearest')\n",
        "plt.axis('off')\n",
        "\n",
        "# Create the animation\n",
        "ani = animation.FuncAnimation(\n",
        "    fig, animate, fargs=(img, initial_board),\n",
        "    frames=100, interval=100, blit=True\n",
        ")\n",
        "\n",
        "plt.show()\n"
      ],
      "id": "a93e715f"
    },
    {
      "cell_type": "markdown",
      "metadata": {
        "id": "a173cf96"
      },
      "source": [
        "#### 89. How to get the n largest values of an array (★★★)"
      ],
      "id": "a173cf96"
    },
    {
      "cell_type": "code",
      "execution_count": null,
      "metadata": {
        "colab": {
          "base_uri": "https://localhost:8080/"
        },
        "id": "b7c2ff35",
        "outputId": "5839f56c-be79-4821-858d-97c8813098d8"
      },
      "outputs": [
        {
          "name": "stdout",
          "output_type": "stream",
          "text": [
            "Original Array: [3 1 4 1 5 9 2 6 5 3 5]\n",
            "\n",
            "The 3 largest values: [5 6 9]\n"
          ]
        }
      ],
      "source": [
        "import numpy as np\n",
        "\n",
        "# Create a sample array\n",
        "arr = np.array([3, 1, 4, 1, 5, 9, 2, 6, 5, 3, 5])\n",
        "\n",
        "# Specify the number of largest values to retrieve\n",
        "n_largest = 3\n",
        "\n",
        "# Use numpy.partition to partially sort the array and get the indices of the n largest values\n",
        "indices = np.argpartition(arr, -n_largest)[-n_largest:]\n",
        "\n",
        "# Get the n largest values\n",
        "n_largest_values = arr[indices]\n",
        "\n",
        "print(\"Original Array:\", arr)\n",
        "print(f\"\\nThe {n_largest} largest values:\", n_largest_values)\n"
      ],
      "id": "b7c2ff35"
    },
    {
      "cell_type": "markdown",
      "metadata": {
        "id": "15db2d01"
      },
      "source": [
        "#### 90. Given an arbitrary number of vectors, build the cartesian product (every combinations of every item) (★★★)"
      ],
      "id": "15db2d01"
    },
    {
      "cell_type": "code",
      "execution_count": null,
      "metadata": {
        "colab": {
          "base_uri": "https://localhost:8080/"
        },
        "id": "a9a4633d",
        "outputId": "44641c9d-8570-42c3-cfe9-d1eedc385f0e"
      },
      "outputs": [
        {
          "name": "stdout",
          "output_type": "stream",
          "text": [
            "Vector 1: [1 2 3]\n",
            "Vector 2: ['a' 'b']\n",
            "Vector 3: [0.1 0.2]\n",
            "\n",
            "Cartesian Product:\n",
            "[['1' 'a' '0.1']\n",
            " ['1' 'a' '0.2']\n",
            " ['1' 'b' '0.1']\n",
            " ['1' 'b' '0.2']\n",
            " ['2' 'a' '0.1']\n",
            " ['2' 'a' '0.2']\n",
            " ['2' 'b' '0.1']\n",
            " ['2' 'b' '0.2']\n",
            " ['3' 'a' '0.1']\n",
            " ['3' 'a' '0.2']\n",
            " ['3' 'b' '0.1']\n",
            " ['3' 'b' '0.2']]\n"
          ]
        }
      ],
      "source": [
        "import numpy as np\n",
        "\n",
        "def cartesian_product(*arrays):\n",
        "    mesh = np.meshgrid(*arrays, indexing='ij')\n",
        "    cartesian = np.vstack([m.flatten() for m in mesh]).T\n",
        "    return cartesian\n",
        "\n",
        "# Example usage:\n",
        "vector1 = np.array([1, 2, 3])\n",
        "vector2 = np.array(['a', 'b'])\n",
        "vector3 = np.array([0.1, 0.2])\n",
        "\n",
        "result = cartesian_product(vector1, vector2, vector3)\n",
        "\n",
        "print(\"Vector 1:\", vector1)\n",
        "print(\"Vector 2:\", vector2)\n",
        "print(\"Vector 3:\", vector3)\n",
        "print(\"\\nCartesian Product:\")\n",
        "print(result)\n"
      ],
      "id": "a9a4633d"
    },
    {
      "cell_type": "markdown",
      "metadata": {
        "id": "5d94d1ef"
      },
      "source": [
        "#### 91. How to create a record array from a regular array? (★★★)"
      ],
      "id": "5d94d1ef"
    },
    {
      "cell_type": "code",
      "execution_count": null,
      "metadata": {
        "colab": {
          "base_uri": "https://localhost:8080/"
        },
        "id": "b1dae380",
        "outputId": "80efd50b-2288-4ce5-b37b-4c3274c0d693"
      },
      "outputs": [
        {
          "name": "stdout",
          "output_type": "stream",
          "text": [
            "Regular Array:\n",
            "[[1 'John' 25]\n",
            " [2 'Alice' 30]\n",
            " [3 'Bob' 22]]\n",
            "\n",
            "Record Array:\n",
            "[(1, 'John', 25) (2, 'Alice', 30) (3, 'Bob', 22)]\n"
          ]
        }
      ],
      "source": [
        "import numpy as np\n",
        "\n",
        "# Create a regular array\n",
        "regular_array = np.array([[1, 'John', 25],\n",
        "                          [2, 'Alice', 30],\n",
        "                          [3, 'Bob', 22]], dtype=object)\n",
        "\n",
        "# Create field names for the record array\n",
        "field_names = ['ID', 'Name', 'Age']\n",
        "\n",
        "# Create a record array\n",
        "record_array = np.rec.fromarrays(regular_array.T, names=field_names)\n",
        "\n",
        "print(\"Regular Array:\")\n",
        "print(regular_array)\n",
        "print(\"\\nRecord Array:\")\n",
        "print(record_array)\n"
      ],
      "id": "b1dae380"
    },
    {
      "cell_type": "markdown",
      "metadata": {
        "id": "114ccc36"
      },
      "source": [
        "#### 92. Consider a large vector Z, compute Z to the power of 3 using 3 different methods (★★★)"
      ],
      "id": "114ccc36"
    },
    {
      "cell_type": "code",
      "execution_count": null,
      "metadata": {
        "colab": {
          "base_uri": "https://localhost:8080/"
        },
        "id": "877c65d6",
        "outputId": "df712297-9b1e-4255-d38b-24b154c64e76"
      },
      "outputs": [
        {
          "name": "stdout",
          "output_type": "stream",
          "text": [
            "Original Vector:\n",
            "[0.47167727 0.01326327 0.87910998 0.29653334 0.7296359 ]\n",
            "\n",
            "Result using NumPy power function:\n",
            "[1.04938496e-01 2.33320095e-06 6.79406407e-01 2.60747767e-02\n",
            " 3.88435199e-01]\n",
            "\n",
            "Result using ** operator:\n",
            "[1.04938496e-01 2.33320095e-06 6.79406407e-01 2.60747767e-02\n",
            " 3.88435199e-01]\n",
            "\n",
            "Result using a loop:\n",
            "[1.04938496e-01 2.33320095e-06 6.79406407e-01 2.60747767e-02\n",
            " 3.88435199e-01]\n"
          ]
        }
      ],
      "source": [
        "import numpy as np\n",
        "\n",
        "# Create a large vector Z\n",
        "Z = np.random.rand(10**6)\n",
        "\n",
        "# Method 1: NumPy power function\n",
        "result1 = np.power(Z, 3)\n",
        "\n",
        "# Method 2: Using the ** operator\n",
        "result2 = Z ** 3\n",
        "\n",
        "# Method 3: Using a loop\n",
        "result3 = np.zeros_like(Z)\n",
        "for i in range(len(Z)):\n",
        "    result3[i] = Z[i] ** 3\n",
        "\n",
        "# Check if all methods produce the same result\n",
        "assert np.allclose(result1, result2) and np.allclose(result2, result3), \"Results are not equal!\"\n",
        "\n",
        "# Print a part of the results for verification\n",
        "print(\"Original Vector:\")\n",
        "print(Z[:5])\n",
        "print(\"\\nResult using NumPy power function:\")\n",
        "print(result1[:5])\n",
        "print(\"\\nResult using ** operator:\")\n",
        "print(result2[:5])\n",
        "print(\"\\nResult using a loop:\")\n",
        "print(result3[:5])\n"
      ],
      "id": "877c65d6"
    },
    {
      "cell_type": "markdown",
      "metadata": {
        "id": "d614fee4"
      },
      "source": [
        "#### 93. Consider two arrays A and B of shape (8,3) and (2,2). How to find rows of A that contain elements of each row of B regardless of the order of the elements in B? (★★★)"
      ],
      "id": "d614fee4"
    },
    {
      "cell_type": "code",
      "execution_count": null,
      "metadata": {
        "colab": {
          "base_uri": "https://localhost:8080/"
        },
        "id": "e6807a84",
        "outputId": "54235776-1ddd-4120-9f26-ce04af6e5d4e"
      },
      "outputs": [
        {
          "name": "stdout",
          "output_type": "stream",
          "text": [
            "Array A:\n",
            "[[3 2 4]\n",
            " [8 6 7]\n",
            " [7 8 9]\n",
            " [6 8 9]\n",
            " [9 1 2]\n",
            " [0 0 4]\n",
            " [7 7 9]\n",
            " [5 5 1]]\n",
            "\n",
            "Array B:\n",
            "[[3 5]\n",
            " [7 2]]\n",
            "\n",
            "Rows of A that contain elements of each row of B:\n",
            "[]\n"
          ]
        }
      ],
      "source": [
        "import numpy as np\n",
        "\n",
        "# Create arrays A and B\n",
        "A = np.random.randint(0, 10, (8, 3))\n",
        "B = np.random.randint(0, 10, (2, 2))\n",
        "\n",
        "# Convert arrays to sets of tuples for efficient comparison\n",
        "set_B = {tuple(row_B) for row_B in B}\n",
        "\n",
        "# Find rows of A that contain elements of each row of B\n",
        "result_indices = [\n",
        "    i for i, row_A in enumerate(A) if any(set(row_A).issuperset(set_B_row) for set_B_row in set_B)\n",
        "]\n",
        "\n",
        "# Extract the corresponding rows from A\n",
        "result_rows = A[result_indices]\n",
        "\n",
        "print(\"Array A:\")\n",
        "print(A)\n",
        "print(\"\\nArray B:\")\n",
        "print(B)\n",
        "print(\"\\nRows of A that contain elements of each row of B:\")\n",
        "print(result_rows)\n"
      ],
      "id": "e6807a84"
    },
    {
      "cell_type": "markdown",
      "metadata": {
        "id": "b0eedca6"
      },
      "source": [
        "#### 94. Considering a 10x3 matrix, extract rows with unequal values (e.g. [2,2,3]) (★★★)"
      ],
      "id": "b0eedca6"
    },
    {
      "cell_type": "code",
      "execution_count": null,
      "metadata": {
        "colab": {
          "base_uri": "https://localhost:8080/"
        },
        "id": "fc136ce2",
        "outputId": "0461c18f-dd42-46e7-fdd5-41d47e3cabdf"
      },
      "outputs": [
        {
          "name": "stdout",
          "output_type": "stream",
          "text": [
            "Original Matrix:\n",
            "[[0 3 2]\n",
            " [1 2 1]\n",
            " [2 0 1]\n",
            " [0 2 0]\n",
            " [3 2 2]\n",
            " [2 3 4]\n",
            " [2 2 0]\n",
            " [4 0 3]\n",
            " [3 2 0]\n",
            " [0 1 2]]\n",
            "\n",
            "Rows with Unequal Values:\n",
            "[[0 3 2]\n",
            " [1 2 1]\n",
            " [2 0 1]\n",
            " [0 2 0]\n",
            " [3 2 2]\n",
            " [2 3 4]\n",
            " [2 2 0]\n",
            " [4 0 3]\n",
            " [3 2 0]\n",
            " [0 1 2]]\n"
          ]
        }
      ],
      "source": [
        "import numpy as np\n",
        "\n",
        "# Create a 10x3 matrix\n",
        "matrix = np.random.randint(0, 5, (10, 3))\n",
        "\n",
        "# Extract rows with unequal values\n",
        "unequal_rows = matrix[(matrix[:, 0] != matrix[:, 1]) | (matrix[:, 1] != matrix[:, 2])]\n",
        "\n",
        "print(\"Original Matrix:\")\n",
        "print(matrix)\n",
        "print(\"\\nRows with Unequal Values:\")\n",
        "print(unequal_rows)\n"
      ],
      "id": "fc136ce2"
    },
    {
      "cell_type": "markdown",
      "metadata": {
        "id": "a65ec1cf"
      },
      "source": [
        "#### 95. Convert a vector of ints into a matrix binary representation (★★★)"
      ],
      "id": "a65ec1cf"
    },
    {
      "cell_type": "code",
      "execution_count": null,
      "metadata": {
        "colab": {
          "base_uri": "https://localhost:8080/"
        },
        "id": "323cdf4c",
        "outputId": "30103926-c5d1-45f1-e9f9-d6d92f3252a9"
      },
      "outputs": [
        {
          "name": "stdout",
          "output_type": "stream",
          "text": [
            "Vector of Integers:\n",
            "[5 9 3 7]\n",
            "\n",
            "Binary Matrix:\n",
            "[[0 0 0 0 0 1 0 1]\n",
            " [0 0 0 0 1 0 0 1]\n",
            " [0 0 0 0 0 0 1 1]\n",
            " [0 0 0 0 0 1 1 1]]\n"
          ]
        }
      ],
      "source": [
        "import numpy as np\n",
        "\n",
        "# Create a vector of integers\n",
        "vector_of_ints = np.array([5, 9, 3, 7], dtype=int)\n",
        "\n",
        "# Convert each integer to binary representation\n",
        "binary_matrix = np.array([list(np.binary_repr(num, width=8)) for num in vector_of_ints], dtype=int)\n",
        "print(\"Vector of Integers:\")\n",
        "print(vector_of_ints)\n",
        "print(\"\\nBinary Matrix:\")\n",
        "print(binary_matrix)"
      ],
      "id": "323cdf4c"
    },
    {
      "cell_type": "markdown",
      "metadata": {
        "id": "75b9397f"
      },
      "source": [
        "#### 96. Given a two dimensional array, how to extract unique rows? (★★★)"
      ],
      "id": "75b9397f"
    },
    {
      "cell_type": "code",
      "execution_count": null,
      "metadata": {
        "colab": {
          "base_uri": "https://localhost:8080/"
        },
        "id": "9bb56a47",
        "outputId": "4acdc7e0-3c7b-417f-edd8-e35e73694067"
      },
      "outputs": [
        {
          "name": "stdout",
          "output_type": "stream",
          "text": [
            "Original Two-Dimensional Array:\n",
            "[[1 2 3]\n",
            " [4 5 6]\n",
            " [1 2 3]\n",
            " [7 8 9]]\n",
            "\n",
            "Unique Rows:\n",
            "[[1 2 3]\n",
            " [4 5 6]\n",
            " [7 8 9]]\n"
          ]
        }
      ],
      "source": [
        "import numpy as np\n",
        "\n",
        "# Create a two-dimensional array\n",
        "two_dimensional_array = np.array([[1, 2, 3],\n",
        "                                  [4, 5, 6],\n",
        "                                  [1, 2, 3],\n",
        "                                  [7, 8, 9]])\n",
        "\n",
        "# Use numpy.unique to get unique rows\n",
        "unique_rows = np.unique(two_dimensional_array, axis=0)\n",
        "\n",
        "print(\"Original Two-Dimensional Array:\")\n",
        "print(two_dimensional_array)\n",
        "print(\"\\nUnique Rows:\")\n",
        "print(unique_rows)\n"
      ],
      "id": "9bb56a47"
    },
    {
      "cell_type": "markdown",
      "metadata": {
        "id": "82aaf21b"
      },
      "source": [
        "#### 97. Considering 2 vectors A & B, write the einsum equivalent of inner, outer, sum, and mul function (★★★)"
      ],
      "id": "82aaf21b"
    },
    {
      "cell_type": "code",
      "execution_count": null,
      "metadata": {
        "colab": {
          "base_uri": "https://localhost:8080/"
        },
        "id": "cedcefd9",
        "outputId": "4851056e-71e7-48e9-e25d-b8feb3c12ece"
      },
      "outputs": [
        {
          "output_type": "stream",
          "name": "stdout",
          "text": [
            "Inner product: 32\n",
            "Outer product:\n",
            " [[ 4  5  6]\n",
            " [ 8 10 12]\n",
            " [12 15 18]]\n",
            "Sum: 6\n",
            "Element-wise multiplication: [ 4 10 18]\n"
          ]
        }
      ],
      "source": [
        "import numpy as np\n",
        "\n",
        "# Vectors A and B\n",
        "A = np.array([1, 2, 3])\n",
        "B = np.array([4, 5, 6])\n",
        "\n",
        "# Inner product\n",
        "inner_product = np.einsum('i,i->', A, B)\n",
        "\n",
        "# Outer product\n",
        "outer_product = np.einsum('i,j->ij', A, B)\n",
        "\n",
        "# Sum\n",
        "vector_sum = np.einsum('i->', A)\n",
        "\n",
        "# Element-wise multiplication\n",
        "elementwise_mul = np.einsum('i,i->i', A, B)\n",
        "\n",
        "# Print results\n",
        "print(\"Inner product:\", inner_product)\n",
        "print(\"Outer product:\\n\", outer_product)\n",
        "print(\"Sum:\", vector_sum)\n",
        "print(\"Element-wise multiplication:\", elementwise_mul)"
      ],
      "id": "cedcefd9"
    },
    {
      "cell_type": "code",
      "execution_count": null,
      "metadata": {
        "colab": {
          "base_uri": "https://localhost:8080/"
        },
        "id": "16b7U95PR-3K",
        "outputId": "4a6b8ece-efb7-43ce-aab1-449382b92575"
      },
      "outputs": [
        {
          "name": "stdout",
          "output_type": "stream",
          "text": [
            "Vector A: [1 2 3]\n",
            "Vector B: [4 5 6]\n",
            "Inner Product: 32\n",
            "Outer Product:\n",
            " [[ 4  5  6]\n",
            " [ 8 10 12]\n",
            " [12 15 18]]\n",
            "Sum of A: 6\n",
            "Sum of A and B: 90\n",
            "Element-wise Product: [ 4 10 18]\n"
          ]
        }
      ],
      "source": [
        "import numpy as np\n",
        "\n",
        "# Define two vectors A and B\n",
        "A = np.array([1, 2, 3])\n",
        "B = np.array([4, 5, 6])\n",
        "\n",
        "# Einstein summation equivalents\n",
        "inner_product = np.einsum('i,i->', A, B)\n",
        "outer_product = np.einsum('i,j->ij', A, B)\n",
        "sum_result_A = np.einsum('i->', A)\n",
        "sum_result_AB = np.einsum('i,j->', A, B)\n",
        "elementwise_product = np.einsum('i,i->i', A, B)\n",
        "\n",
        "# Display results\n",
        "print(\"Vector A:\", A)\n",
        "print(\"Vector B:\", B)\n",
        "print(\"Inner Product:\", inner_product)\n",
        "print(\"Outer Product:\\n\", outer_product)\n",
        "print(\"Sum of A:\", sum_result_A)\n",
        "print(\"Sum of A and B:\", sum_result_AB)\n",
        "print(\"Element-wise Product:\", elementwise_product)\n",
        "\n"
      ],
      "id": "16b7U95PR-3K"
    },
    {
      "cell_type": "markdown",
      "metadata": {
        "id": "7741e17f"
      },
      "source": [
        "#### 98. Considering a path described by two vectors (X,Y), how to sample it using equidistant samples (★★★)?"
      ],
      "id": "7741e17f"
    },
    {
      "cell_type": "code",
      "execution_count": null,
      "metadata": {
        "colab": {
          "base_uri": "https://localhost:8080/",
          "height": 472
        },
        "id": "0b2432fe",
        "outputId": "b59b3714-105d-4f1e-df65-f378803cb35e"
      },
      "outputs": [
        {
          "data": {
            "image/png": "[encoded data removed]",
            "text/plain": [
              "<Figure size 640x480 with 1 Axes>"
            ]
          },
          "metadata": {},
          "output_type": "display_data"
        }
      ],
      "source": [
        "import numpy as np\n",
        "import matplotlib.pyplot as plt\n",
        "\n",
        "# Example vectors X and Y describing a path\n",
        "X = np.array([0, 2, 5, 7, 9])\n",
        "Y = np.array([1, 4, 3, 6, 2])\n",
        "\n",
        "# Number of equidistant samples\n",
        "num_samples = 100\n",
        "\n",
        "# Use numpy.linspace to generate equidistant samples along the path\n",
        "sampled_X = np.linspace(X.min(), X.max(), num_samples)\n",
        "sampled_Y = np.interp(sampled_X, X, Y)  # Interpolate corresponding Y values\n",
        "\n",
        "# Plot the original path and the equidistant samples\n",
        "plt.plot(X, Y, 'o-', label='Original Path')\n",
        "plt.plot(sampled_X, sampled_Y, 'x', label='Equidistant Samples')\n",
        "plt.legend()\n",
        "plt.xlabel('X')\n",
        "plt.ylabel('Y')\n",
        "plt.title('Sampling Equidistant Points along a Path')\n",
        "plt.show()\n"
      ],
      "id": "0b2432fe"
    },
    {
      "cell_type": "markdown",
      "metadata": {
        "id": "340d6f36"
      },
      "source": [
        "#### 99. Given an integer n and a 2D array X, select from X the rows which can be interpreted as draws from a multinomial distribution with n degrees, i.e., the rows which only contain integers and which sum to n. (★★★)"
      ],
      "id": "340d6f36"
    },
    {
      "cell_type": "code",
      "execution_count": null,
      "metadata": {
        "colab": {
          "base_uri": "https://localhost:8080/"
        },
        "id": "a75323ae",
        "outputId": "e8ef721b-b645-4dde-952e-2115fa34bc40"
      },
      "outputs": [
        {
          "name": "stdout",
          "output_type": "stream",
          "text": [
            "Original 2D Array:\n",
            "[[1.  2.  3. ]\n",
            " [4.  5.  1. ]\n",
            " [2.  3.  2. ]\n",
            " [0.5 1.5 3. ]]\n",
            "\n",
            "Selected Rows for Multinomial Distribution with n = 6\n",
            "[array([1., 2., 3.])]\n"
          ]
        }
      ],
      "source": [
        "import numpy as np\n",
        "\n",
        "def is_multinomial_row(row, n):\n",
        "    return np.all(row == np.round(row)) and np.sum(row) == n\n",
        "\n",
        "# Example 2D array X\n",
        "X = np.array([[1, 2, 3],\n",
        "              [4, 5, 1],\n",
        "              [2, 3, 2],\n",
        "              [0.5, 1.5, 3.0]])\n",
        "\n",
        "# Total degrees for multinomial distribution\n",
        "n = 6\n",
        "\n",
        "# Select rows that meet the criteria\n",
        "selected_rows = [row for row in X if is_multinomial_row(row, n)]\n",
        "\n",
        "print(\"Original 2D Array:\")\n",
        "print(X)\n",
        "print(\"\\nSelected Rows for Multinomial Distribution with n =\", n)\n",
        "print(selected_rows)\n"
      ],
      "id": "a75323ae"
    },
    {
      "cell_type": "markdown",
      "metadata": {
        "id": "19721849"
      },
      "source": [
        "#### 100. Compute bootstrapped 95% confidence intervals for the mean of a 1D array X (i.e., resample the elements of an array with replacement N times, compute the mean of each sample, and then compute percentiles over the means). (★★★)"
      ],
      "id": "19721849"
    },
    {
      "cell_type": "code",
      "execution_count": null,
      "metadata": {
        "colab": {
          "base_uri": "https://localhost:8080/"
        },
        "id": "87309c6f",
        "outputId": "35e19c94-6677-4b85-9140-32a8de7d0c07"
      },
      "outputs": [
        {
          "name": "stdout",
          "output_type": "stream",
          "text": [
            "Original Array X:\n",
            "[ 1  2  3  4  5  6  7  8  9 10]\n",
            "\n",
            "Bootstrapped 95% Confidence Interval for the Mean:\n",
            "[3.8 7.2]\n"
          ]
        }
      ],
      "source": [
        "import numpy as np\n",
        "\n",
        "# Example 1D array X\n",
        "X = np.array([1, 2, 3, 4, 5, 6, 7, 8, 9, 10])\n",
        "\n",
        "# Number of bootstrap samples\n",
        "N = 1000\n",
        "\n",
        "# Perform bootstrapping\n",
        "bootstrapped_means = np.random.choice(X, size=(N, len(X)), replace=True).mean(axis=1)\n",
        "\n",
        "# Compute confidence intervals\n",
        "confidence_interval = np.percentile(bootstrapped_means, [2.5, 97.5])\n",
        "\n",
        "print(\"Original Array X:\")\n",
        "print(X)\n",
        "print(\"\\nBootstrapped 95% Confidence Interval for the Mean:\")\n",
        "print(confidence_interval)"
      ],
      "id": "87309c6f"
    }
  ],
  "metadata": {
    "colab": {
      "provenance": [],
      "include_colab_link": true
    },
    "kernelspec": {
      "display_name": "Python 3",
      "name": "python3"
    },
    "language_info": {
      "name": "python"
    }
  },
  "nbformat": 4,
  "nbformat_minor": 5
}