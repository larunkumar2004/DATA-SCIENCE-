{
  "nbformat": 4,
  "nbformat_minor": 0,
  "metadata": {
    "colab": {
      "provenance": [],
      "collapsed_sections": [
        "d-5jIp4ulk4I",
        "-Wj-i427mlO_",
        "2dCSbyGKnlzj",
        "6814MDf_oSSg",
        "NR96tLJ5onwt",
        "5payhWMAozsX"
      ],
      "mount_file_id": "1LWyj-Q7abO519dF5Aru9218_wYS8z1b-",
      "authorship_tag": "ABX9TyPGPE4A22QIG38AuMA3XQ9n",
      "include_colab_link": true
    },
    "kernelspec": {
      "name": "python3",
      "display_name": "Python 3"
    },
    "language_info": {
      "name": "python"
    }
  },
  "cells": [
    {
      "cell_type": "markdown",
      "metadata": {
        "id": "view-in-github",
        "colab_type": "text"
      },
      "source": [
        "<a href=\"https://colab.research.google.com/github/larunkumar2004/DATA-SCIENCE-/blob/main/TASK_7.ipynb\" target=\"_parent\"><img src=\"https://colab.research.google.com/assets/colab-badge.svg\" alt=\"Open In Colab\"/></a>"
      ]
    },
    {
      "cell_type": "markdown",
      "source": [
        "#(1). ***TASK 1, QUESTION 20.***"
      ],
      "metadata": {
        "id": "d-5jIp4ulk4I"
      }
    },
    {
      "cell_type": "markdown",
      "source": [
        "***Write a NumPy program to combine last element with first element of two given nd array with different shapes.***"
      ],
      "metadata": {
        "id": "9HesmtnCmR0i"
      }
    },
    {
      "cell_type": "code",
      "source": [
        "import numpy as np\n",
        "\n",
        "# Given arrays\n",
        "array1 = np.array(['PHP', 'JS', 'C++'])\n",
        "array2 = np.array(['Python', 'C#', 'NumPy'])\n",
        "\n",
        "# Combine last element of array1 with the first element of array2\n",
        "combined_array = np.hstack([array1[:-1], array1[-1] + array2[0], array2[1:]])\n",
        "\n",
        "# Display the original arrays and the combined result\n",
        "print(\"Original arrays:\")\n",
        "print(array1)\n",
        "print(array2)\n",
        "\n",
        "print(\"\\nAfter Combining:\")\n",
        "print(combined_array)\n"
      ],
      "metadata": {
        "colab": {
          "base_uri": "https://localhost:8080/"
        },
        "id": "qvpxsiOomUu-",
        "outputId": "f4385d7d-69bd-4da0-bb45-a79f57c78f8e"
      },
      "execution_count": null,
      "outputs": [
        {
          "output_type": "stream",
          "name": "stdout",
          "text": [
            "Original arrays:\n",
            "['PHP' 'JS' 'C++']\n",
            "['Python' 'C#' 'NumPy']\n",
            "\n",
            "After Combining:\n",
            "['PHP' 'JS' 'C++Python' 'C#' 'NumPy']\n"
          ]
        }
      ]
    },
    {
      "cell_type": "markdown",
      "source": [
        "# (2).***TASK 3, QUESTION 17.***"
      ],
      "metadata": {
        "id": "-Wj-i427mlO_"
      }
    },
    {
      "cell_type": "markdown",
      "source": [
        "***Write a Pandas program to get first n records of a DataFrame***."
      ],
      "metadata": {
        "id": "G5r_4XO5nAvf"
      }
    },
    {
      "cell_type": "code",
      "source": [
        "import pandas as pd\n",
        "\n",
        "# Creating a sample DataFrame\n",
        "data = {'Name': ['John', 'Alice', 'Phil', 'Lucy', 'Mike'],\n",
        "        'Age': [23, 27, 21, 26, 22],\n",
        "        'City': ['New York', 'Chicago', 'San Francisco', 'Los Angeles', 'Miami']}\n",
        "\n",
        "df = pd.DataFrame(data)\n",
        "\n",
        "# Get the first 3 records of the DataFrame\n",
        "n = 3\n",
        "first_n_records = df.head(n)\n",
        "\n",
        "print(first_n_records)"
      ],
      "metadata": {
        "colab": {
          "base_uri": "https://localhost:8080/"
        },
        "id": "3PcG8PBRnFXh",
        "outputId": "15507892-fec7-48da-fe02-e771074941bb"
      },
      "execution_count": null,
      "outputs": [
        {
          "output_type": "stream",
          "name": "stdout",
          "text": [
            "    Name  Age           City\n",
            "0   John   23       New York\n",
            "1  Alice   27        Chicago\n",
            "2   Phil   21  San Francisco\n"
          ]
        }
      ]
    },
    {
      "cell_type": "markdown",
      "source": [
        "#(3). ***TASK 2, QUESTION 4.***"
      ],
      "metadata": {
        "id": "2dCSbyGKnlzj"
      }
    },
    {
      "cell_type": "markdown",
      "source": [
        "(i).***Use NumPy , Create an array with 5 dimensions and verify that it has 5 dimensions.***"
      ],
      "metadata": {
        "id": "VxDQj0KpoO2-"
      }
    },
    {
      "cell_type": "code",
      "source": [
        "import numpy as np\n",
        "\n",
        "# Create a 5-dimensional array\n",
        "array_5d = np.ndarray(shape=(2, 3, 4, 5, 6))\n",
        "\n",
        "# Verify the number of dimensions\n",
        "num_dimensions = array_5d.ndim\n",
        "\n",
        "# Display the array and its dimensions\n",
        "print(\"Array with 5 dimensions:\")\n",
        "print(array_5d)\n",
        "print(\"\\nNumber of dimensions:\", num_dimensions)\n"
      ],
      "metadata": {
        "colab": {
          "base_uri": "https://localhost:8080/"
        },
        "id": "UJlbCd6NpCNE",
        "outputId": "c63ed2fe-84fd-432e-96a1-593b7302d597"
      },
      "execution_count": null,
      "outputs": [
        {
          "output_type": "stream",
          "name": "stdout",
          "text": [
            "Array with 5 dimensions:\n",
            "[[[[[6.52557232e-310 6.52557232e-310 4.69111518e-310 4.69111518e-310\n",
            "     4.94065646e-324 4.69111518e-310]\n",
            "    [4.69111518e-310 4.94065646e-324 4.69111518e-310 4.69111518e-310\n",
            "     6.52556146e-310 6.52551214e-310]\n",
            "    [1.48539705e-313 3.81959242e-313 1.97626258e-323 1.69759663e-313\n",
            "     4.07188616e+223 6.52557128e-310]\n",
            "    [4.94065646e-324 4.69111518e-310 2.33419537e-313 2.75859453e-313\n",
            "     3.81959242e-313 4.69111518e-310]\n",
            "    [6.52557075e-310 4.94065646e-324 2.33419537e-313 4.45619116e-313\n",
            "     0.00000000e+000 4.69111518e-310]]\n",
            "\n",
            "   [[0.00000000e+000 4.94065646e-324 4.69111518e-310 4.69111518e-310\n",
            "     2.47032823e-323 4.69111518e-310]\n",
            "    [4.69111518e-310 4.69111518e-310 4.69111518e-310 4.69111518e-310\n",
            "     4.69111518e-310 9.88131292e-323]\n",
            "    [6.52557201e-310 0.00000000e+000 4.69109610e-310 6.15378779e-313\n",
            "     6.36598737e-313 4.69109610e-310]\n",
            "    [6.52557201e-310 0.00000000e+000 0.00000000e+000 6.79038653e-313\n",
            "     7.00258611e-313 9.88131292e-323]\n",
            "    [6.52557201e-310 0.00000000e+000 4.69109610e-310 7.42698527e-313\n",
            "     7.63918485e-313 4.69109610e-310]]\n",
            "\n",
            "   [[6.52557201e-310 0.00000000e+000 4.69109610e-310 8.06358401e-313\n",
            "     8.27578358e-313 9.88131292e-323]\n",
            "    [6.52557201e-310 0.00000000e+000 9.33678153e-313 8.70018274e-313\n",
            "     8.91238232e-313 4.69109610e-310]\n",
            "    [6.52552070e-310 0.00000000e+000 9.88131292e-324 5.94158821e-313\n",
            "     9.12458190e-313 6.52557202e-310]\n",
            "    [4.69111518e-310 4.66839074e-313 9.12458190e-313 2.54639495e-313\n",
            "     4.69111518e-310 4.69111518e-310]\n",
            "    [4.69111518e-310 2.33419537e-313 9.33678148e-313 2.54639495e-313\n",
            "     4.69111518e-310 4.69111518e-310]]\n",
            "\n",
            "   [[0.00000000e+000 6.52554756e-310 3.39519327e-313 3.81959242e-313\n",
            "     1.97626258e-323 9.33678148e-313]\n",
            "    [0.00000000e+000 4.69111518e-310 0.00000000e+000 4.69109610e-310\n",
            "     4.69111518e-310 4.69111518e-310]\n",
            "    [4.69111518e-310 4.69111518e-310 4.69109610e-310 4.69111518e-310\n",
            "     1.14587773e-312 1.33685735e-312]\n",
            "    [9.13599374e+242 4.69111518e-310 1.41475971e+161 4.94065646e-324\n",
            "     3.81959242e-313 1.33685735e-312]\n",
            "    [4.69111518e-310 6.52534926e-310 4.69111518e-310 4.94065646e-324\n",
            "     4.69111518e-310 4.69111518e-310]]]\n",
            "\n",
            "\n",
            "  [[[1.10465822e+136 6.52551214e-310 4.94065646e-324 7.35987210e+223\n",
            "     1.97626258e-323 1.69759663e-313]\n",
            "    [9.77824463e+199 0.00000000e+000 2.47032823e-323 0.00000000e+000\n",
            "     1.52783697e-312 6.52551214e-310]\n",
            "    [1.90659607e+185 4.69111518e-310 1.97626258e-323 1.69759663e-313\n",
            "     1.37929726e-312 6.52551214e-310]\n",
            "    [7.26605113e+223 4.69111518e-310 1.97626258e-323 1.69759663e-313\n",
            "     5.72938864e-313 6.52551214e-310]\n",
            "    [9.88131292e-324 4.69111518e-310 1.97626258e-323 1.69759663e-313\n",
            "     4.69109610e-310 4.69111518e-310]]\n",
            "\n",
            "   [[4.69109610e-310 4.69111518e-310 1.63393676e-312 4.69111518e-310\n",
            "     4.69109610e-310 4.69111518e-310]\n",
            "    [5.81021200e-321 4.69111518e-310 3.42774085e+214 0.00000000e+000\n",
            "     1.18575755e-322 6.52557128e-310]\n",
            "    [4.94065646e-324 4.69111518e-310 2.33419537e-313 2.75859453e-313\n",
            "     4.69109610e-310 6.52557075e-310]\n",
            "    [6.00717601e+175 2.72160802e+257 2.97079411e-313 4.45619116e-313\n",
            "     1.42245890e+214 4.69111518e-310]\n",
            "    [6.52557075e-310 6.32300896e+233 2.33419537e-313 4.45619116e-313\n",
            "     6.52429898e+179 6.52557202e-310]]\n",
            "\n",
            "   [[1.62691004e+219 0.00000000e+000 4.66839074e-313 5.72938864e-313\n",
            "     8.16552098e-085 4.69111518e-310]\n",
            "    [4.11424195e+223 0.00000000e+000 3.10868753e+169 4.69111518e-310\n",
            "     1.62691004e+219 4.69111518e-310]\n",
            "    [7.62861220e+228 4.69111518e-310 1.05800989e+189 4.69111518e-310\n",
            "     1.81134618e+045 4.69111518e-310]\n",
            "    [5.30971200e+006 4.69111518e-310 1.04988812e-153 4.69111518e-310\n",
            "     1.89122236e+219 4.69111518e-310]\n",
            "    [3.42134123e+180 4.69111518e-310 3.94156017e+180 4.69111518e-310\n",
            "     3.17095778e+180 4.69111518e-310]]\n",
            "\n",
            "   [[5.29339295e+180 4.69111518e-310 1.14448344e+243 6.52557202e-310\n",
            "     1.63857333e+248 4.69111518e-310]\n",
            "    [4.66839074e-313 5.72938864e-313 1.97371310e-062 6.52557202e-310\n",
            "     4.83245800e+276 4.69111518e-310]\n",
            "    [4.66839074e-313 5.72938864e-313 3.64913010e+233 4.69111518e-310\n",
            "     2.06752045e+161 4.69111518e-310]\n",
            "    [6.01391314e-154 4.69111518e-310 2.43998634e-152 4.69111518e-310\n",
            "     1.61953145e+243 4.69111518e-310]\n",
            "    [5.92878775e-323 4.69111518e-310 6.52534926e-310 4.69111518e-310\n",
            "     6.52534926e-310 4.69111518e-310]]]\n",
            "\n",
            "\n",
            "  [[[1.35710719e+166 4.69111518e-310 5.09278990e-313 4.69111518e-310\n",
            "     4.69109610e-310 4.69111518e-310]\n",
            "    [4.69109610e-310 4.69111518e-310 4.69109610e-310 6.52557202e-310\n",
            "     4.69109610e-310 2.46002692e+198]\n",
            "    [4.66839074e-313 5.72938864e-313 4.69109610e-310 6.52557202e-310\n",
            "     4.69109610e-310 1.33856822e-152]\n",
            "    [4.66839074e-313 5.72938864e-313 4.69109610e-310 4.69111518e-310\n",
            "     4.69109610e-310 0.00000000e+000]\n",
            "    [4.69109610e-310 4.69111518e-310 4.69109610e-310 4.69111518e-310\n",
            "     4.69109610e-310 4.69111518e-310]]\n",
            "\n",
            "   [[4.69109610e-310 4.69111518e-310 4.69109610e-310 4.69111518e-310\n",
            "     1.18575755e-322 4.69111518e-310]\n",
            "    [4.69109610e-310 4.69111518e-310 4.69109610e-310 4.69111518e-310\n",
            "     4.69109610e-310 4.69111518e-310]\n",
            "    [4.69109610e-310 4.69111518e-310 4.69109610e-310 4.69111518e-310\n",
            "     4.69109610e-310 4.69111518e-310]\n",
            "    [4.69109610e-310 4.69111518e-310 4.69109610e-310 0.00000000e+000\n",
            "     4.69109610e-310 4.69111518e-310]\n",
            "    [4.69109610e-310 4.69111518e-310 4.69109610e-310 4.69111518e-310\n",
            "     4.69109610e-310 4.69111518e-310]]\n",
            "\n",
            "   [[4.69109610e-310 4.69111518e-310 8.76430867e+252 4.69111518e-310\n",
            "     5.60270442e-321 4.69111518e-310]\n",
            "    [5.51718906e-313 4.69111518e-310 3.09242426e+262 4.69111518e-310\n",
            "     2.35623768e+251 4.69111518e-310]\n",
            "    [9.45438816e+218 4.69111518e-310 1.88984345e+219 4.69111518e-310\n",
            "     4.07474106e+223 6.52557201e-310]\n",
            "    [0.00000000e+000 4.69111518e-310 6.15378779e-313 6.36598737e-313\n",
            "     2.41551794e-038 6.52557201e-310]\n",
            "    [0.00000000e+000 4.69111518e-310 6.15378779e-313 6.36598737e-313\n",
            "     1.12936354e+277 4.69111518e-310]]\n",
            "\n",
            "   [[6.01346930e-154 4.69111518e-310 1.69375232e+190 4.69111518e-310\n",
            "     2.34840891e+251 4.69111518e-310]\n",
            "    [1.21696595e-152 4.69111518e-310 1.76971832e+137 4.69111518e-310\n",
            "     7.49510961e+247 4.69111518e-310]\n",
            "    [2.59345405e+161 4.69111518e-310 9.13600188e+242 4.69111518e-310\n",
            "     7.26614820e+223 4.69111518e-310]\n",
            "    [4.83245800e+276 4.69111518e-310 2.31633921e-152 4.69111518e-310\n",
            "     6.01346930e-154 4.69111518e-310]\n",
            "    [1.96086509e+243 0.00000000e+000 3.30164321e+180 4.69111518e-310\n",
            "     9.78312702e-153 4.69111518e-310]]]]\n",
            "\n",
            "\n",
            "\n",
            " [[[[2.34785611e+251 4.69111518e-310 1.41482729e+161 4.69111518e-310\n",
            "     5.59776377e-321 4.69111518e-310]\n",
            "    [6.52534926e-310 4.69111518e-310 6.52534926e-310 4.69111518e-310\n",
            "     2.43303056e-152 4.69111518e-310]\n",
            "    [7.85138448e-313 4.69111518e-310 4.69109610e-310 4.69111518e-310\n",
            "     4.69109610e-310 4.69111518e-310]\n",
            "    [4.69109610e-310 4.69111518e-310 4.69109610e-310 6.52557201e-310\n",
            "     0.00000000e+000 2.45128528e+198]\n",
            "    [6.79038653e-313 7.00258611e-313 4.69109610e-310 6.52557201e-310\n",
            "     0.00000000e+000 5.75653156e+252]]\n",
            "\n",
            "   [[6.79038653e-313 7.00258611e-313 4.69109610e-310 4.69111518e-310\n",
            "     4.69109610e-310 4.69111518e-310]\n",
            "    [4.69109610e-310 4.69111518e-310 4.69109610e-310 4.69111518e-310\n",
            "     4.69109610e-310 4.69111518e-310]\n",
            "    [4.69109610e-310 4.69111518e-310 4.69109610e-310 4.69111518e-310\n",
            "     4.69109610e-310 4.69111518e-310]\n",
            "    [4.69109610e-310 4.69111518e-310 4.35257502e+251 4.69111518e-310\n",
            "     4.27255552e+180 4.69111518e-310]\n",
            "    [3.81959242e-313 4.69111518e-310 5.58294180e-321 4.69111518e-310\n",
            "     4.69109610e-310 0.00000000e+000]]\n",
            "\n",
            "   [[5.58788245e-321 4.69111518e-310 4.69109610e-310 4.69111518e-310\n",
            "     4.69109610e-310 4.69111518e-310]\n",
            "    [4.69109610e-310 4.69111518e-310 2.16209939e+233 4.69111518e-310\n",
            "     8.06358401e-313 4.69111518e-310]\n",
            "    [4.69109610e-310 4.69111518e-310 4.69109610e-310 4.69111518e-310\n",
            "     4.69109610e-310 4.69111518e-310]\n",
            "    [4.69109610e-310 4.69111518e-310 4.69109610e-310 4.69111518e-310\n",
            "     4.69109610e-310 4.69111518e-310]\n",
            "    [4.69109610e-310 6.52557201e-310 0.00000000e+000 5.82659409e+252\n",
            "     7.42698527e-313 7.63918485e-313]]\n",
            "\n",
            "   [[4.69109610e-310 6.52557201e-310 0.00000000e+000 7.87274231e+276\n",
            "     7.42698527e-313 7.63918485e-313]\n",
            "    [4.69109610e-310 4.69111518e-310 9.38724727e-323 4.69111518e-310\n",
            "     4.69109610e-310 4.69111518e-310]\n",
            "    [4.69109610e-310 4.69111518e-310 5.51871326e-321 4.69111518e-310\n",
            "     8.06358401e-313 4.69111518e-310]\n",
            "    [4.69109610e-310 4.69111518e-310 4.69109610e-310 4.69111518e-310\n",
            "     6.52556146e-310 4.69111518e-310]\n",
            "    [3.08829362e+262 4.69111518e-310 2.33419542e-313 4.69111518e-310\n",
            "     6.52556146e-310 4.69111518e-310]]]\n",
            "\n",
            "\n",
            "  [[[4.07475430e+223 4.69111518e-310 2.33419537e-313 0.00000000e+000\n",
            "     6.52556146e-310 4.69111518e-310]\n",
            "    [2.59345405e+161 4.69111518e-310 2.33419543e-313 4.69111518e-310\n",
            "     4.69109610e-310 4.69111518e-310]\n",
            "    [4.69109610e-310 4.69111518e-310 4.69109610e-310 4.69111518e-310\n",
            "     4.69109610e-310 4.69111518e-310]\n",
            "    [4.69109610e-310 4.69111518e-310 4.11083769e+223 4.69111518e-310\n",
            "     4.11083769e+223 4.69111518e-310]\n",
            "    [3.10569673e-115 4.69111518e-310 1.33733633e+160 4.69111518e-310\n",
            "     4.07344819e+223 6.52557201e-310]]\n",
            "\n",
            "   [[0.00000000e+000 4.69111518e-310 8.06358401e-313 8.27578358e-313\n",
            "     6.03394287e-154 6.52557201e-310]\n",
            "    [0.00000000e+000 4.69111518e-310 8.06358401e-313 8.27578358e-313\n",
            "     3.40724714e-085 4.69111518e-310]\n",
            "    [9.45312910e+218 4.69111518e-310 1.96567525e-062 4.69111518e-310\n",
            "     4.89583891e-085 4.69111518e-310]\n",
            "    [6.52556146e-310 4.69111518e-310 4.69109610e-310 4.69111518e-310\n",
            "     1.90979627e-313 4.69111518e-310]\n",
            "    [1.09937741e+248 4.69111518e-310 6.79616044e+199 4.69111518e-310\n",
            "     2.54639495e-313 4.69111518e-310]]\n",
            "\n",
            "   [[7.35413830e+223 4.69111518e-310 6.52556146e-310 4.69111518e-310\n",
            "     1.90979627e-313 4.69111518e-310]\n",
            "    [1.71897966e+161 0.00000000e+000 4.69109610e-310 4.69111518e-310\n",
            "     1.90979621e-313 4.69111518e-310]\n",
            "    [2.42838183e+198 4.69111518e-310 2.97324820e+222 4.69111518e-310\n",
            "     1.90979627e-313 4.69111518e-310]\n",
            "    [4.24510087e+175 4.69111518e-310 5.28556148e+180 4.69111518e-310\n",
            "     4.08139294e+223 4.69111518e-310]\n",
            "    [4.07686128e+223 4.69111518e-310 1.24475901e+136 4.69111518e-310\n",
            "     6.50949491e+252 4.69111518e-310]]\n",
            "\n",
            "   [[1.23762412e+224 4.69111518e-310 1.02190102e-152 6.52557201e-310\n",
            "     0.00000000e+000 4.69111518e-310]\n",
            "    [8.70018274e-313 8.91238232e-313 1.81148183e-152 6.52557201e-310\n",
            "     0.00000000e+000 4.69111518e-310]\n",
            "    [8.70018274e-313 8.91238232e-313 5.28626893e-085 4.69111518e-310\n",
            "     3.02875096e-152 4.69111518e-310]\n",
            "    [4.69109610e-310 4.69111518e-310 2.45943152e+198 4.69111518e-310\n",
            "     3.03388767e-152 4.69111518e-310]\n",
            "    [8.27578359e-313 4.69111518e-310 4.69109610e-310 4.69111518e-310\n",
            "     4.69109610e-310 4.69111518e-310]]]\n",
            "\n",
            "\n",
            "  [[[4.69109610e-310 4.69111518e-310 9.71188794e+189 4.69111518e-310\n",
            "     2.45127616e+198 4.69111518e-310]\n",
            "    [1.13635099e-322 4.69111518e-310 1.48219694e-323 4.69111518e-310\n",
            "     4.69111518e-310 4.69111518e-310]\n",
            "    [4.69111518e-310 1.97626258e-323 4.69111518e-310 4.69111518e-310\n",
            "     4.69111518e-310 4.69111518e-310]\n",
            "    [4.69111518e-310 2.47032823e-323 4.69111518e-310 4.69111518e-310\n",
            "     4.69111518e-310 4.69111518e-310]\n",
            "    [4.69111518e-310 4.69111518e-310 1.39806834e-152 4.69111518e-310\n",
            "     4.94065646e-324 1.27319747e-313]]\n",
            "\n",
            "   [[5.94158821e-313 9.12458190e-313 1.48219694e-323 4.69111518e-310\n",
            "     4.69111518e-310 4.69111518e-310]\n",
            "    [4.69111518e-310 1.97626258e-323 4.69111518e-310 4.69111518e-310\n",
            "     4.69111518e-310 4.69111518e-310]\n",
            "    [4.69111518e-310 2.47032823e-323 4.69111518e-310 4.69111518e-310\n",
            "     4.69111518e-310 4.69111518e-310]\n",
            "    [4.69111518e-310 4.69111518e-310 1.97632784e+166 4.69111518e-310\n",
            "     2.54639495e-313 3.60739284e-313]\n",
            "    [5.94158821e-313 9.12458190e-313 6.52556146e-310 4.69111518e-310\n",
            "     1.90979621e-313 4.69111518e-310]]\n",
            "\n",
            "   [[1.21873014e+045 4.69111518e-310 3.58252411e+246 4.69111518e-310\n",
            "     4.47593775e-091 4.69111518e-310]\n",
            "    [4.47593775e-091 4.69111518e-310 9.27147793e+199 4.69111518e-310\n",
            "     4.24438835e+175 4.69111518e-310]\n",
            "    [4.53079529e-090 4.69111518e-310 3.87204069e+228 4.69111518e-310\n",
            "     6.01114924e+175 4.69111518e-310]\n",
            "    [1.58062418e+190 4.69111518e-310 6.52557202e-310 4.69111518e-310\n",
            "     4.66839074e-313 9.12458190e-313]\n",
            "    [4.69111518e-310 4.69109610e-310 0.00000000e+000 4.69111518e-310\n",
            "     0.00000000e+000 4.94065646e-324]]\n",
            "\n",
            "   [[4.69111518e-310 4.69111518e-310 2.72882320e+079 6.52557202e-310\n",
            "     2.25884831e+137 4.69111518e-310]\n",
            "    [4.66839074e-313 5.72938864e-313 6.52557202e-310 4.69111518e-310\n",
            "     4.66839074e-313 9.12458190e-313]\n",
            "    [4.69111518e-310 4.69109610e-310 0.00000000e+000 4.69111518e-310\n",
            "     0.00000000e+000 4.94065646e-324]\n",
            "    [4.69111518e-310 4.69111518e-310 4.94065646e-324 4.69111518e-310\n",
            "     4.69111518e-310 4.69109610e-310]\n",
            "    [4.69111365e-310 0.00000000e+000 4.69111518e-310 4.66839074e-313\n",
            "     9.12458190e-313 3.99732606e+252]]]]]\n",
            "\n",
            "Number of dimensions: 5\n"
          ]
        }
      ]
    },
    {
      "cell_type": "markdown",
      "source": [
        "(ii). ***Using NumPy, Sort a boolean array***"
      ],
      "metadata": {
        "id": "2OUbzzjAp60X"
      }
    },
    {
      "cell_type": "code",
      "source": [
        "import numpy as np\n",
        "\n",
        "# Create a boolean array\n",
        "boolean_array = np.array([True, False, True, False, True])\n",
        "\n",
        "# Sort the boolean array\n",
        "sorted_boolean_array = np.sort(boolean_array)\n",
        "\n",
        "# Display the original and sorted arrays\n",
        "print(\"Original boolean array:\")\n",
        "print(boolean_array)\n",
        "\n",
        "print(\"\\nSorted boolean array:\")\n",
        "print(sorted_boolean_array)\n",
        "\n",
        "sorted_boolean_array_reverse = np.sort(boolean_array)[::-1]\n",
        "\n",
        "# Display the reverse sorted boolean array\n",
        "print(\"\\nReverse sorted boolean array:\")\n",
        "print(sorted_boolean_array_reverse)\n",
        "\n"
      ],
      "metadata": {
        "colab": {
          "base_uri": "https://localhost:8080/"
        },
        "id": "XzKfQiUnqAbX",
        "outputId": "4867be73-b885-4340-dd48-4ca246900498"
      },
      "execution_count": null,
      "outputs": [
        {
          "output_type": "stream",
          "name": "stdout",
          "text": [
            "Original boolean array:\n",
            "[ True False  True False  True]\n",
            "\n",
            "Sorted boolean array:\n",
            "[False False  True  True  True]\n",
            "\n",
            "Reverse sorted boolean array:\n",
            "[ True  True  True False False]\n"
          ]
        }
      ]
    },
    {
      "cell_type": "markdown",
      "source": [
        "#(4). ***TASK 3 , QUESTION 16.***"
      ],
      "metadata": {
        "id": "6814MDf_oSSg"
      }
    },
    {
      "cell_type": "markdown",
      "source": [
        "***Write a Pandas program to check for inequality of two given DataFrames.***"
      ],
      "metadata": {
        "id": "IWs95tX1omE9"
      }
    },
    {
      "cell_type": "code",
      "source": [
        "import pandas as pd\n",
        "import numpy as np\n",
        "\n",
        "# Sample DataFrames creation\n",
        "data1 = {'W': [68.0, 75.0, 86.0, 80.0, np.nan],\n",
        "         'X': [78.0, 85.0, np.nan, 80.0, 86.0],\n",
        "         'Y': [84, 94, 89, 83, 86],\n",
        "         'Z': [86, 97, 96, 72, 83]}\n",
        "\n",
        "data2 = {'W': [78.0, 75.0, 86.0, 80.0, np.nan],\n",
        "         'X': [78, 85, 96, 80, 76],\n",
        "         'Y': [84, 84, 89, 83, 86],\n",
        "         'Z': [86, 97, 96, 72, 83]}\n",
        "\n",
        "df1 = pd.DataFrame(data1)\n",
        "df2 = pd.DataFrame(data2)\n",
        "\n",
        "# Display the original DataFrames\n",
        "print(\"Original DataFrames:\")\n",
        "print(df1)\n",
        "print(df2)\n",
        "\n",
        "# Check for inequality of the DataFrames\n",
        "inequality_result = df1 != df2\n",
        "\n",
        "# Display the result\n",
        "print(\"\\nCheck for inequality of the said dataframes:\")\n",
        "print(inequality_result)\n"
      ],
      "metadata": {
        "colab": {
          "base_uri": "https://localhost:8080/"
        },
        "id": "77A9kgMHq79e",
        "outputId": "8bb8148c-8c22-4e8b-de69-36bdc6db0b1f"
      },
      "execution_count": null,
      "outputs": [
        {
          "output_type": "stream",
          "name": "stdout",
          "text": [
            "Original DataFrames:\n",
            "      W     X   Y   Z\n",
            "0  68.0  78.0  84  86\n",
            "1  75.0  85.0  94  97\n",
            "2  86.0   NaN  89  96\n",
            "3  80.0  80.0  83  72\n",
            "4   NaN  86.0  86  83\n",
            "      W   X   Y   Z\n",
            "0  78.0  78  84  86\n",
            "1  75.0  85  84  97\n",
            "2  86.0  96  89  96\n",
            "3  80.0  80  83  72\n",
            "4   NaN  76  86  83\n",
            "\n",
            "Check for inequality of the said dataframes:\n",
            "       W      X      Y      Z\n",
            "0   True  False  False  False\n",
            "1  False  False   True  False\n",
            "2  False   True  False  False\n",
            "3  False  False  False  False\n",
            "4   True   True  False  False\n"
          ]
        }
      ]
    },
    {
      "cell_type": "markdown",
      "source": [
        "#(5). ***TASK 4, QUESTION 5.***"
      ],
      "metadata": {
        "id": "NR96tLJ5onwt"
      }
    },
    {
      "cell_type": "markdown",
      "source": [
        "**Write a Pandas program to get the first 3 rows of a given DataFrame**.              \n",
        "*Sample Python dictionary data and list labels*:\n",
        "\n",
        "*exam_data = {'name': ['Anastasia', 'Dima', 'Katherine', 'James', 'Emily', 'Michael', 'Matthew', 'Laura',\n",
        "'Kevin', 'Jonas'],\n",
        "'score': [12.5, 9, 16.5, np.nan, 9, 20, 14.5, np.nan, 8, 19],\n",
        "'attempts': [1, 3, 2, 3, 2, 3, 1, 1, 2, 1],\n",
        "'qualify': ['yes', 'no', 'yes', 'no', 'no', 'yes', 'yes', 'no', 'no', 'yes']}\n",
        "labels = ['a', 'b', 'c', 'd', 'e', 'f', 'g', 'h', 'i', 'j']*"
      ],
      "metadata": {
        "id": "l4hOde9HooLV"
      }
    },
    {
      "cell_type": "code",
      "source": [
        "import pandas as pd\n",
        "import numpy as np\n",
        "\n",
        "# Sample data and labels\n",
        "exam_data = {'name': ['Anastasia', 'Dima', 'Katherine', 'James', 'Emily', 'Michael', 'Matthew', 'Laura', 'Kevin', 'Jonas'],\n",
        "             'score': [12.5, 9, 16.5, np.nan, 9, 20, 14.5, np.nan, 8, 19],\n",
        "             'attempts': [1, 3, 2, 3, 2, 3, 1, 1, 2, 1],\n",
        "             'qualify': ['yes', 'no', 'yes', 'no', 'no', 'yes', 'yes', 'no', 'no', 'yes']}\n",
        "labels = ['a', 'b', 'c', 'd', 'e', 'f', 'g', 'h', 'i', 'j']\n",
        "\n",
        "# Create DataFrame\n",
        "df = pd.DataFrame(exam_data, index=labels)\n",
        "\n",
        "# Get the first 3 rows\n",
        "first_three_rows = df.head(3)\n",
        "\n",
        "# Display the result\n",
        "print(\"First three rows of the data frame:\")\n",
        "print(first_three_rows)\n"
      ],
      "metadata": {
        "colab": {
          "base_uri": "https://localhost:8080/"
        },
        "id": "3rSOkSdZrxOl",
        "outputId": "2c4a335e-5230-4fcc-b8ec-166808b5dfcf"
      },
      "execution_count": null,
      "outputs": [
        {
          "output_type": "stream",
          "name": "stdout",
          "text": [
            "First three rows of the data frame:\n",
            "        name  score  attempts qualify\n",
            "a  Anastasia   12.5         1     yes\n",
            "b       Dima    9.0         3      no\n",
            "c  Katherine   16.5         2     yes\n"
          ]
        }
      ]
    },
    {
      "cell_type": "markdown",
      "source": [
        "#(6). ***TASK 2, QUESTION 10.***"
      ],
      "metadata": {
        "id": "5payhWMAozsX"
      }
    },
    {
      "cell_type": "markdown",
      "source": [
        "***USING PANDAS LIBRARY***,\n",
        "\n",
        "(i).Load the iris.CSV file\n",
        "\n",
        "(ii).Convert it into the data frame and read it .\n",
        "\n",
        "(iii).Display records only with species \"Iris-setosa\"."
      ],
      "metadata": {
        "id": "7lMazD9_o7iY"
      }
    },
    {
      "cell_type": "code",
      "source": [
        "import pandas as pd\n",
        "\n",
        "# (i) Load the iris.CSV file\n",
        "iris_data = pd.read_csv('/content/Iris.csv')  # Replace 'iris.csv' with the actual file path if it's in a different location\n"
      ],
      "metadata": {
        "id": "NsOWzSHRvPjt"
      },
      "execution_count": null,
      "outputs": []
    },
    {
      "cell_type": "code",
      "source": [
        "# (ii) Convert it into a data frame and read it\n",
        "iris_df = pd.DataFrame(iris_data)"
      ],
      "metadata": {
        "id": "elh4OvwYwmdk"
      },
      "execution_count": null,
      "outputs": []
    },
    {
      "cell_type": "code",
      "source": [
        "# (iii) Display records only with species \"Iris-setosa\"\n",
        "iris_setosa_records = iris_df[iris_df['Species'] == 'Iris-setosa']\n"
      ],
      "metadata": {
        "id": "91_iNWbxwr5b"
      },
      "execution_count": null,
      "outputs": []
    },
    {
      "cell_type": "code",
      "source": [
        "# Display the resulting DataFrame\n",
        "print(iris_setosa_records)"
      ],
      "metadata": {
        "colab": {
          "base_uri": "https://localhost:8080/"
        },
        "id": "OEky1kqKwvG9",
        "outputId": "103b5d50-9961-4f7b-a726-84d17ef22edf"
      },
      "execution_count": null,
      "outputs": [
        {
          "output_type": "stream",
          "name": "stdout",
          "text": [
            "    Id  SepalLengthCm  SepalWidthCm  PetalLengthCm  PetalWidthCm      Species\n",
            "0    1            5.1           3.5            1.4           0.2  Iris-setosa\n",
            "1    2            4.9           3.0            1.4           0.2  Iris-setosa\n",
            "2    3            4.7           3.2            1.3           0.2  Iris-setosa\n",
            "3    4            4.6           3.1            1.5           0.2  Iris-setosa\n",
            "4    5            5.0           3.6            1.4           0.2  Iris-setosa\n",
            "5    6            5.4           3.9            1.7           0.4  Iris-setosa\n",
            "6    7            4.6           3.4            1.4           0.3  Iris-setosa\n",
            "7    8            5.0           3.4            1.5           0.2  Iris-setosa\n",
            "8    9            4.4           2.9            1.4           0.2  Iris-setosa\n",
            "9   10            4.9           3.1            1.5           0.1  Iris-setosa\n",
            "10  11            5.4           3.7            1.5           0.2  Iris-setosa\n",
            "11  12            4.8           3.4            1.6           0.2  Iris-setosa\n",
            "12  13            4.8           3.0            1.4           0.1  Iris-setosa\n",
            "13  14            4.3           3.0            1.1           0.1  Iris-setosa\n",
            "14  15            5.8           4.0            1.2           0.2  Iris-setosa\n",
            "15  16            5.7           4.4            1.5           0.4  Iris-setosa\n",
            "16  17            5.4           3.9            1.3           0.4  Iris-setosa\n",
            "17  18            5.1           3.5            1.4           0.3  Iris-setosa\n",
            "18  19            5.7           3.8            1.7           0.3  Iris-setosa\n",
            "19  20            5.1           3.8            1.5           0.3  Iris-setosa\n",
            "20  21            5.4           3.4            1.7           0.2  Iris-setosa\n",
            "21  22            5.1           3.7            1.5           0.4  Iris-setosa\n",
            "22  23            4.6           3.6            1.0           0.2  Iris-setosa\n",
            "23  24            5.1           3.3            1.7           0.5  Iris-setosa\n",
            "24  25            4.8           3.4            1.9           0.2  Iris-setosa\n",
            "25  26            5.0           3.0            1.6           0.2  Iris-setosa\n",
            "26  27            5.0           3.4            1.6           0.4  Iris-setosa\n",
            "27  28            5.2           3.5            1.5           0.2  Iris-setosa\n",
            "28  29            5.2           3.4            1.4           0.2  Iris-setosa\n",
            "29  30            4.7           3.2            1.6           0.2  Iris-setosa\n",
            "30  31            4.8           3.1            1.6           0.2  Iris-setosa\n",
            "31  32            5.4           3.4            1.5           0.4  Iris-setosa\n",
            "32  33            5.2           4.1            1.5           0.1  Iris-setosa\n",
            "33  34            5.5           4.2            1.4           0.2  Iris-setosa\n",
            "34  35            4.9           3.1            1.5           0.1  Iris-setosa\n",
            "35  36            5.0           3.2            1.2           0.2  Iris-setosa\n",
            "36  37            5.5           3.5            1.3           0.2  Iris-setosa\n",
            "37  38            4.9           3.1            1.5           0.1  Iris-setosa\n",
            "38  39            4.4           3.0            1.3           0.2  Iris-setosa\n",
            "39  40            5.1           3.4            1.5           0.2  Iris-setosa\n",
            "40  41            5.0           3.5            1.3           0.3  Iris-setosa\n",
            "41  42            4.5           2.3            1.3           0.3  Iris-setosa\n",
            "42  43            4.4           3.2            1.3           0.2  Iris-setosa\n",
            "43  44            5.0           3.5            1.6           0.6  Iris-setosa\n",
            "44  45            5.1           3.8            1.9           0.4  Iris-setosa\n",
            "45  46            4.8           3.0            1.4           0.3  Iris-setosa\n",
            "46  47            5.1           3.8            1.6           0.2  Iris-setosa\n",
            "47  48            4.6           3.2            1.4           0.2  Iris-setosa\n",
            "48  49            5.3           3.7            1.5           0.2  Iris-setosa\n",
            "49  50            5.0           3.3            1.4           0.2  Iris-setosa\n"
          ]
        }
      ]
    }
  ]
}